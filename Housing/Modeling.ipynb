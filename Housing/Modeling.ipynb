{
 "cells": [
  {
   "cell_type": "markdown",
   "metadata": {},
   "source": [
    "# First attempt on housing"
   ]
  },
  {
   "cell_type": "markdown",
   "metadata": {},
   "source": [
    "### In this notebook I will have a quick look at the data and attempt to model with XGBoost:\n",
    "\n",
    "##### I will try different hyper parameters and compare the results.<br>In addition, I will compare the usage of three different datasets:\n",
    "> - A dataset out of the box\n",
    "> - A dataset where I set all the relevant nans to None\n",
    "> - A dataset where I treated the missing data as another prediction task, hence the dataset has no missing values, all values have been predicted with a pretrained model."
   ]
  },
  {
   "cell_type": "code",
   "execution_count": 1,
   "metadata": {},
   "outputs": [
    {
     "name": "stdout",
     "output_type": "stream",
     "text": [
      "<class 'pandas.core.frame.DataFrame'>\n",
      "RangeIndex: 1460 entries, 0 to 1459\n",
      "Data columns (total 82 columns):\n",
      "Unnamed: 0       1460 non-null int64\n",
      "Id               1460 non-null int64\n",
      "MSSubClass       1460 non-null float64\n",
      "MSZoning         1460 non-null object\n",
      "LotFrontage      1460 non-null float64\n",
      "LotArea          1460 non-null float64\n",
      "Street           1460 non-null object\n",
      "Alley            1460 non-null object\n",
      "LotShape         1460 non-null object\n",
      "LandContour      1460 non-null object\n",
      "Utilities        1460 non-null object\n",
      "LotConfig        1460 non-null object\n",
      "LandSlope        1460 non-null object\n",
      "Neighborhood     1460 non-null object\n",
      "Condition1       1460 non-null object\n",
      "Condition2       1460 non-null object\n",
      "BldgType         1460 non-null object\n",
      "HouseStyle       1460 non-null object\n",
      "OverallQual      1460 non-null int64\n",
      "OverallCond      1460 non-null int64\n",
      "YearBuilt        1460 non-null int64\n",
      "YearRemodAdd     1460 non-null int64\n",
      "RoofStyle        1460 non-null object\n",
      "RoofMatl         1460 non-null object\n",
      "Exterior1st      1460 non-null object\n",
      "Exterior2nd      1460 non-null object\n",
      "MasVnrType       1460 non-null object\n",
      "MasVnrArea       1460 non-null float64\n",
      "ExterQual        1460 non-null object\n",
      "ExterCond        1460 non-null object\n",
      "Foundation       1460 non-null object\n",
      "BsmtQual         1460 non-null object\n",
      "BsmtCond         1460 non-null object\n",
      "BsmtExposure     1460 non-null object\n",
      "BsmtFinType1     1460 non-null object\n",
      "BsmtFinSF1       1460 non-null float64\n",
      "BsmtFinType2     1460 non-null object\n",
      "BsmtFinSF2       1460 non-null float64\n",
      "BsmtUnfSF        1460 non-null float64\n",
      "TotalBsmtSF      1460 non-null float64\n",
      "Heating          1460 non-null object\n",
      "HeatingQC        1460 non-null object\n",
      "CentralAir       1460 non-null object\n",
      "Electrical       1460 non-null object\n",
      "1stFlrSF         1460 non-null float64\n",
      "2ndFlrSF         1460 non-null float64\n",
      "LowQualFinSF     1460 non-null float64\n",
      "GrLivArea        1460 non-null float64\n",
      "BsmtFullBath     1460 non-null float64\n",
      "BsmtHalfBath     1460 non-null float64\n",
      "FullBath         1460 non-null int64\n",
      "HalfBath         1460 non-null int64\n",
      "BedroomAbvGr     1460 non-null int64\n",
      "KitchenAbvGr     1460 non-null float64\n",
      "KitchenQual      1460 non-null object\n",
      "TotRmsAbvGrd     1460 non-null int64\n",
      "Functional       1460 non-null object\n",
      "Fireplaces       1460 non-null int64\n",
      "FireplaceQu      1460 non-null object\n",
      "GarageType       1460 non-null object\n",
      "GarageYrBlt      1460 non-null object\n",
      "GarageFinish     1460 non-null object\n",
      "GarageCars       1460 non-null float64\n",
      "GarageArea       1460 non-null float64\n",
      "GarageQual       1460 non-null object\n",
      "GarageCond       1460 non-null object\n",
      "PavedDrive       1460 non-null object\n",
      "WoodDeckSF       1460 non-null float64\n",
      "OpenPorchSF      1460 non-null float64\n",
      "EnclosedPorch    1460 non-null float64\n",
      "3SsnPorch        1460 non-null float64\n",
      "ScreenPorch      1460 non-null float64\n",
      "PoolArea         1460 non-null float64\n",
      "PoolQC           1460 non-null object\n",
      "Fence            1460 non-null object\n",
      "MiscFeature      1460 non-null object\n",
      "MiscVal          1460 non-null float64\n",
      "MoSold           1460 non-null int64\n",
      "YrSold           1460 non-null int64\n",
      "SaleType         1460 non-null object\n",
      "SaleCondition    1460 non-null object\n",
      "SalePrice        1460 non-null float64\n",
      "dtypes: float64(25), int64(13), object(44)\n",
      "memory usage: 935.4+ KB\n"
     ]
    }
   ],
   "source": [
    "%matplotlib inline\n",
    "import pandas as pd\n",
    "import numpy as np\n",
    "import seaborn as sns\n",
    "import matplotlib as mpl\n",
    "import matplotlib.pyplot as plt\n",
    "\n",
    "\n",
    "# when testing different datasets I will change the name given as an input to read_csv\n",
    "# the names of the datasets can be found in the current folder, along with this notebook\n",
    "train = pd.read_csv(\"filled_logTransformed_train.csv\")\n",
    "train = train.sample(frac=1).reset_index(drop=True)\n",
    "test = pd.read_csv(\"filled_logTransformed_test.csv\")\n",
    "train.info()"
   ]
  },
  {
   "cell_type": "code",
   "execution_count": 2,
   "metadata": {},
   "outputs": [],
   "source": [
    "prices = pd.DataFrame({\"price\":train[\"SalePrice\"], \"log(price + 1)\":np.log1p(train[\"SalePrice\"])})\n",
    "prices.hist()"
   ]
  },
  {
   "cell_type": "code",
   "execution_count": 3,
   "metadata": {
    "scrolled": true
   },
   "outputs": [],
   "source": [
    "from scipy.stats import skew\n",
    "\n",
    "all_data = pd.concat((train.loc[:,'MSSubClass':'SaleCondition'],\n",
    "                      test.loc[:,'MSSubClass':'SaleCondition']))\n",
    "numeric_feats = all_data.dtypes[all_data.dtypes != \"object\"].index\n",
    "skewed_feats = train[numeric_feats].apply(lambda x: skew(x.dropna())) #compute skewness\n",
    "skewed_feats = skewed_feats[skewed_feats > 0.75]\n",
    "skewed_feats = skewed_feats.index\n",
    "skewed_feats"
   ]
  },
  {
   "cell_type": "code",
   "execution_count": 4,
   "metadata": {
    "scrolled": true
   },
   "outputs": [],
   "source": [
    "train[\"SalePrice\"] = np.log1p(train[\"SalePrice\"])\n",
    "LotFrontage = pd.DataFrame({\"LotFrontage\":train[\"LotFrontage\"], \"log(LotFrontage + 1)\":np.log1p(train[\"LotFrontage\"])})\n",
    "sns.regplot(train['LotFrontage'], train['SalePrice'])\n",
    "plt.show()\n",
    "plt.clf()\n",
    "sns.regplot(np.log1p(train[\"LotFrontage\"]), train['SalePrice'])"
   ]
  },
  {
   "cell_type": "code",
   "execution_count": 5,
   "metadata": {
    "scrolled": false
   },
   "outputs": [],
   "source": [
    "all_data[skewed_feats] = np.log1p(all_data[skewed_feats])"
   ]
  },
  {
   "cell_type": "code",
   "execution_count": 6,
   "metadata": {},
   "outputs": [],
   "source": [
    "creating matrices for sklearn:\n",
    "X_train = all_data[:train.shape[0]]\n",
    "X_test = all_data[train.shape[0]:]\n",
    "y = train.SalePrice\n",
    "X_train = train.loc[:,'Id':'SalePrice']\n",
    "X_test = test\n",
    "y = train.SalePrice"
   ]
  },
  {
   "cell_type": "code",
   "execution_count": 7,
   "metadata": {
    "scrolled": false
   },
   "outputs": [],
   "source": [
    "sns.set(style=\"whitegrid\", color_codes=True)\n",
    "\n",
    "for predictor in train.columns:\n",
    "    print(\"plotting: \" + predictor)\n",
    "    print(train[predictor].dtype.name)\n",
    "    fig, ax = plt.subplots()\n",
    "    # the size of A4 paper\n",
    "    f = fig.set_size_inches(11.7, 8.27)\n",
    "    if train[predictor].dtype.name == \"object\":\n",
    "        g = sns.stripplot(x=train[predictor], y=y, ax=ax)\n",
    "    else:\n",
    "        g = sns.regplot(x=train[predictor], y=y, ax=ax)\n",
    "    plt.xticks(rotation=45)\n",
    "    plt.show()\n",
    "    plt.clf()"
   ]
  },
  {
   "cell_type": "code",
   "execution_count": 8,
   "metadata": {},
   "outputs": [
    {
     "data": {
      "text/plain": [
       "Index(['Unnamed: 0', 'Id', 'MSSubClass', 'LotFrontage', 'LotArea',\n",
       "       'OverallQual', 'OverallCond', 'YearBuilt', 'YearRemodAdd', 'MasVnrArea',\n",
       "       'BsmtFinSF1', 'BsmtFinSF2', 'BsmtUnfSF', 'TotalBsmtSF', '1stFlrSF',\n",
       "       '2ndFlrSF', 'LowQualFinSF', 'GrLivArea', 'BsmtFullBath', 'BsmtHalfBath',\n",
       "       'FullBath', 'HalfBath', 'BedroomAbvGr', 'KitchenAbvGr', 'TotRmsAbvGrd',\n",
       "       'Fireplaces', 'GarageCars', 'GarageArea', 'WoodDeckSF', 'OpenPorchSF',\n",
       "       'EnclosedPorch', '3SsnPorch', 'ScreenPorch', 'PoolArea', 'MiscVal',\n",
       "       'MoSold', 'YrSold', 'SalePrice'],\n",
       "      dtype='object')"
      ]
     },
     "execution_count": 8,
     "metadata": {},
     "output_type": "execute_result"
    }
   ],
   "source": [
    "cols = train.columns\n",
    "num_cols = train._get_numeric_data().columns\n",
    "num_cols"
   ]
  },
  {
   "cell_type": "code",
   "execution_count": 9,
   "metadata": {
    "scrolled": true
   },
   "outputs": [
    {
     "data": {
      "text/plain": [
       "['HouseStyle',\n",
       " 'BldgType',\n",
       " 'Street',\n",
       " 'BsmtFinType2',\n",
       " 'BsmtExposure',\n",
       " 'HeatingQC',\n",
       " 'Fence',\n",
       " 'GarageFinish',\n",
       " 'Neighborhood',\n",
       " 'ExterQual',\n",
       " 'GarageYrBlt',\n",
       " 'PoolQC',\n",
       " 'Condition2',\n",
       " 'Exterior2nd',\n",
       " 'SaleType',\n",
       " 'RoofStyle',\n",
       " 'Alley',\n",
       " 'FireplaceQu',\n",
       " 'MSZoning',\n",
       " 'LotConfig',\n",
       " 'SaleCondition',\n",
       " 'GarageCond',\n",
       " 'Heating',\n",
       " 'BsmtCond',\n",
       " 'ExterCond',\n",
       " 'GarageType',\n",
       " 'MiscFeature',\n",
       " 'KitchenQual',\n",
       " 'Condition1',\n",
       " 'BsmtFinType1',\n",
       " 'Foundation',\n",
       " 'RoofMatl',\n",
       " 'BsmtQual',\n",
       " 'GarageQual',\n",
       " 'LandContour',\n",
       " 'CentralAir',\n",
       " 'LotShape',\n",
       " 'LandSlope',\n",
       " 'MasVnrType',\n",
       " 'Utilities',\n",
       " 'Functional',\n",
       " 'PavedDrive',\n",
       " 'Exterior1st',\n",
       " 'Electrical']"
      ]
     },
     "execution_count": 9,
     "metadata": {},
     "output_type": "execute_result"
    }
   ],
   "source": [
    "categoricals = list(set(cols) -  set(num_cols))\n",
    "categoricals"
   ]
  },
  {
   "cell_type": "code",
   "execution_count": 10,
   "metadata": {
    "scrolled": true
   },
   "outputs": [],
   "source": [
    "train['FireplaceQu'].value_counts()"
   ]
  },
  {
   "cell_type": "code",
   "execution_count": 11,
   "metadata": {},
   "outputs": [],
   "source": [
    "X_train = pd.get_dummies(X_train, drop_first=True)\n",
    "X_test = pd.get_dummies(X_test, drop_first=True)"
   ]
  },
  {
   "cell_type": "code",
   "execution_count": 12,
   "metadata": {},
   "outputs": [
    {
     "data": {
      "text/plain": [
       "False"
      ]
     },
     "execution_count": 12,
     "metadata": {},
     "output_type": "execute_result"
    }
   ],
   "source": [
    "train.isnull().values.any()"
   ]
  },
  {
   "cell_type": "code",
   "execution_count": 13,
   "metadata": {},
   "outputs": [],
   "source": [
    "train.columns[train.isna().any()].tolist()"
   ]
  },
  {
   "cell_type": "code",
   "execution_count": 14,
   "metadata": {
    "scrolled": true
   },
   "outputs": [],
   "source": [
    "X_train.loc[:, X_train.isna().any()]"
   ]
  },
  {
   "cell_type": "code",
   "execution_count": 15,
   "metadata": {},
   "outputs": [],
   "source": [
    "X_train = X_train.dropna()\n",
    "X_test.dropna(inplace=True)\n",
    "y.drop(axis=0, index = y.index.delete(X_train.index), inplace=True)\n",
    "print(X_train.shape)\n",
    "print(y.index.delete(X_train.index))\n",
    "y.shape"
   ]
  },
  {
   "cell_type": "code",
   "execution_count": 16,
   "metadata": {},
   "outputs": [
    {
     "name": "stderr",
     "output_type": "stream",
     "text": [
      "C:\\Anaconda3\\envs\\deeplearning\\lib\\site-packages\\sklearn\\cross_validation.py:41: DeprecationWarning: This module was deprecated in version 0.18 in favor of the model_selection module into which all the refactored classes and functions are moved. Also note that the interface of the new CV iterators are different from that of this module. This module will be removed in 0.20.\n",
      "  \"This module will be removed in 0.20.\", DeprecationWarning)\n"
     ]
    }
   ],
   "source": [
    "from xgboost import XGBClassifier\n",
    "from sklearn.metrics import mean_squared_error\n",
    "from sklearn.model_selection import train_test_split\n",
    "from sklearn.model_selection import cross_val_score\n",
    "X_train, X_test, y_train, y_test = train_test_split(X_train, y, train_size=0.75, test_size=0.25)\n",
    "\n",
    "def rmse_cv(model):\n",
    "    rmse= np.sqrt(-cross_val_score(model, X_train, y_train, scoring=\"neg_mean_squared_error\", cv = 5))\n",
    "    return(rmse)\n",
    "\n",
    "def run_model_tester(model, hyperPar=None):\n",
    "    model.fit(X_train, y_train)\n",
    "    print(\"finished fitting\")\n",
    "    y_pred = model.predict(X_test)\n",
    "    print(\"finished test predicting\")\n",
    "    predictions = [round(value) for value in y_pred]\n",
    "    print(\"got test predictions\")\n",
    "    accuracy = mean_squared_error(y_test, predictions)\n",
    "    print(\"test accuracy: \" + str(accuracy))\n",
    "    y_train_pred = model.predict(X_train)\n",
    "    print(\"finnished train predicting\")\n",
    "    train_pred = predictions = [round(value) for value in y_train_pred]\n",
    "    print(\"got train predictions\")\n",
    "    accuracy_train = mean_squared_error(y_train, train_pred)\n",
    "    print(\"train accuracy: \" + str(accuracy_train))\n",
    "    \n",
    "#model = XGBClassifier(silent=False)\n",
    "#run_model_tester(model)"
   ]
  },
  {
   "cell_type": "code",
   "execution_count": 17,
   "metadata": {},
   "outputs": [],
   "source": [
    "#model.get_params"
   ]
  },
  {
   "cell_type": "markdown",
   "metadata": {},
   "source": [
    "It looks like we might have some overfitting with the above parameters, lets try to play with them to account for this overfitting.\n",
    "we will:\n",
    "> - decrease subsample\n",
    "> - "
   ]
  },
  {
   "cell_type": "code",
   "execution_count": 69,
   "metadata": {},
   "outputs": [],
   "source": [
    "subsamples = [0.01, 0.03, 0.05, 0.1, 0.15, 0.3, 0.5, 0.75]\n",
    "model = XGBClassifier(subsample=0.5, silent=False)\n",
    "cv = [rmse_cv(XGBClassifier(subsample=subsample, silent=False)).mean() \n",
    "            for subsample in subsamples]\n",
    "cv = pd.Series(cv, index = subsamples)\n",
    "cv.plot()\n",
    "run_model_tester(model)"
   ]
  },
  {
   "cell_type": "markdown",
   "metadata": {},
   "source": [
    "OK, that didnt work, now I have high bias...lets go back to the same subsample.\n",
    "This time we will try with some more prunning, increase gamma (default is zero)."
   ]
  },
  {
   "cell_type": "code",
   "execution_count": 70,
   "metadata": {},
   "outputs": [],
   "source": [
    "gammas = [0.05, 0.7, 1, 3, 5, 9, 15]\n",
    "cv = [rmse_cv(XGBClassifier(gamma=gamma, silent=False)).mean() \n",
    "            for gamma in gammas]\n",
    "cv = pd.Series(cv, index = gammas)\n",
    "cv.plot()"
   ]
  },
  {
   "cell_type": "markdown",
   "metadata": {},
   "source": [
    "that did not work either...\n",
    "perhaps I had high bias at first? (~80% is pretty low...)\n",
    "lets play with the number of trees"
   ]
  },
  {
   "cell_type": "code",
   "execution_count": 71,
   "metadata": {
    "scrolled": true
   },
   "outputs": [],
   "source": [
    "numbers = [1, 5, 15, 25, 50, 90, 150, 200, 250]\n",
    "cv = [rmse_cv(XGBClassifier(n_estimators=number, silent=False)).mean() \n",
    "            for number in numbers]\n",
    "cv = pd.Series(cv, index = numbers)\n",
    "cv.plot()\n",
    "\n",
    "model = XGBClassifier(silent=False, n_estimators=250)\n",
    "run_model_tester(model)"
   ]
  },
  {
   "cell_type": "markdown",
   "metadata": {},
   "source": [
    "looks  like the optimum is about 70"
   ]
  },
  {
   "cell_type": "code",
   "execution_count": 17,
   "metadata": {
    "scrolled": true
   },
   "outputs": [
    {
     "name": "stdout",
     "output_type": "stream",
     "text": [
      "mean_coross_root_mse: 0.169178104985\n",
      "finished fitting\n",
      "finished test predicting\n",
      "got test predictions\n",
      "test accuracy: 0.0938490446278\n",
      "finnished train predicting\n",
      "got train predictions\n",
      "train accuracy: 0.0867015805973\n"
     ]
    }
   ],
   "source": [
    "model = XGBClassifier(silent=False, n_estimators=70, gamma=0, subsample=1)\n",
    "mean_cross_root_mse = rmse_cv((model)).mean()\n",
    "print(\"mean_coross_root_mse: \" + str(mean_cross_root_mse))\n",
    "run_model_tester(model)"
   ]
  },
  {
   "cell_type": "code",
   "execution_count": 18,
   "metadata": {},
   "outputs": [],
   "source": [
    "model = XGBClassifier(silent=False, n_estimators=70, gamma=0, subsample=1)\n",
    "y_train = train['SalePrice']\n",
    "X_train = train.drop(['Id', 'SalePrice'], axis=1)\n",
    "train_objs_num = len(train)\n",
    "X_test = test.drop(['Id'], axis=1)\n",
    "dataset = pd.concat(objs=[X_train, X_test], axis=0)\n",
    "dataset_preprocessed = pd.get_dummies(dataset)\n",
    "train_preprocessed = dataset_preprocessed[:train_objs_num]\n",
    "test_preprocessed = dataset_preprocessed[train_objs_num:]\n",
    "\n",
    "model.fit(train_preprocessed, y_train)\n",
    "y_test = np.expm1(model.predict(test_preprocessed))\n",
    "result = pd.DataFrame()\n",
    "result['Id'] =  test['Id']\n",
    "result['SalePrice'] = y_test"
   ]
  },
  {
   "cell_type": "code",
   "execution_count": 19,
   "metadata": {},
   "outputs": [],
   "source": [
    "result.to_csv('submission_log.csv', index=False)"
   ]
  },
  {
   "cell_type": "code",
   "execution_count": 20,
   "metadata": {},
   "outputs": [
    {
     "name": "stdout",
     "output_type": "stream",
     "text": [
      "submission shape: (1459, 2)\n"
     ]
    }
   ],
   "source": [
    "submission = pd.read_csv('submission_log.csv')\n",
    "print(f'submission shape: {submission.shape}')"
   ]
  },
  {
   "cell_type": "markdown",
   "metadata": {},
   "source": [
    "using regular test train and dropping na:\n",
    "\n",
    "mean_coross_root_mse: 0.228500917516<br>\n",
    "finished fitting<br>\n",
    "finished test predicting<br>\n",
    "got test predictions<br>\n",
    "test accuracy: 0.147900682467<br>\n",
    "finnished train predicting<br>\n",
    "got train predictions<br>\n",
    "train accuracy: 0.101943189074"
   ]
  },
  {
   "cell_type": "markdown",
   "metadata": {},
   "source": [
    "using a dest where the  relevant NA were casted to be categories:\n",
    "\n",
    "mean_coross_root_mse: 0.249941928588<br>\n",
    "finished fitting<br>\n",
    "finished test predicting<br>\n",
    "got test predictions<br>\n",
    "test accuracy: 0.146362743587<br>\n",
    "finnished train predicting<br>\n",
    "got train predictions<br>\n",
    "train accuracy: 0.106929547729"
   ]
  },
  {
   "cell_type": "markdown",
   "metadata": {},
   "source": [
    "using data set where all nans were predicted by sgboost:<br>\n",
    "\n",
    "mean_coross_root_mse: 0.254845349273<br>\n",
    "finished fitting<br>\n",
    "finished test predicting<br>\n",
    "got test predictions<br>\n",
    "test accuracy: 0.125041892642<br>\n",
    "finnished train predicting<br>\n",
    "got train predictions<br>\n",
    "train accuracy: 0.100555859303<br>\n",
    "\n",
    "it looks like the cross  validation here is worse but the test accuracy and the train accuracy are better."
   ]
  },
  {
   "cell_type": "markdown",
   "metadata": {},
   "source": [
    "after logged:\n",
    "mean_coross_root_mse: 0.169178104985<br>\n",
    "finished fitting<br>\n",
    "finished test predicting<br>\n",
    "got test predictions<br>\n",
    "test accuracy: 0.0938490446278<br>\n",
    "finnished train predicting<br>\n",
    "got train predictions<br>\n",
    "train accuracy: 0.0867015805973<br>\n",
    "\n",
    "yay!"
   ]
  }
 ],
 "metadata": {
  "kernelspec": {
   "display_name": "Python 3",
   "language": "python",
   "name": "python3"
  },
  "language_info": {
   "codemirror_mode": {
    "name": "ipython",
    "version": 3
   },
   "file_extension": ".py",
   "mimetype": "text/x-python",
   "name": "python",
   "nbconvert_exporter": "python",
   "pygments_lexer": "ipython3",
   "version": "3.6.4"
  }
 },
 "nbformat": 4,
 "nbformat_minor": 2
}
