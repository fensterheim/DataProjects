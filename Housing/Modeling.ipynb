{
 "cells": [
  {
   "cell_type": "markdown",
   "metadata": {},
   "source": [
    "# First attempt on housing"
   ]
  },
  {
   "cell_type": "markdown",
   "metadata": {},
   "source": [
    "### In this notebook I will have a quick look at the data and attempt to model with XGBoost:\n",
    "\n",
    "##### I will try different hyper parameters and compare the results.<br>In addition, I will compare the usage of three different datasets:\n",
    "> - A dataset out of the box\n",
    "> - A dataset where I set all the relevant nans to None\n",
    "> - A dataset where I treated the missing data as another prediction task, hence the dataset has no missing values, all values have been predicted with a pretrained model."
   ]
  },
  {
   "cell_type": "code",
   "execution_count": 77,
   "metadata": {},
   "outputs": [
    {
     "name": "stdout",
     "output_type": "stream",
     "text": [
      "<class 'pandas.core.frame.DataFrame'>\n",
      "RangeIndex: 1460 entries, 0 to 1459\n",
      "Data columns (total 82 columns):\n",
      "Unnamed: 0       1460 non-null int64\n",
      "Id               1460 non-null int64\n",
      "MSSubClass       1460 non-null int64\n",
      "MSZoning         1460 non-null object\n",
      "LotFrontage      1460 non-null float64\n",
      "LotArea          1460 non-null int64\n",
      "Street           1460 non-null object\n",
      "Alley            1460 non-null object\n",
      "LotShape         1460 non-null object\n",
      "LandContour      1460 non-null object\n",
      "Utilities        1460 non-null object\n",
      "LotConfig        1460 non-null object\n",
      "LandSlope        1460 non-null object\n",
      "Neighborhood     1460 non-null object\n",
      "Condition1       1460 non-null object\n",
      "Condition2       1460 non-null object\n",
      "BldgType         1460 non-null object\n",
      "HouseStyle       1460 non-null object\n",
      "OverallQual      1460 non-null int64\n",
      "OverallCond      1460 non-null int64\n",
      "YearBuilt        1460 non-null int64\n",
      "YearRemodAdd     1460 non-null int64\n",
      "RoofStyle        1460 non-null object\n",
      "RoofMatl         1460 non-null object\n",
      "Exterior1st      1460 non-null object\n",
      "Exterior2nd      1460 non-null object\n",
      "MasVnrType       1460 non-null object\n",
      "MasVnrArea       1460 non-null float64\n",
      "ExterQual        1460 non-null object\n",
      "ExterCond        1460 non-null object\n",
      "Foundation       1460 non-null object\n",
      "BsmtQual         1460 non-null object\n",
      "BsmtCond         1460 non-null object\n",
      "BsmtExposure     1460 non-null object\n",
      "BsmtFinType1     1460 non-null object\n",
      "BsmtFinSF1       1460 non-null float64\n",
      "BsmtFinType2     1460 non-null object\n",
      "BsmtFinSF2       1460 non-null float64\n",
      "BsmtUnfSF        1460 non-null float64\n",
      "TotalBsmtSF      1460 non-null float64\n",
      "Heating          1460 non-null object\n",
      "HeatingQC        1460 non-null object\n",
      "CentralAir       1460 non-null object\n",
      "Electrical       1460 non-null object\n",
      "1stFlrSF         1460 non-null int64\n",
      "2ndFlrSF         1460 non-null int64\n",
      "LowQualFinSF     1460 non-null int64\n",
      "GrLivArea        1460 non-null int64\n",
      "BsmtFullBath     1460 non-null float64\n",
      "BsmtHalfBath     1460 non-null float64\n",
      "FullBath         1460 non-null int64\n",
      "HalfBath         1460 non-null int64\n",
      "BedroomAbvGr     1460 non-null int64\n",
      "KitchenAbvGr     1460 non-null int64\n",
      "KitchenQual      1460 non-null object\n",
      "TotRmsAbvGrd     1460 non-null int64\n",
      "Functional       1460 non-null object\n",
      "Fireplaces       1460 non-null int64\n",
      "FireplaceQu      1460 non-null object\n",
      "GarageType       1460 non-null object\n",
      "GarageYrBlt      1460 non-null object\n",
      "GarageFinish     1460 non-null object\n",
      "GarageCars       1460 non-null float64\n",
      "GarageArea       1460 non-null float64\n",
      "GarageQual       1460 non-null object\n",
      "GarageCond       1460 non-null object\n",
      "PavedDrive       1460 non-null object\n",
      "WoodDeckSF       1460 non-null int64\n",
      "OpenPorchSF      1460 non-null int64\n",
      "EnclosedPorch    1460 non-null int64\n",
      "3SsnPorch        1460 non-null int64\n",
      "ScreenPorch      1460 non-null int64\n",
      "PoolArea         1460 non-null int64\n",
      "PoolQC           1460 non-null object\n",
      "Fence            1460 non-null object\n",
      "MiscFeature      1460 non-null object\n",
      "MiscVal          1460 non-null int64\n",
      "MoSold           1460 non-null int64\n",
      "YrSold           1460 non-null int64\n",
      "SaleType         1460 non-null object\n",
      "SaleCondition    1460 non-null object\n",
      "SalePrice        1460 non-null int64\n",
      "dtypes: float64(10), int64(28), object(44)\n",
      "memory usage: 935.4+ KB\n"
     ]
    }
   ],
   "source": [
    "%matplotlib inline\n",
    "import pandas as pd\n",
    "import numpy as np\n",
    "import seaborn as sns\n",
    "import matplotlib as mpl\n",
    "import matplotlib.pyplot as plt\n",
    "\n",
    "\n",
    "# when testing different datasets I will change the name given as an input to read_csv\n",
    "# the names of the datasets can be found in the current folder, along with this notebook\n",
    "train = pd.read_csv(\"filled_train.csv\")\n",
    "train = train.sample(frac=1).reset_index(drop=True)\n",
    "test = pd.read_csv(\"filled_test.csv\")\n",
    "train.info()"
   ]
  },
  {
   "cell_type": "code",
   "execution_count": 51,
   "metadata": {},
   "outputs": [
    {
     "data": {
      "text/plain": [
       "array([[<matplotlib.axes._subplots.AxesSubplot object at 0x0000015ECEC372E8>,\n",
       "        <matplotlib.axes._subplots.AxesSubplot object at 0x0000015ECEB9B438>]], dtype=object)"
      ]
     },
     "execution_count": 51,
     "metadata": {},
     "output_type": "execute_result"
    },
    {
     "data": {
      "image/png": "[encoded data removed]",
      "text/plain": [
       "<matplotlib.figure.Figure at 0x15ece807080>"
      ]
     },
     "metadata": {},
     "output_type": "display_data"
    }
   ],
   "source": [
    "prices = pd.DataFrame({\"price\":train[\"SalePrice\"], \"log(price + 1)\":np.log1p(train[\"SalePrice\"])})\n",
    "prices.hist()"
   ]
  },
  {
   "cell_type": "code",
   "execution_count": 52,
   "metadata": {},
   "outputs": [
    {
     "data": {
      "text/plain": [
       "Index(['MSSubClass', 'LotFrontage', 'LotArea', 'MasVnrArea', 'BsmtFinSF1',\n",
       "       'BsmtFinSF2', 'BsmtUnfSF', 'TotalBsmtSF', '1stFlrSF', '2ndFlrSF',\n",
       "       'LowQualFinSF', 'GrLivArea', 'BsmtHalfBath', 'KitchenAbvGr',\n",
       "       'WoodDeckSF', 'OpenPorchSF', 'EnclosedPorch', '3SsnPorch',\n",
       "       'ScreenPorch', 'PoolArea', 'MiscVal'],\n",
       "      dtype='object')"
      ]
     },
     "execution_count": 52,
     "metadata": {},
     "output_type": "execute_result"
    }
   ],
   "source": [
    "from scipy.stats import skew\n",
    "\n",
    "all_data = pd.concat((train.loc[:,'MSSubClass':'SaleCondition'],\n",
    "                      test.loc[:,'MSSubClass':'SaleCondition']))\n",
    "numeric_feats = all_data.dtypes[all_data.dtypes != \"object\"].index\n",
    "skewed_feats = train[numeric_feats].apply(lambda x: skew(x.dropna())) #compute skewness\n",
    "skewed_feats = skewed_feats[skewed_feats > 0.75]\n",
    "skewed_feats = skewed_feats.index\n",
    "skewed_feats"
   ]
  },
  {
   "cell_type": "code",
   "execution_count": 53,
   "metadata": {
    "scrolled": true
   },
   "outputs": [
    {
     "data": {
      "image/png": "[encoded data removed]",
      "text/plain": [
       "<matplotlib.figure.Figure at 0x15ecdd81ef0>"
      ]
     },
     "metadata": {},
     "output_type": "display_data"
    },
    {
     "data": {
      "text/plain": [
       "<matplotlib.axes._subplots.AxesSubplot at 0x15eceb826a0>"
      ]
     },
     "execution_count": 53,
     "metadata": {},
     "output_type": "execute_result"
    },
    {
     "data": {
      "image/png": "[encoded data removed]",
      "text/plain": [
       "<matplotlib.figure.Figure at 0x15ecebf5438>"
      ]
     },
     "metadata": {},
     "output_type": "display_data"
    }
   ],
   "source": [
    "train[\"SalePrice\"] = np.log1p(train[\"SalePrice\"])\n",
    "LotFrontage = pd.DataFrame({\"LotFrontage\":train[\"LotFrontage\"], \"log(LotFrontage + 1)\":np.log1p(train[\"LotFrontage\"])})\n",
    "sns.regplot(train['LotFrontage'], train['SalePrice'])\n",
    "plt.show()\n",
    "plt.clf()\n",
    "sns.regplot(np.log1p(train[\"LotFrontage\"]), train['SalePrice'])"
   ]
  },
  {
   "cell_type": "code",
   "execution_count": 54,
   "metadata": {
    "scrolled": false
   },
   "outputs": [
    {
     "name": "stderr",
     "output_type": "stream",
     "text": [
      "C:\\Anaconda3\\envs\\deeplearning\\lib\\site-packages\\ipykernel_launcher.py:1: RuntimeWarning: invalid value encountered in log1p\n",
      "  \"\"\"Entry point for launching an IPython kernel.\n"
     ]
    }
   ],
   "source": [
    "all_data[skewed_feats] = np.log1p(all_data[skewed_feats])"
   ]
  },
  {
   "cell_type": "code",
   "execution_count": 55,
   "metadata": {},
   "outputs": [],
   "source": [
    "#creating matrices for sklearn:\n",
    "X_train = all_data[:train.shape[0]]\n",
    "X_test = all_data[train.shape[0]:]\n",
    "y = train.SalePrice"
   ]
  },
  {
   "cell_type": "code",
   "execution_count": 56,
   "metadata": {
    "scrolled": false
   },
   "outputs": [],
   "source": [
    "sns.set(style=\"whitegrid\", color_codes=True)\n",
    "\n",
    "for predictor in train.columns:\n",
    "    print(\"plotting: \" + predictor)\n",
    "    print(train[predictor].dtype.name)\n",
    "    fig, ax = plt.subplots()\n",
    "    # the size of A4 paper\n",
    "    f = fig.set_size_inches(11.7, 8.27)\n",
    "    if train[predictor].dtype.name == \"object\":\n",
    "        g = sns.stripplot(x=predictor, y=\"SalePrice\", data=train, ax=ax)\n",
    "    else:\n",
    "        g = sns.regplot(x=predictor, y=\"SalePrice\", data=train, ax=ax)\n",
    "    plt.xticks(rotation=45)\n",
    "    plt.show()\n",
    "    plt.clf()"
   ]
  },
  {
   "cell_type": "code",
   "execution_count": 58,
   "metadata": {},
   "outputs": [],
   "source": [
    "cols = train.columns\n",
    "num_cols = train._get_numeric_data().columns\n",
    "num_cols"
   ]
  },
  {
   "cell_type": "code",
   "execution_count": 59,
   "metadata": {
    "scrolled": true
   },
   "outputs": [],
   "source": [
    "categoricals = list(set(cols) -  set(num_cols))\n",
    "categoricals"
   ]
  },
  {
   "cell_type": "code",
   "execution_count": 60,
   "metadata": {},
   "outputs": [
    {
     "data": {
      "text/plain": [
       "None    690\n",
       "Gd      380\n",
       "TA      313\n",
       "Fa       33\n",
       "Ex       24\n",
       "Po       20\n",
       "Name: FireplaceQu, dtype: int64"
      ]
     },
     "execution_count": 60,
     "metadata": {},
     "output_type": "execute_result"
    }
   ],
   "source": [
    "train['FireplaceQu'].value_counts()"
   ]
  },
  {
   "cell_type": "code",
   "execution_count": 61,
   "metadata": {},
   "outputs": [],
   "source": [
    "X_train = pd.get_dummies(X_train, drop_first=True)\n",
    "X_test = pd.get_dummies(X_test, drop_first=True)"
   ]
  },
  {
   "cell_type": "code",
   "execution_count": 73,
   "metadata": {},
   "outputs": [
    {
     "data": {
      "text/plain": [
       "False"
      ]
     },
     "execution_count": 73,
     "metadata": {},
     "output_type": "execute_result"
    }
   ],
   "source": [
    "train.isnull().values.any()"
   ]
  },
  {
   "cell_type": "code",
   "execution_count": 64,
   "metadata": {},
   "outputs": [],
   "source": [
    "train.columns[train.isna().any()].tolist()"
   ]
  },
  {
   "cell_type": "code",
   "execution_count": 65,
   "metadata": {
    "scrolled": true
   },
   "outputs": [
    {
     "data": {
      "text/html": [
       "<div>\n",
       "<style scoped>\n",
       "    .dataframe tbody tr th:only-of-type {\n",
       "        vertical-align: middle;\n",
       "    }\n",
       "\n",
       "    .dataframe tbody tr th {\n",
       "        vertical-align: top;\n",
       "    }\n",
       "\n",
       "    .dataframe thead th {\n",
       "        text-align: right;\n",
       "    }\n",
       "</style>\n",
       "<table border=\"1\" class=\"dataframe\">\n",
       "  <thead>\n",
       "    <tr style=\"text-align: right;\">\n",
       "      <th></th>\n",
       "      <th>MasVnrArea</th>\n",
       "    </tr>\n",
       "  </thead>\n",
       "  <tbody>\n",
       "    <tr>\n",
       "      <th>0</th>\n",
       "      <td>5.214936</td>\n",
       "    </tr>\n",
       "    <tr>\n",
       "      <th>1</th>\n",
       "      <td>0.000000</td>\n",
       "    </tr>\n",
       "    <tr>\n",
       "      <th>2</th>\n",
       "      <td>5.303305</td>\n",
       "    </tr>\n",
       "    <tr>\n",
       "      <th>3</th>\n",
       "      <td>0.000000</td>\n",
       "    </tr>\n",
       "    <tr>\n",
       "      <th>4</th>\n",
       "      <td>0.000000</td>\n",
       "    </tr>\n",
       "    <tr>\n",
       "      <th>5</th>\n",
       "      <td>0.000000</td>\n",
       "    </tr>\n",
       "    <tr>\n",
       "      <th>6</th>\n",
       "      <td>0.000000</td>\n",
       "    </tr>\n",
       "    <tr>\n",
       "      <th>7</th>\n",
       "      <td>0.000000</td>\n",
       "    </tr>\n",
       "    <tr>\n",
       "      <th>8</th>\n",
       "      <td>5.141664</td>\n",
       "    </tr>\n",
       "    <tr>\n",
       "      <th>9</th>\n",
       "      <td>0.000000</td>\n",
       "    </tr>\n",
       "    <tr>\n",
       "      <th>10</th>\n",
       "      <td>4.709530</td>\n",
       "    </tr>\n",
       "    <tr>\n",
       "      <th>11</th>\n",
       "      <td>0.000000</td>\n",
       "    </tr>\n",
       "    <tr>\n",
       "      <th>12</th>\n",
       "      <td>5.755742</td>\n",
       "    </tr>\n",
       "    <tr>\n",
       "      <th>13</th>\n",
       "      <td>0.000000</td>\n",
       "    </tr>\n",
       "    <tr>\n",
       "      <th>14</th>\n",
       "      <td>4.691348</td>\n",
       "    </tr>\n",
       "    <tr>\n",
       "      <th>15</th>\n",
       "      <td>0.000000</td>\n",
       "    </tr>\n",
       "    <tr>\n",
       "      <th>16</th>\n",
       "      <td>NaN</td>\n",
       "    </tr>\n",
       "    <tr>\n",
       "      <th>17</th>\n",
       "      <td>6.398595</td>\n",
       "    </tr>\n",
       "    <tr>\n",
       "      <th>18</th>\n",
       "      <td>0.000000</td>\n",
       "    </tr>\n",
       "    <tr>\n",
       "      <th>19</th>\n",
       "      <td>5.135798</td>\n",
       "    </tr>\n",
       "    <tr>\n",
       "      <th>20</th>\n",
       "      <td>5.455321</td>\n",
       "    </tr>\n",
       "    <tr>\n",
       "      <th>21</th>\n",
       "      <td>5.262690</td>\n",
       "    </tr>\n",
       "    <tr>\n",
       "      <th>22</th>\n",
       "      <td>5.746203</td>\n",
       "    </tr>\n",
       "    <tr>\n",
       "      <th>23</th>\n",
       "      <td>0.000000</td>\n",
       "    </tr>\n",
       "    <tr>\n",
       "      <th>24</th>\n",
       "      <td>0.000000</td>\n",
       "    </tr>\n",
       "    <tr>\n",
       "      <th>25</th>\n",
       "      <td>0.000000</td>\n",
       "    </tr>\n",
       "    <tr>\n",
       "      <th>26</th>\n",
       "      <td>4.875197</td>\n",
       "    </tr>\n",
       "    <tr>\n",
       "      <th>27</th>\n",
       "      <td>0.000000</td>\n",
       "    </tr>\n",
       "    <tr>\n",
       "      <th>28</th>\n",
       "      <td>0.000000</td>\n",
       "    </tr>\n",
       "    <tr>\n",
       "      <th>29</th>\n",
       "      <td>4.844187</td>\n",
       "    </tr>\n",
       "    <tr>\n",
       "      <th>...</th>\n",
       "      <td>...</td>\n",
       "    </tr>\n",
       "    <tr>\n",
       "      <th>1430</th>\n",
       "      <td>0.000000</td>\n",
       "    </tr>\n",
       "    <tr>\n",
       "      <th>1431</th>\n",
       "      <td>0.000000</td>\n",
       "    </tr>\n",
       "    <tr>\n",
       "      <th>1432</th>\n",
       "      <td>5.669881</td>\n",
       "    </tr>\n",
       "    <tr>\n",
       "      <th>1433</th>\n",
       "      <td>0.000000</td>\n",
       "    </tr>\n",
       "    <tr>\n",
       "      <th>1434</th>\n",
       "      <td>0.000000</td>\n",
       "    </tr>\n",
       "    <tr>\n",
       "      <th>1435</th>\n",
       "      <td>0.000000</td>\n",
       "    </tr>\n",
       "    <tr>\n",
       "      <th>1436</th>\n",
       "      <td>0.000000</td>\n",
       "    </tr>\n",
       "    <tr>\n",
       "      <th>1437</th>\n",
       "      <td>0.000000</td>\n",
       "    </tr>\n",
       "    <tr>\n",
       "      <th>1438</th>\n",
       "      <td>4.394449</td>\n",
       "    </tr>\n",
       "    <tr>\n",
       "      <th>1439</th>\n",
       "      <td>5.945421</td>\n",
       "    </tr>\n",
       "    <tr>\n",
       "      <th>1440</th>\n",
       "      <td>5.484797</td>\n",
       "    </tr>\n",
       "    <tr>\n",
       "      <th>1441</th>\n",
       "      <td>4.859812</td>\n",
       "    </tr>\n",
       "    <tr>\n",
       "      <th>1442</th>\n",
       "      <td>0.000000</td>\n",
       "    </tr>\n",
       "    <tr>\n",
       "      <th>1443</th>\n",
       "      <td>0.000000</td>\n",
       "    </tr>\n",
       "    <tr>\n",
       "      <th>1444</th>\n",
       "      <td>0.000000</td>\n",
       "    </tr>\n",
       "    <tr>\n",
       "      <th>1445</th>\n",
       "      <td>0.000000</td>\n",
       "    </tr>\n",
       "    <tr>\n",
       "      <th>1446</th>\n",
       "      <td>0.000000</td>\n",
       "    </tr>\n",
       "    <tr>\n",
       "      <th>1447</th>\n",
       "      <td>0.000000</td>\n",
       "    </tr>\n",
       "    <tr>\n",
       "      <th>1448</th>\n",
       "      <td>6.493754</td>\n",
       "    </tr>\n",
       "    <tr>\n",
       "      <th>1449</th>\n",
       "      <td>6.079933</td>\n",
       "    </tr>\n",
       "    <tr>\n",
       "      <th>1450</th>\n",
       "      <td>0.000000</td>\n",
       "    </tr>\n",
       "    <tr>\n",
       "      <th>1451</th>\n",
       "      <td>5.351858</td>\n",
       "    </tr>\n",
       "    <tr>\n",
       "      <th>1452</th>\n",
       "      <td>5.863631</td>\n",
       "    </tr>\n",
       "    <tr>\n",
       "      <th>1453</th>\n",
       "      <td>0.000000</td>\n",
       "    </tr>\n",
       "    <tr>\n",
       "      <th>1454</th>\n",
       "      <td>0.000000</td>\n",
       "    </tr>\n",
       "    <tr>\n",
       "      <th>1455</th>\n",
       "      <td>0.000000</td>\n",
       "    </tr>\n",
       "    <tr>\n",
       "      <th>1456</th>\n",
       "      <td>3.931826</td>\n",
       "    </tr>\n",
       "    <tr>\n",
       "      <th>1457</th>\n",
       "      <td>0.000000</td>\n",
       "    </tr>\n",
       "    <tr>\n",
       "      <th>1458</th>\n",
       "      <td>5.820083</td>\n",
       "    </tr>\n",
       "    <tr>\n",
       "      <th>1459</th>\n",
       "      <td>6.670766</td>\n",
       "    </tr>\n",
       "  </tbody>\n",
       "</table>\n",
       "<p>1460 rows × 1 columns</p>\n",
       "</div>"
      ],
      "text/plain": [
       "      MasVnrArea\n",
       "0       5.214936\n",
       "1       0.000000\n",
       "2       5.303305\n",
       "3       0.000000\n",
       "4       0.000000\n",
       "5       0.000000\n",
       "6       0.000000\n",
       "7       0.000000\n",
       "8       5.141664\n",
       "9       0.000000\n",
       "10      4.709530\n",
       "11      0.000000\n",
       "12      5.755742\n",
       "13      0.000000\n",
       "14      4.691348\n",
       "15      0.000000\n",
       "16           NaN\n",
       "17      6.398595\n",
       "18      0.000000\n",
       "19      5.135798\n",
       "20      5.455321\n",
       "21      5.262690\n",
       "22      5.746203\n",
       "23      0.000000\n",
       "24      0.000000\n",
       "25      0.000000\n",
       "26      4.875197\n",
       "27      0.000000\n",
       "28      0.000000\n",
       "29      4.844187\n",
       "...          ...\n",
       "1430    0.000000\n",
       "1431    0.000000\n",
       "1432    5.669881\n",
       "1433    0.000000\n",
       "1434    0.000000\n",
       "1435    0.000000\n",
       "1436    0.000000\n",
       "1437    0.000000\n",
       "1438    4.394449\n",
       "1439    5.945421\n",
       "1440    5.484797\n",
       "1441    4.859812\n",
       "1442    0.000000\n",
       "1443    0.000000\n",
       "1444    0.000000\n",
       "1445    0.000000\n",
       "1446    0.000000\n",
       "1447    0.000000\n",
       "1448    6.493754\n",
       "1449    6.079933\n",
       "1450    0.000000\n",
       "1451    5.351858\n",
       "1452    5.863631\n",
       "1453    0.000000\n",
       "1454    0.000000\n",
       "1455    0.000000\n",
       "1456    3.931826\n",
       "1457    0.000000\n",
       "1458    5.820083\n",
       "1459    6.670766\n",
       "\n",
       "[1460 rows x 1 columns]"
      ]
     },
     "execution_count": 65,
     "metadata": {},
     "output_type": "execute_result"
    }
   ],
   "source": [
    "X_train.loc[:, X_train.isna().any()]"
   ]
  },
  {
   "cell_type": "code",
   "execution_count": 66,
   "metadata": {},
   "outputs": [
    {
     "name": "stdout",
     "output_type": "stream",
     "text": [
      "(1456, 355)\n",
      "Int64Index([17, 263, 369, 1369], dtype='int64')\n"
     ]
    },
    {
     "data": {
      "text/plain": [
       "(1456,)"
      ]
     },
     "execution_count": 66,
     "metadata": {},
     "output_type": "execute_result"
    }
   ],
   "source": [
    "X_train = X_train.dropna()\n",
    "X_test.dropna(inplace=True)\n",
    "y.drop(axis=0, index = y.index.delete(X_train.index), inplace=True)\n",
    "print(X_train.shape)\n",
    "print(y.index.delete(X_train.index))\n",
    "y.shape"
   ]
  },
  {
   "cell_type": "code",
   "execution_count": 67,
   "metadata": {},
   "outputs": [],
   "source": [
    "from xgboost import XGBClassifier\n",
    "from sklearn.metrics import mean_squared_error\n",
    "from sklearn.model_selection import train_test_split\n",
    "from sklearn.model_selection import cross_val_score\n",
    "X_train, X_test, y_train, y_test = train_test_split(X_train, y, train_size=0.75, test_size=0.25)\n",
    "\n",
    "def rmse_cv(model):\n",
    "    rmse= np.sqrt(-cross_val_score(model, X_train, y_train, scoring=\"neg_mean_squared_error\", cv = 5))\n",
    "    return(rmse)\n",
    "\n",
    "def run_model_tester(model, hyperPar=None):\n",
    "    model.fit(X_train, y_train)\n",
    "    print(\"finished fitting\")\n",
    "    y_pred = model.predict(X_test)\n",
    "    print(\"finished test predicting\")\n",
    "    predictions = [round(value) for value in y_pred]\n",
    "    print(\"got test predictions\")\n",
    "    accuracy = mean_squared_error(y_test, predictions)\n",
    "    print(\"test accuracy: \" + str(accuracy))\n",
    "    y_train_pred = model.predict(X_train)\n",
    "    print(\"finnished train predicting\")\n",
    "    train_pred = predictions = [round(value) for value in y_train_pred]\n",
    "    print(\"got train predictions\")\n",
    "    accuracy_train = mean_squared_error(y_train, train_pred)\n",
    "    print(\"train accuracy: \" + str(accuracy_train))\n",
    "    \n",
    "model = XGBClassifier(silent=False)\n",
    "run_model_tester(model)"
   ]
  },
  {
   "cell_type": "code",
   "execution_count": 68,
   "metadata": {},
   "outputs": [],
   "source": [
    "model.get_params"
   ]
  },
  {
   "cell_type": "markdown",
   "metadata": {},
   "source": [
    "It looks like we might have some overfitting with the above parameters, lets try to play with them to account for this overfitting.\n",
    "we will:\n",
    "> - decrease subsample\n",
    "> - "
   ]
  },
  {
   "cell_type": "code",
   "execution_count": 69,
   "metadata": {},
   "outputs": [],
   "source": [
    "subsamples = [0.01, 0.03, 0.05, 0.1, 0.15, 0.3, 0.5, 0.75]\n",
    "model = XGBClassifier(subsample=0.5, silent=False)\n",
    "cv = [rmse_cv(XGBClassifier(subsample=subsample, silent=False)).mean() \n",
    "            for subsample in subsamples]\n",
    "cv = pd.Series(cv, index = subsamples)\n",
    "cv.plot()\n",
    "run_model_tester(model)"
   ]
  },
  {
   "cell_type": "markdown",
   "metadata": {},
   "source": [
    "OK, that didnt work, now I have high bias...lets go back to the same subsample.\n",
    "This time we will try with some more prunning, increase gamma (default is zero)."
   ]
  },
  {
   "cell_type": "code",
   "execution_count": 70,
   "metadata": {},
   "outputs": [],
   "source": [
    "gammas = [0.05, 0.7, 1, 3, 5, 9, 15]\n",
    "cv = [rmse_cv(XGBClassifier(gamma=gamma, silent=False)).mean() \n",
    "            for gamma in gammas]\n",
    "cv = pd.Series(cv, index = gammas)\n",
    "cv.plot()"
   ]
  },
  {
   "cell_type": "markdown",
   "metadata": {},
   "source": [
    "that did not work either...\n",
    "perhaps I had high bias at first? (~80% is pretty low...)\n",
    "lets play with the number of trees"
   ]
  },
  {
   "cell_type": "code",
   "execution_count": 71,
   "metadata": {
    "scrolled": true
   },
   "outputs": [],
   "source": [
    "numbers = [1, 5, 15, 25, 50, 90, 150, 200, 250]\n",
    "cv = [rmse_cv(XGBClassifier(n_estimators=number, silent=False)).mean() \n",
    "            for number in numbers]\n",
    "cv = pd.Series(cv, index = numbers)\n",
    "cv.plot()\n",
    "\n",
    "model = XGBClassifier(silent=False, n_estimators=250)\n",
    "run_model_tester(model)"
   ]
  },
  {
   "cell_type": "markdown",
   "metadata": {},
   "source": [
    "looks  like the optimum is about 70"
   ]
  },
  {
   "cell_type": "code",
   "execution_count": 72,
   "metadata": {
    "scrolled": true
   },
   "outputs": [
    {
     "name": "stdout",
     "output_type": "stream",
     "text": [
      "mean_coross_root_mse: 0.254845349273\n",
      "finished fitting\n",
      "finished test predicting\n",
      "got test predictions\n",
      "test accuracy: 0.125041892642\n",
      "finnished train predicting\n",
      "got train predictions\n",
      "train accuracy: 0.100555859303\n"
     ]
    }
   ],
   "source": [
    "model = XGBClassifier(silent=False, n_estimators=70, gamma=0, subsample=1)\n",
    "mean_cross_root_mse = rmse_cv((model)).mean()\n",
    "print(\"mean_coross_root_mse: \" + str(mean_cross_root_mse))\n",
    "run_model_tester(model)"
   ]
  },
  {
   "cell_type": "code",
   "execution_count": 78,
   "metadata": {},
   "outputs": [],
   "source": [
    "model = XGBClassifier(silent=False, n_estimators=70, gamma=0, subsample=1)\n",
    "y_train = train['SalePrice']\n",
    "X_train = train.drop(['Id', 'SalePrice'], axis=1)\n",
    "train_objs_num = len(train)\n",
    "X_test = test.drop(['Id'], axis=1)\n",
    "dataset = pd.concat(objs=[X_train, X_test], axis=0)\n",
    "dataset_preprocessed = pd.get_dummies(dataset)\n",
    "train_preprocessed = dataset_preprocessed[:train_objs_num]\n",
    "test_preprocessed = dataset_preprocessed[train_objs_num:]\n",
    "\n",
    "model.fit(train_preprocessed, y_train)\n",
    "y_test = model.predict(test_preprocessed)\n",
    "result = pd.DataFrame();\n",
    "result['Id'] =  test['Id']\n",
    "result['SalePrice'] = y_test"
   ]
  },
  {
   "cell_type": "code",
   "execution_count": 81,
   "metadata": {},
   "outputs": [],
   "source": [
    "result.to_csv('submission.csv', index=False)"
   ]
  },
  {
   "cell_type": "code",
   "execution_count": 80,
   "metadata": {},
   "outputs": [
    {
     "name": "stdout",
     "output_type": "stream",
     "text": [
      "submission shape: (1459, 3)\n"
     ]
    }
   ],
   "source": [
    "submission = pd.read_csv('submission.csv')\n",
    "print(f'submission shape: {submission.shape}')"
   ]
  },
  {
   "cell_type": "markdown",
   "metadata": {},
   "source": [
    "using regular test train and dropping na:\n",
    "\n",
    "mean_coross_root_mse: 0.228500917516<br>\n",
    "finished fitting<br>\n",
    "finished test predicting<br>\n",
    "got test predictions<br>\n",
    "test accuracy: 0.147900682467<br>\n",
    "finnished train predicting<br>\n",
    "got train predictions<br>\n",
    "train accuracy: 0.101943189074"
   ]
  },
  {
   "cell_type": "markdown",
   "metadata": {},
   "source": [
    "using a dest where the  relevant NA were casted to be categories:\n",
    "\n",
    "mean_coross_root_mse: 0.249941928588<br>\n",
    "finished fitting<br>\n",
    "finished test predicting<br>\n",
    "got test predictions<br>\n",
    "test accuracy: 0.146362743587<br>\n",
    "finnished train predicting<br>\n",
    "got train predictions<br>\n",
    "train accuracy: 0.106929547729"
   ]
  },
  {
   "cell_type": "markdown",
   "metadata": {},
   "source": [
    "using data set where all nans were predicted by sgboost:<br>\n",
    "\n",
    "mean_coross_root_mse: 0.254845349273<br>\n",
    "finished fitting<br>\n",
    "finished test predicting<br>\n",
    "got test predictions<br>\n",
    "test accuracy: 0.125041892642<br>\n",
    "finnished train predicting<br>\n",
    "got train predictions<br>\n",
    "train accuracy: 0.100555859303<br>\n",
    "\n",
    "it looks like the cross  validation here is worse but the test accuracy and the train accuracy are better."
   ]
  }
 ],
 "metadata": {
  "kernelspec": {
   "display_name": "Python 3",
   "language": "python",
   "name": "python3"
  },
  "language_info": {
   "codemirror_mode": {
    "name": "ipython",
    "version": 3
   },
   "file_extension": ".py",
   "mimetype": "text/x-python",
   "name": "python",
   "nbconvert_exporter": "python",
   "pygments_lexer": "ipython3",
   "version": "3.6.4"
  }
 },
 "nbformat": 4,
 "nbformat_minor": 2
}
