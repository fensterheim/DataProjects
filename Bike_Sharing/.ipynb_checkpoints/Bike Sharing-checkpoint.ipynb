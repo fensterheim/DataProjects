{
 "cells": [
  {
   "cell_type": "markdown",
   "metadata": {
    "colab_type": "text",
    "id": "54egiiyK0EV2"
   },
   "source": [
    "# Bike Sharing challange"
   ]
  },
  {
   "cell_type": "markdown",
   "metadata": {
    "colab_type": "text",
    "id": "bNgN-zDG0EV6"
   },
   "source": [
    "In this notebook I will attempt to solve the bike sharing challange.<br>\n",
    "See https://www.kaggle.com/c/bike-sharing-demand for further information.<br>\n",
    "<br>\n",
    "Since the data has very clear seasonality, I will not treat this as a TSA problem."
   ]
  },
  {
   "cell_type": "markdown",
   "metadata": {},
   "source": [
    "## Introduction"
   ]
  },
  {
   "cell_type": "markdown",
   "metadata": {},
   "source": [
    "**Feature engineering:**<br>\n",
    "I will create relevant time features based on what I concluded in the EDA.\n",
    "<br><br>\n",
    "**Modeling:**<br>\n",
    "1. I will start from a naiv baseline of simple linear regression on 1 feature which shows high correlation to make sure that my models are indeed improving on the naiv.\n",
    "2. I then will proceed to use XGBoost and Random Forest models with their default parameters and compare their results.\n",
    "3. I will test the two with different random seeds.\n",
    "4. I will use TPOT to find the best model and hyper parameters.\n",
    "5. I will create an xboost model based on the TPOT results.\n",
    "6. I will create another Random Forest model which uses similar hyper parameters for comparison.\n",
    "7. I will create an xgboost model with the TPOT hyper paramers and cosine annealing learning rate.\n",
    "8. I will create a nested model which uses two xgboost TPOT sub models to predict registered and casual, add the results and this will be the count prediction.\n",
    "\n",
    "**Known limitations:**\n",
    "- #3: I did not test with more random seeds - this can be treated as another hyper parameter to optimize.\n",
    "- #4: You can allwas do more...\n",
    "- #6: Rando Forests hyper parameters are not exactly parallel to those of xgboost.\n",
    "- #7: I wanted to try SGDR, but this requires more implementation time for xgboost.\n",
    "- #8: I did not run seperate TPOT for both models, I used the previous TPOT.\n",
    "- #8: calculating CV with the relevant evaluation metric for this model requires implementation, I skipped this and used just a simple RMSLE for the train and eval sets.\n"
   ]
  },
  {
   "cell_type": "markdown",
   "metadata": {
    "colab_type": "text",
    "id": "WX2K4L400EV9"
   },
   "source": [
    "## EDA"
   ]
  },
  {
   "cell_type": "code",
   "execution_count": 1,
   "metadata": {
    "colab": {
     "autoexec": {
      "startup": false,
      "wait_interval": 0
     }
    },
    "colab_type": "code",
    "id": "8S7MuL2u0EV-"
   },
   "outputs": [],
   "source": [
    "import pandas as pd\n",
    "import seaborn as sns\n",
    "import matplotlib.pylab as plt\n",
    "import numpy as np"
   ]
  },
  {
   "cell_type": "code",
   "execution_count": 2,
   "metadata": {
    "colab": {
     "autoexec": {
      "startup": false,
      "wait_interval": 0
     }
    },
    "colab_type": "code",
    "id": "JXukNDkC0EWC"
   },
   "outputs": [],
   "source": [
    "df_train = pd.read_csv(\"data/train.csv\")\n",
    "df_test = pd.read_csv(\"data/test.csv\")\n",
    "combine = [df_train, df_test]"
   ]
  },
  {
   "cell_type": "code",
   "execution_count": 3,
   "metadata": {
    "colab": {
     "autoexec": {
      "startup": false,
      "wait_interval": 0
     }
    },
    "colab_type": "code",
    "id": "5d0F_KSH0EWF",
    "outputId": "00665f99-f860-48fe-8e4d-d9f89837d987"
   },
   "outputs": [
    {
     "name": "stdout",
     "output_type": "stream",
     "text": [
      "<class 'pandas.core.frame.DataFrame'>\n",
      "RangeIndex: 6493 entries, 0 to 6492\n",
      "Data columns (total 9 columns):\n",
      "datetime      6493 non-null object\n",
      "season        6493 non-null int64\n",
      "holiday       6493 non-null int64\n",
      "workingday    6493 non-null int64\n",
      "weather       6493 non-null int64\n",
      "temp          6493 non-null float64\n",
      "atemp         6493 non-null float64\n",
      "humidity      6493 non-null int64\n",
      "windspeed     6493 non-null float64\n",
      "dtypes: float64(3), int64(5), object(1)\n",
      "memory usage: 456.6+ KB\n"
     ]
    }
   ],
   "source": [
    "df_test.info()"
   ]
  },
  {
   "cell_type": "code",
   "execution_count": 4,
   "metadata": {
    "colab": {
     "autoexec": {
      "startup": false,
      "wait_interval": 0
     }
    },
    "colab_type": "code",
    "id": "ZqyITG7a0EWM",
    "outputId": "06fe6954-f15e-4430-fd26-50359402a955"
   },
   "outputs": [
    {
     "name": "stdout",
     "output_type": "stream",
     "text": [
      "<class 'pandas.core.frame.DataFrame'>\n",
      "RangeIndex: 10886 entries, 0 to 10885\n",
      "Data columns (total 12 columns):\n",
      "datetime      10886 non-null object\n",
      "season        10886 non-null int64\n",
      "holiday       10886 non-null int64\n",
      "workingday    10886 non-null int64\n",
      "weather       10886 non-null int64\n",
      "temp          10886 non-null float64\n",
      "atemp         10886 non-null float64\n",
      "humidity      10886 non-null int64\n",
      "windspeed     10886 non-null float64\n",
      "casual        10886 non-null int64\n",
      "registered    10886 non-null int64\n",
      "count         10886 non-null int64\n",
      "dtypes: float64(3), int64(8), object(1)\n",
      "memory usage: 1020.6+ KB\n"
     ]
    }
   ],
   "source": [
    "df_train.info()"
   ]
  },
  {
   "cell_type": "code",
   "execution_count": 5,
   "metadata": {
    "colab": {
     "autoexec": {
      "startup": false,
      "wait_interval": 0
     }
    },
    "colab_type": "code",
    "id": "A_tq8vYR0EWP",
    "outputId": "ac20b591-f3e7-4e26-84e4-e57719935ea9"
   },
   "outputs": [
    {
     "data": {
      "text/html": [
       "<div>\n",
       "<style scoped>\n",
       "    .dataframe tbody tr th:only-of-type {\n",
       "        vertical-align: middle;\n",
       "    }\n",
       "\n",
       "    .dataframe tbody tr th {\n",
       "        vertical-align: top;\n",
       "    }\n",
       "\n",
       "    .dataframe thead th {\n",
       "        text-align: right;\n",
       "    }\n",
       "</style>\n",
       "<table border=\"1\" class=\"dataframe\">\n",
       "  <thead>\n",
       "    <tr style=\"text-align: right;\">\n",
       "      <th></th>\n",
       "      <th>datetime</th>\n",
       "      <th>season</th>\n",
       "      <th>holiday</th>\n",
       "      <th>workingday</th>\n",
       "      <th>weather</th>\n",
       "      <th>temp</th>\n",
       "      <th>atemp</th>\n",
       "      <th>humidity</th>\n",
       "      <th>windspeed</th>\n",
       "      <th>casual</th>\n",
       "      <th>registered</th>\n",
       "      <th>count</th>\n",
       "    </tr>\n",
       "  </thead>\n",
       "  <tbody>\n",
       "    <tr>\n",
       "      <th>0</th>\n",
       "      <td>2011-01-01 00:00:00</td>\n",
       "      <td>1</td>\n",
       "      <td>0</td>\n",
       "      <td>0</td>\n",
       "      <td>1</td>\n",
       "      <td>9.84</td>\n",
       "      <td>14.395</td>\n",
       "      <td>81</td>\n",
       "      <td>0.0000</td>\n",
       "      <td>3</td>\n",
       "      <td>13</td>\n",
       "      <td>16</td>\n",
       "    </tr>\n",
       "    <tr>\n",
       "      <th>1</th>\n",
       "      <td>2011-01-01 01:00:00</td>\n",
       "      <td>1</td>\n",
       "      <td>0</td>\n",
       "      <td>0</td>\n",
       "      <td>1</td>\n",
       "      <td>9.02</td>\n",
       "      <td>13.635</td>\n",
       "      <td>80</td>\n",
       "      <td>0.0000</td>\n",
       "      <td>8</td>\n",
       "      <td>32</td>\n",
       "      <td>40</td>\n",
       "    </tr>\n",
       "    <tr>\n",
       "      <th>2</th>\n",
       "      <td>2011-01-01 02:00:00</td>\n",
       "      <td>1</td>\n",
       "      <td>0</td>\n",
       "      <td>0</td>\n",
       "      <td>1</td>\n",
       "      <td>9.02</td>\n",
       "      <td>13.635</td>\n",
       "      <td>80</td>\n",
       "      <td>0.0000</td>\n",
       "      <td>5</td>\n",
       "      <td>27</td>\n",
       "      <td>32</td>\n",
       "    </tr>\n",
       "    <tr>\n",
       "      <th>3</th>\n",
       "      <td>2011-01-01 03:00:00</td>\n",
       "      <td>1</td>\n",
       "      <td>0</td>\n",
       "      <td>0</td>\n",
       "      <td>1</td>\n",
       "      <td>9.84</td>\n",
       "      <td>14.395</td>\n",
       "      <td>75</td>\n",
       "      <td>0.0000</td>\n",
       "      <td>3</td>\n",
       "      <td>10</td>\n",
       "      <td>13</td>\n",
       "    </tr>\n",
       "    <tr>\n",
       "      <th>4</th>\n",
       "      <td>2011-01-01 04:00:00</td>\n",
       "      <td>1</td>\n",
       "      <td>0</td>\n",
       "      <td>0</td>\n",
       "      <td>1</td>\n",
       "      <td>9.84</td>\n",
       "      <td>14.395</td>\n",
       "      <td>75</td>\n",
       "      <td>0.0000</td>\n",
       "      <td>0</td>\n",
       "      <td>1</td>\n",
       "      <td>1</td>\n",
       "    </tr>\n",
       "    <tr>\n",
       "      <th>5</th>\n",
       "      <td>2011-01-01 05:00:00</td>\n",
       "      <td>1</td>\n",
       "      <td>0</td>\n",
       "      <td>0</td>\n",
       "      <td>2</td>\n",
       "      <td>9.84</td>\n",
       "      <td>12.880</td>\n",
       "      <td>75</td>\n",
       "      <td>6.0032</td>\n",
       "      <td>0</td>\n",
       "      <td>1</td>\n",
       "      <td>1</td>\n",
       "    </tr>\n",
       "    <tr>\n",
       "      <th>6</th>\n",
       "      <td>2011-01-01 06:00:00</td>\n",
       "      <td>1</td>\n",
       "      <td>0</td>\n",
       "      <td>0</td>\n",
       "      <td>1</td>\n",
       "      <td>9.02</td>\n",
       "      <td>13.635</td>\n",
       "      <td>80</td>\n",
       "      <td>0.0000</td>\n",
       "      <td>2</td>\n",
       "      <td>0</td>\n",
       "      <td>2</td>\n",
       "    </tr>\n",
       "    <tr>\n",
       "      <th>7</th>\n",
       "      <td>2011-01-01 07:00:00</td>\n",
       "      <td>1</td>\n",
       "      <td>0</td>\n",
       "      <td>0</td>\n",
       "      <td>1</td>\n",
       "      <td>8.20</td>\n",
       "      <td>12.880</td>\n",
       "      <td>86</td>\n",
       "      <td>0.0000</td>\n",
       "      <td>1</td>\n",
       "      <td>2</td>\n",
       "      <td>3</td>\n",
       "    </tr>\n",
       "    <tr>\n",
       "      <th>8</th>\n",
       "      <td>2011-01-01 08:00:00</td>\n",
       "      <td>1</td>\n",
       "      <td>0</td>\n",
       "      <td>0</td>\n",
       "      <td>1</td>\n",
       "      <td>9.84</td>\n",
       "      <td>14.395</td>\n",
       "      <td>75</td>\n",
       "      <td>0.0000</td>\n",
       "      <td>1</td>\n",
       "      <td>7</td>\n",
       "      <td>8</td>\n",
       "    </tr>\n",
       "    <tr>\n",
       "      <th>9</th>\n",
       "      <td>2011-01-01 09:00:00</td>\n",
       "      <td>1</td>\n",
       "      <td>0</td>\n",
       "      <td>0</td>\n",
       "      <td>1</td>\n",
       "      <td>13.12</td>\n",
       "      <td>17.425</td>\n",
       "      <td>76</td>\n",
       "      <td>0.0000</td>\n",
       "      <td>8</td>\n",
       "      <td>6</td>\n",
       "      <td>14</td>\n",
       "    </tr>\n",
       "  </tbody>\n",
       "</table>\n",
       "</div>"
      ],
      "text/plain": [
       "              datetime  season  holiday  workingday  weather   temp   atemp  \\\n",
       "0  2011-01-01 00:00:00       1        0           0        1   9.84  14.395   \n",
       "1  2011-01-01 01:00:00       1        0           0        1   9.02  13.635   \n",
       "2  2011-01-01 02:00:00       1        0           0        1   9.02  13.635   \n",
       "3  2011-01-01 03:00:00       1        0           0        1   9.84  14.395   \n",
       "4  2011-01-01 04:00:00       1        0           0        1   9.84  14.395   \n",
       "5  2011-01-01 05:00:00       1        0           0        2   9.84  12.880   \n",
       "6  2011-01-01 06:00:00       1        0           0        1   9.02  13.635   \n",
       "7  2011-01-01 07:00:00       1        0           0        1   8.20  12.880   \n",
       "8  2011-01-01 08:00:00       1        0           0        1   9.84  14.395   \n",
       "9  2011-01-01 09:00:00       1        0           0        1  13.12  17.425   \n",
       "\n",
       "   humidity  windspeed  casual  registered  count  \n",
       "0        81     0.0000       3          13     16  \n",
       "1        80     0.0000       8          32     40  \n",
       "2        80     0.0000       5          27     32  \n",
       "3        75     0.0000       3          10     13  \n",
       "4        75     0.0000       0           1      1  \n",
       "5        75     6.0032       0           1      1  \n",
       "6        80     0.0000       2           0      2  \n",
       "7        86     0.0000       1           2      3  \n",
       "8        75     0.0000       1           7      8  \n",
       "9        76     0.0000       8           6     14  "
      ]
     },
     "execution_count": 5,
     "metadata": {},
     "output_type": "execute_result"
    }
   ],
   "source": [
    "df_train.head(10)"
   ]
  },
  {
   "cell_type": "code",
   "execution_count": 6,
   "metadata": {
    "colab": {
     "autoexec": {
      "startup": false,
      "wait_interval": 0
     }
    },
    "colab_type": "code",
    "id": "WSXlY5bS0EWR",
    "outputId": "516f73a8-95e9-4692-a351-e9c7c0b6a3b0"
   },
   "outputs": [
    {
     "data": {
      "text/html": [
       "<div>\n",
       "<style scoped>\n",
       "    .dataframe tbody tr th:only-of-type {\n",
       "        vertical-align: middle;\n",
       "    }\n",
       "\n",
       "    .dataframe tbody tr th {\n",
       "        vertical-align: top;\n",
       "    }\n",
       "\n",
       "    .dataframe thead th {\n",
       "        text-align: right;\n",
       "    }\n",
       "</style>\n",
       "<table border=\"1\" class=\"dataframe\">\n",
       "  <thead>\n",
       "    <tr style=\"text-align: right;\">\n",
       "      <th></th>\n",
       "      <th>datetime</th>\n",
       "      <th>season</th>\n",
       "      <th>holiday</th>\n",
       "      <th>workingday</th>\n",
       "      <th>weather</th>\n",
       "      <th>temp</th>\n",
       "      <th>atemp</th>\n",
       "      <th>humidity</th>\n",
       "      <th>windspeed</th>\n",
       "    </tr>\n",
       "  </thead>\n",
       "  <tbody>\n",
       "    <tr>\n",
       "      <th>0</th>\n",
       "      <td>2011-01-20 00:00:00</td>\n",
       "      <td>1</td>\n",
       "      <td>0</td>\n",
       "      <td>1</td>\n",
       "      <td>1</td>\n",
       "      <td>10.66</td>\n",
       "      <td>11.365</td>\n",
       "      <td>56</td>\n",
       "      <td>26.0027</td>\n",
       "    </tr>\n",
       "    <tr>\n",
       "      <th>1</th>\n",
       "      <td>2011-01-20 01:00:00</td>\n",
       "      <td>1</td>\n",
       "      <td>0</td>\n",
       "      <td>1</td>\n",
       "      <td>1</td>\n",
       "      <td>10.66</td>\n",
       "      <td>13.635</td>\n",
       "      <td>56</td>\n",
       "      <td>0.0000</td>\n",
       "    </tr>\n",
       "    <tr>\n",
       "      <th>2</th>\n",
       "      <td>2011-01-20 02:00:00</td>\n",
       "      <td>1</td>\n",
       "      <td>0</td>\n",
       "      <td>1</td>\n",
       "      <td>1</td>\n",
       "      <td>10.66</td>\n",
       "      <td>13.635</td>\n",
       "      <td>56</td>\n",
       "      <td>0.0000</td>\n",
       "    </tr>\n",
       "    <tr>\n",
       "      <th>3</th>\n",
       "      <td>2011-01-20 03:00:00</td>\n",
       "      <td>1</td>\n",
       "      <td>0</td>\n",
       "      <td>1</td>\n",
       "      <td>1</td>\n",
       "      <td>10.66</td>\n",
       "      <td>12.880</td>\n",
       "      <td>56</td>\n",
       "      <td>11.0014</td>\n",
       "    </tr>\n",
       "    <tr>\n",
       "      <th>4</th>\n",
       "      <td>2011-01-20 04:00:00</td>\n",
       "      <td>1</td>\n",
       "      <td>0</td>\n",
       "      <td>1</td>\n",
       "      <td>1</td>\n",
       "      <td>10.66</td>\n",
       "      <td>12.880</td>\n",
       "      <td>56</td>\n",
       "      <td>11.0014</td>\n",
       "    </tr>\n",
       "  </tbody>\n",
       "</table>\n",
       "</div>"
      ],
      "text/plain": [
       "              datetime  season  holiday  workingday  weather   temp   atemp  \\\n",
       "0  2011-01-20 00:00:00       1        0           1        1  10.66  11.365   \n",
       "1  2011-01-20 01:00:00       1        0           1        1  10.66  13.635   \n",
       "2  2011-01-20 02:00:00       1        0           1        1  10.66  13.635   \n",
       "3  2011-01-20 03:00:00       1        0           1        1  10.66  12.880   \n",
       "4  2011-01-20 04:00:00       1        0           1        1  10.66  12.880   \n",
       "\n",
       "   humidity  windspeed  \n",
       "0        56    26.0027  \n",
       "1        56     0.0000  \n",
       "2        56     0.0000  \n",
       "3        56    11.0014  \n",
       "4        56    11.0014  "
      ]
     },
     "execution_count": 6,
     "metadata": {},
     "output_type": "execute_result"
    }
   ],
   "source": [
    "df_test.head()"
   ]
  },
  {
   "cell_type": "code",
   "execution_count": 7,
   "metadata": {
    "colab": {
     "autoexec": {
      "startup": false,
      "wait_interval": 0
     }
    },
    "colab_type": "code",
    "id": "8cbmXWGL0EWW",
    "outputId": "49752686-f7dd-46f1-85aa-16bef37abb90"
   },
   "outputs": [
    {
     "data": {
      "text/plain": [
       "<matplotlib.axes._subplots.AxesSubplot at 0x20821b64d30>"
      ]
     },
     "execution_count": 7,
     "metadata": {},
     "output_type": "execute_result"
    },
    {
     "data": {
      "image/png": "[encoded data removed]",
      "text/plain": [
       "<matplotlib.figure.Figure at 0x20821b27f28>"
      ]
     },
     "metadata": {},
     "output_type": "display_data"
    }
   ],
   "source": [
    "sns.heatmap(df_train.corr())"
   ]
  },
  {
   "cell_type": "markdown",
   "metadata": {
    "colab_type": "text",
    "id": "uDpNO-id0EWZ"
   },
   "source": [
    "Interesting insights from the HeatMap:\n",
    "- casual has a negative correlation with workingday\n",
    "- high correlation betwen casual and count\n",
    "- humidity has negative correlation with casual, registered and count.\n",
    "- temp and atemp have high correlation with count and casual\n",
    "\n",
    "What I would like to see that does not show up here:\n",
    "- correlation between year and count (we will probably need a kendal os spearman correlation dut to nonlinearity)\n",
    "- correlation between season and deviation from yearly average"
   ]
  },
  {
   "cell_type": "code",
   "execution_count": 8,
   "metadata": {
    "colab": {
     "autoexec": {
      "startup": false,
      "wait_interval": 0
     }
    },
    "colab_type": "code",
    "id": "TCTX1X2m0EWb"
   },
   "outputs": [],
   "source": [
    "#datetimable_df = df_train.replace(df_train['datetime'],pd.to_datetime(df_train['datetime']))"
   ]
  },
  {
   "cell_type": "code",
   "execution_count": 9,
   "metadata": {
    "colab": {
     "autoexec": {
      "startup": false,
      "wait_interval": 0
     }
    },
    "colab_type": "code",
    "id": "Vscm6jY40EWe"
   },
   "outputs": [],
   "source": [
    "df_train[['datetime']] = df_train[['datetime']].apply(pd.to_datetime)\n",
    "df_test[['datetime']] = df_test[['datetime']].apply(pd.to_datetime)"
   ]
  },
  {
   "cell_type": "code",
   "execution_count": 10,
   "metadata": {
    "colab": {
     "autoexec": {
      "startup": false,
      "wait_interval": 0
     }
    },
    "colab_type": "code",
    "id": "MR0gqkbC0EWh",
    "outputId": "20f46021-b513-488e-cc73-7c6f46e9a535"
   },
   "outputs": [
    {
     "name": "stdout",
     "output_type": "stream",
     "text": [
      "<class 'pandas.core.frame.DataFrame'>\n",
      "RangeIndex: 10886 entries, 0 to 10885\n",
      "Data columns (total 12 columns):\n",
      "datetime      10886 non-null datetime64[ns]\n",
      "season        10886 non-null int64\n",
      "holiday       10886 non-null int64\n",
      "workingday    10886 non-null int64\n",
      "weather       10886 non-null int64\n",
      "temp          10886 non-null float64\n",
      "atemp         10886 non-null float64\n",
      "humidity      10886 non-null int64\n",
      "windspeed     10886 non-null float64\n",
      "casual        10886 non-null int64\n",
      "registered    10886 non-null int64\n",
      "count         10886 non-null int64\n",
      "dtypes: datetime64[ns](1), float64(3), int64(8)\n",
      "memory usage: 1020.6 KB\n"
     ]
    }
   ],
   "source": [
    "df_train.info()"
   ]
  },
  {
   "cell_type": "code",
   "execution_count": 11,
   "metadata": {
    "colab": {
     "autoexec": {
      "startup": false,
      "wait_interval": 0
     }
    },
    "colab_type": "code",
    "id": "MbdB9PW_0EWj",
    "outputId": "536e61a3-b272-47ca-af48-3931f84e513e"
   },
   "outputs": [
    {
     "data": {
      "text/plain": [
       "(array([ 734107.,  734197.,  734289.,  734381.,  734472.,  734563.,\n",
       "         734655.,  734747.,  734838.]), <a list of 9 Text xticklabel objects>)"
      ]
     },
     "execution_count": 11,
     "metadata": {},
     "output_type": "execute_result"
    },
    {
     "data": {
      "image/png": "[encoded data removed]",
      "text/plain": [
       "<matplotlib.figure.Figure at 0x20822d9a978>"
      ]
     },
     "metadata": {},
     "output_type": "display_data"
    }
   ],
   "source": [
    "df_train = df_train.sort_values('datetime', ascending=True)\n",
    "plt.plot(df_train['datetime'], df_train['count'])\n",
    "plt.xticks(rotation='vertical')"
   ]
  },
  {
   "cell_type": "markdown",
   "metadata": {
    "colab_type": "text",
    "id": "FXP-p87n0EWo"
   },
   "source": [
    "Show significance between mean in 2011 to mean in 2012?"
   ]
  },
  {
   "cell_type": "code",
   "execution_count": 12,
   "metadata": {},
   "outputs": [],
   "source": [
    "def plot_log_reg_mean(predictor, target, minimum, maximum):\n",
    "    by_mean = df_train[(df_train[predictor] > minimum) & (df_train[predictor] < maximum)][[predictor, target]].groupby([predictor], as_index=False).mean()\n",
    "    by_mean.info()\n",
    "    sns.regplot(x=by_mean[predictor], y=by_mean[target])"
   ]
  },
  {
   "cell_type": "code",
   "execution_count": 13,
   "metadata": {
    "colab": {
     "autoexec": {
      "startup": false,
      "wait_interval": 0
     }
    },
    "colab_type": "code",
    "id": "dnzGD0q70EWp",
    "outputId": "868cae9d-d55c-440c-c362-e25ae3ca786e"
   },
   "outputs": [
    {
     "name": "stdout",
     "output_type": "stream",
     "text": [
      "<class 'pandas.core.frame.DataFrame'>\n",
      "Int64Index: 74 entries, 0 to 73\n",
      "Data columns (total 2 columns):\n",
      "humidity    74 non-null int64\n",
      "count       74 non-null float64\n",
      "dtypes: float64(1), int64(1)\n",
      "memory usage: 1.7 KB\n"
     ]
    },
    {
     "data": {
      "image/png": "[encoded data removed]",
      "text/plain": [
       "<matplotlib.figure.Figure at 0x208230dc2b0>"
      ]
     },
     "metadata": {},
     "output_type": "display_data"
    }
   ],
   "source": [
    "# count_humid = df_train[df_train['humidity'] > 22][['humidity','count']].groupby(['humidity'], as_index=False).mean()\n",
    "# count_humid.info()\n",
    "# sns.regplot(x=count_humid['humidity'], y=count_humid['count'])\n",
    "plot_log_reg_mean('humidity','count', 22, 100)"
   ]
  },
  {
   "cell_type": "code",
   "execution_count": 14,
   "metadata": {},
   "outputs": [
    {
     "name": "stdout",
     "output_type": "stream",
     "text": [
      "<class 'pandas.core.frame.DataFrame'>\n",
      "Int64Index: 49 entries, 0 to 48\n",
      "Data columns (total 2 columns):\n",
      "temp     49 non-null float64\n",
      "count    49 non-null float64\n",
      "dtypes: float64(2)\n",
      "memory usage: 1.1 KB\n"
     ]
    },
    {
     "data": {
      "image/png": "[encoded data removed]",
      "text/plain": [
       "<matplotlib.figure.Figure at 0x208231268d0>"
      ]
     },
     "metadata": {},
     "output_type": "display_data"
    }
   ],
   "source": [
    "plot_log_reg_mean('temp', 'count', 0,50)"
   ]
  },
  {
   "cell_type": "markdown",
   "metadata": {
    "colab_type": "text",
    "id": "12lEACpQ0EWu"
   },
   "source": [
    "TODO:\n",
    "> - check for missing data\n",
    "> - check for skewed variables\n",
    "> - split date into year and day\n",
    "> - create vatiable for deviation from yearly average (problematic because this is a time series)\n",
    "> - change below variables to categorical"
   ]
  },
  {
   "cell_type": "markdown",
   "metadata": {
    "colab_type": "text",
    "id": "XAEr0k5L0EWv"
   },
   "source": [
    "Make sure there are no nans:"
   ]
  },
  {
   "cell_type": "code",
   "execution_count": 15,
   "metadata": {
    "colab": {
     "autoexec": {
      "startup": false,
      "wait_interval": 0
     }
    },
    "colab_type": "code",
    "id": "kIWe4y6u0EWw",
    "outputId": "8fdacd63-4a79-4c8a-fadf-23c8f764b49d"
   },
   "outputs": [
    {
     "data": {
      "text/plain": [
       "False"
      ]
     },
     "execution_count": 15,
     "metadata": {},
     "output_type": "execute_result"
    }
   ],
   "source": [
    "df_train.isnull().values.any() and df_test.isnull().values.any()"
   ]
  },
  {
   "cell_type": "markdown",
   "metadata": {
    "colab_type": "text",
    "id": "Oo6VKRVe0EWz"
   },
   "source": [
    "check for skewed variables:"
   ]
  },
  {
   "cell_type": "code",
   "execution_count": 16,
   "metadata": {
    "colab": {
     "autoexec": {
      "startup": false,
      "wait_interval": 0
     }
    },
    "colab_type": "code",
    "id": "hcrP9aV50EWz"
   },
   "outputs": [],
   "source": [
    "def plot_hist_with_log1p(feature):\n",
    "    fig, ax =plt.subplots(1,2)\n",
    "    sns.distplot(np.log1p(df_train[feature]), kde=False, ax=ax[0])\n",
    "    sns.distplot(df_train[feature], kde=False, ax=ax[1])\n",
    "    fig.show()"
   ]
  },
  {
   "cell_type": "code",
   "execution_count": 17,
   "metadata": {
    "colab": {
     "autoexec": {
      "startup": false,
      "wait_interval": 0
     }
    },
    "colab_type": "code",
    "id": "Pi6S4sUB0EW1",
    "outputId": "6ab4e23b-36d8-4576-bd76-675105b41f6a"
   },
   "outputs": [
    {
     "name": "stderr",
     "output_type": "stream",
     "text": [
      "C:\\Anaconda3\\envs\\deeplearning\\lib\\site-packages\\matplotlib\\figure.py:418: UserWarning: matplotlib is currently using a non-GUI backend, so cannot show the figure\n",
      "  \"matplotlib is currently using a non-GUI backend, \"\n"
     ]
    },
    {
     "data": {
      "image/png": "[encoded data removed]",
      "text/plain": [
       "<matplotlib.figure.Figure at 0x208230b3d68>"
      ]
     },
     "metadata": {},
     "output_type": "display_data"
    }
   ],
   "source": [
    "plot_hist_with_log1p('count')"
   ]
  },
  {
   "cell_type": "code",
   "execution_count": 18,
   "metadata": {
    "colab": {
     "autoexec": {
      "startup": false,
      "wait_interval": 0
     }
    },
    "colab_type": "code",
    "id": "ds41O6ev0EW5",
    "outputId": "c9df7bac-572a-4955-fc36-eaaa159738dd"
   },
   "outputs": [
    {
     "name": "stderr",
     "output_type": "stream",
     "text": [
      "C:\\Anaconda3\\envs\\deeplearning\\lib\\site-packages\\matplotlib\\figure.py:418: UserWarning: matplotlib is currently using a non-GUI backend, so cannot show the figure\n",
      "  \"matplotlib is currently using a non-GUI backend, \"\n"
     ]
    },
    {
     "data": {
      "image/png": "[encoded data removed]",
      "text/plain": [
       "<matplotlib.figure.Figure at 0x208235aca90>"
      ]
     },
     "metadata": {},
     "output_type": "display_data"
    }
   ],
   "source": [
    "plot_hist_with_log1p('casual')"
   ]
  },
  {
   "cell_type": "code",
   "execution_count": 19,
   "metadata": {
    "colab": {
     "autoexec": {
      "startup": false,
      "wait_interval": 0
     }
    },
    "colab_type": "code",
    "id": "tzTmJ7240EW8",
    "outputId": "69f41a33-e6d6-4590-c33a-4b0ca5cf4c46"
   },
   "outputs": [
    {
     "name": "stderr",
     "output_type": "stream",
     "text": [
      "C:\\Anaconda3\\envs\\deeplearning\\lib\\site-packages\\matplotlib\\figure.py:418: UserWarning: matplotlib is currently using a non-GUI backend, so cannot show the figure\n",
      "  \"matplotlib is currently using a non-GUI backend, \"\n"
     ]
    },
    {
     "data": {
      "image/png": "[encoded data removed]",
      "text/plain": [
       "<matplotlib.figure.Figure at 0x2082330ff60>"
      ]
     },
     "metadata": {},
     "output_type": "display_data"
    }
   ],
   "source": [
    "plot_hist_with_log1p('registered')"
   ]
  },
  {
   "cell_type": "markdown",
   "metadata": {
    "colab_type": "text",
    "id": "C_s4rLV20EW-"
   },
   "source": [
    "possible categorical variables:\n",
    "- season\n",
    "- datetime - separate the year and month\n",
    "- weather"
   ]
  },
  {
   "cell_type": "markdown",
   "metadata": {
    "colab_type": "text",
    "id": "beEkLbJr0EW_"
   },
   "source": [
    "## Feature Engineering"
   ]
  },
  {
   "cell_type": "markdown",
   "metadata": {
    "colab_type": "text",
    "id": "qOyh6_iU0EXA"
   },
   "source": [
    "Two main things we will do here:\n",
    "1. split datetime\n",
    "2. get rid of casual and registered in  train set"
   ]
  },
  {
   "cell_type": "code",
   "execution_count": 20,
   "metadata": {
    "colab": {
     "autoexec": {
      "startup": false,
      "wait_interval": 0
     }
    },
    "colab_type": "code",
    "id": "WE0-lvHZ0EXA"
   },
   "outputs": [],
   "source": [
    "def split_datetime(df):\n",
    "    df['year'] = df['datetime'].map(lambda x: x.year)\n",
    "    df['month'] = df['datetime'].map(lambda x: x.month)\n",
    "    df['hour'] = df['datetime'].map(lambda x: x.hour)\n",
    "    df['weekday'] = df['datetime'].map(lambda x: x.weekday())\n",
    "    return df"
   ]
  },
  {
   "cell_type": "code",
   "execution_count": 21,
   "metadata": {
    "colab": {
     "autoexec": {
      "startup": false,
      "wait_interval": 0
     }
    },
    "colab_type": "code",
    "id": "EF-GTTj10EXC"
   },
   "outputs": [],
   "source": [
    "df_train = split_datetime(df_train)\n",
    "df_train_with_datetime_casual_registered = df_train.copy()\n",
    "df_train.drop(columns=['datetime', 'casual', 'registered'], inplace=True)"
   ]
  },
  {
   "cell_type": "code",
   "execution_count": 22,
   "metadata": {
    "colab": {
     "autoexec": {
      "startup": false,
      "wait_interval": 0
     }
    },
    "colab_type": "code",
    "id": "P9lUvYyx0EXE",
    "outputId": "5a01255e-2382-4d7d-da06-90abefb839b2"
   },
   "outputs": [
    {
     "name": "stdout",
     "output_type": "stream",
     "text": [
      "<class 'pandas.core.frame.DataFrame'>\n",
      "Int64Index: 10886 entries, 0 to 10885\n",
      "Data columns (total 13 columns):\n",
      "season        10886 non-null int64\n",
      "holiday       10886 non-null int64\n",
      "workingday    10886 non-null int64\n",
      "weather       10886 non-null int64\n",
      "temp          10886 non-null float64\n",
      "atemp         10886 non-null float64\n",
      "humidity      10886 non-null int64\n",
      "windspeed     10886 non-null float64\n",
      "count         10886 non-null int64\n",
      "year          10886 non-null int64\n",
      "month         10886 non-null int64\n",
      "hour          10886 non-null int64\n",
      "weekday       10886 non-null int64\n",
      "dtypes: float64(3), int64(10)\n",
      "memory usage: 1.2 MB\n"
     ]
    }
   ],
   "source": [
    "df_train.info()"
   ]
  },
  {
   "cell_type": "code",
   "execution_count": 23,
   "metadata": {
    "colab": {
     "autoexec": {
      "startup": false,
      "wait_interval": 0
     }
    },
    "colab_type": "code",
    "id": "KRYwv3fn0EXI",
    "outputId": "1d56d4ca-a2b0-43f5-8420-47f7fef14fa1"
   },
   "outputs": [
    {
     "data": {
      "text/html": [
       "<div>\n",
       "<style scoped>\n",
       "    .dataframe tbody tr th:only-of-type {\n",
       "        vertical-align: middle;\n",
       "    }\n",
       "\n",
       "    .dataframe tbody tr th {\n",
       "        vertical-align: top;\n",
       "    }\n",
       "\n",
       "    .dataframe thead th {\n",
       "        text-align: right;\n",
       "    }\n",
       "</style>\n",
       "<table border=\"1\" class=\"dataframe\">\n",
       "  <thead>\n",
       "    <tr style=\"text-align: right;\">\n",
       "      <th></th>\n",
       "      <th>season</th>\n",
       "      <th>holiday</th>\n",
       "      <th>workingday</th>\n",
       "      <th>weather</th>\n",
       "      <th>temp</th>\n",
       "      <th>atemp</th>\n",
       "      <th>humidity</th>\n",
       "      <th>windspeed</th>\n",
       "      <th>count</th>\n",
       "      <th>year</th>\n",
       "      <th>month</th>\n",
       "      <th>hour</th>\n",
       "      <th>weekday</th>\n",
       "    </tr>\n",
       "  </thead>\n",
       "  <tbody>\n",
       "    <tr>\n",
       "      <th>0</th>\n",
       "      <td>1</td>\n",
       "      <td>0</td>\n",
       "      <td>0</td>\n",
       "      <td>1</td>\n",
       "      <td>9.84</td>\n",
       "      <td>14.395</td>\n",
       "      <td>81</td>\n",
       "      <td>0.0</td>\n",
       "      <td>16</td>\n",
       "      <td>2011</td>\n",
       "      <td>1</td>\n",
       "      <td>0</td>\n",
       "      <td>5</td>\n",
       "    </tr>\n",
       "    <tr>\n",
       "      <th>1</th>\n",
       "      <td>1</td>\n",
       "      <td>0</td>\n",
       "      <td>0</td>\n",
       "      <td>1</td>\n",
       "      <td>9.02</td>\n",
       "      <td>13.635</td>\n",
       "      <td>80</td>\n",
       "      <td>0.0</td>\n",
       "      <td>40</td>\n",
       "      <td>2011</td>\n",
       "      <td>1</td>\n",
       "      <td>1</td>\n",
       "      <td>5</td>\n",
       "    </tr>\n",
       "    <tr>\n",
       "      <th>2</th>\n",
       "      <td>1</td>\n",
       "      <td>0</td>\n",
       "      <td>0</td>\n",
       "      <td>1</td>\n",
       "      <td>9.02</td>\n",
       "      <td>13.635</td>\n",
       "      <td>80</td>\n",
       "      <td>0.0</td>\n",
       "      <td>32</td>\n",
       "      <td>2011</td>\n",
       "      <td>1</td>\n",
       "      <td>2</td>\n",
       "      <td>5</td>\n",
       "    </tr>\n",
       "    <tr>\n",
       "      <th>3</th>\n",
       "      <td>1</td>\n",
       "      <td>0</td>\n",
       "      <td>0</td>\n",
       "      <td>1</td>\n",
       "      <td>9.84</td>\n",
       "      <td>14.395</td>\n",
       "      <td>75</td>\n",
       "      <td>0.0</td>\n",
       "      <td>13</td>\n",
       "      <td>2011</td>\n",
       "      <td>1</td>\n",
       "      <td>3</td>\n",
       "      <td>5</td>\n",
       "    </tr>\n",
       "    <tr>\n",
       "      <th>4</th>\n",
       "      <td>1</td>\n",
       "      <td>0</td>\n",
       "      <td>0</td>\n",
       "      <td>1</td>\n",
       "      <td>9.84</td>\n",
       "      <td>14.395</td>\n",
       "      <td>75</td>\n",
       "      <td>0.0</td>\n",
       "      <td>1</td>\n",
       "      <td>2011</td>\n",
       "      <td>1</td>\n",
       "      <td>4</td>\n",
       "      <td>5</td>\n",
       "    </tr>\n",
       "  </tbody>\n",
       "</table>\n",
       "</div>"
      ],
      "text/plain": [
       "   season  holiday  workingday  weather  temp   atemp  humidity  windspeed  \\\n",
       "0       1        0           0        1  9.84  14.395        81        0.0   \n",
       "1       1        0           0        1  9.02  13.635        80        0.0   \n",
       "2       1        0           0        1  9.02  13.635        80        0.0   \n",
       "3       1        0           0        1  9.84  14.395        75        0.0   \n",
       "4       1        0           0        1  9.84  14.395        75        0.0   \n",
       "\n",
       "   count  year  month  hour  weekday  \n",
       "0     16  2011      1     0        5  \n",
       "1     40  2011      1     1        5  \n",
       "2     32  2011      1     2        5  \n",
       "3     13  2011      1     3        5  \n",
       "4      1  2011      1     4        5  "
      ]
     },
     "execution_count": 23,
     "metadata": {},
     "output_type": "execute_result"
    }
   ],
   "source": [
    "df_train.head()"
   ]
  },
  {
   "cell_type": "markdown",
   "metadata": {
    "colab_type": "text",
    "id": "4-dlneD30EXf"
   },
   "source": [
    "Boxplots for days of the week vs count:"
   ]
  },
  {
   "cell_type": "code",
   "execution_count": 24,
   "metadata": {
    "colab": {
     "autoexec": {
      "startup": false,
      "wait_interval": 0
     }
    },
    "colab_type": "code",
    "id": "K6I9Hri90EXL",
    "outputId": "1ee80b7e-ac31-46bf-c332-b9136de0965e"
   },
   "outputs": [
    {
     "data": {
      "text/plain": [
       "<matplotlib.axes._subplots.AxesSubplot at 0x20822df9be0>"
      ]
     },
     "execution_count": 24,
     "metadata": {},
     "output_type": "execute_result"
    },
    {
     "data": {
      "image/png": "[encoded data removed]",
      "text/plain": [
       "<matplotlib.figure.Figure at 0x208235b35f8>"
      ]
     },
     "metadata": {},
     "output_type": "display_data"
    }
   ],
   "source": [
    "sns.boxplot(x=df_train['weekday'], y=df_train['count'])"
   ]
  },
  {
   "cell_type": "code",
   "execution_count": 25,
   "metadata": {
    "colab": {
     "autoexec": {
      "startup": false,
      "wait_interval": 0
     }
    },
    "colab_type": "code",
    "id": "z3OVDTF00EXT",
    "outputId": "f056b616-aa7e-4b1e-bcab-17b6e97a2180"
   },
   "outputs": [
    {
     "data": {
      "text/plain": [
       "<matplotlib.axes._subplots.AxesSubplot at 0x20823634160>"
      ]
     },
     "execution_count": 25,
     "metadata": {},
     "output_type": "execute_result"
    },
    {
     "data": {
      "image/png": "[encoded data removed]",
      "text/plain": [
       "<matplotlib.figure.Figure at 0x20823801668>"
      ]
     },
     "metadata": {},
     "output_type": "display_data"
    }
   ],
   "source": [
    "sns.boxplot(x=df_train[df_train.year != 2011]['hour'], y=df_train['count'])"
   ]
  },
  {
   "cell_type": "code",
   "execution_count": 26,
   "metadata": {
    "colab": {
     "autoexec": {
      "startup": false,
      "wait_interval": 0
     }
    },
    "colab_type": "code",
    "id": "EJS1x3eL0EXX",
    "outputId": "e246ae76-104f-4cb9-8b44-19f07f6bdab6"
   },
   "outputs": [
    {
     "data": {
      "text/plain": [
       "<matplotlib.axes._subplots.AxesSubplot at 0x20823639e10>"
      ]
     },
     "execution_count": 26,
     "metadata": {},
     "output_type": "execute_result"
    },
    {
     "data": {
      "image/png": "[encoded data removed]",
      "text/plain": [
       "<matplotlib.figure.Figure at 0x20823629f60>"
      ]
     },
     "metadata": {},
     "output_type": "display_data"
    }
   ],
   "source": [
    "sns.boxplot(x=df_train[df_train.year != 2012]['hour'], y=df_train['count'])"
   ]
  },
  {
   "cell_type": "markdown",
   "metadata": {
    "colab_type": "text",
    "id": "TLvykNqb0EXZ"
   },
   "source": [
    "We can see here that count follows a clear pattern:<br>\n",
    "Down during night, up during rush hours, and medium during the day"
   ]
  },
  {
   "cell_type": "code",
   "execution_count": 27,
   "metadata": {
    "colab": {
     "autoexec": {
      "startup": false,
      "wait_interval": 0
     }
    },
    "colab_type": "code",
    "id": "hd4z0wIA0EXa",
    "outputId": "5815b8b7-5256-441c-fc26-52d612a01b93"
   },
   "outputs": [
    {
     "data": {
      "text/plain": [
       "array([0, 1], dtype=int64)"
      ]
     },
     "execution_count": 27,
     "metadata": {},
     "output_type": "execute_result"
    }
   ],
   "source": [
    "df_train.workingday.unique()"
   ]
  },
  {
   "cell_type": "code",
   "execution_count": 28,
   "metadata": {
    "colab": {
     "autoexec": {
      "startup": false,
      "wait_interval": 0
     }
    },
    "colab_type": "code",
    "id": "fqOEXwxu0EXc",
    "outputId": "b4764905-055e-4201-8150-63227a0704eb"
   },
   "outputs": [
    {
     "data": {
      "text/plain": [
       "array([2011, 2012], dtype=int64)"
      ]
     },
     "execution_count": 28,
     "metadata": {},
     "output_type": "execute_result"
    }
   ],
   "source": [
    "df_train.year.unique()"
   ]
  },
  {
   "cell_type": "code",
   "execution_count": 29,
   "metadata": {
    "colab": {
     "autoexec": {
      "startup": false,
      "wait_interval": 0
     }
    },
    "colab_type": "code",
    "id": "3g7l5fTS0EXf"
   },
   "outputs": [],
   "source": [
    "df_test = split_datetime(df_test)\n",
    "df_test_with_datetime_casual_registered = df_test.copy()\n",
    "test_datetime = df_test['datetime']\n",
    "df_test.drop(columns=['datetime'], inplace=True)"
   ]
  },
  {
   "cell_type": "code",
   "execution_count": 30,
   "metadata": {
    "colab": {
     "autoexec": {
      "startup": false,
      "wait_interval": 0
     }
    },
    "colab_type": "code",
    "id": "gN1K8t1d0EXi",
    "outputId": "4f526e31-fa73-41b6-d011-2d46fccff43c"
   },
   "outputs": [
    {
     "name": "stdout",
     "output_type": "stream",
     "text": [
      "<class 'pandas.core.frame.DataFrame'>\n",
      "RangeIndex: 6493 entries, 0 to 6492\n",
      "Data columns (total 12 columns):\n",
      "season        6493 non-null int64\n",
      "holiday       6493 non-null int64\n",
      "workingday    6493 non-null int64\n",
      "weather       6493 non-null int64\n",
      "temp          6493 non-null float64\n",
      "atemp         6493 non-null float64\n",
      "humidity      6493 non-null int64\n",
      "windspeed     6493 non-null float64\n",
      "year          6493 non-null int64\n",
      "month         6493 non-null int64\n",
      "hour          6493 non-null int64\n",
      "weekday       6493 non-null int64\n",
      "dtypes: float64(3), int64(9)\n",
      "memory usage: 608.8 KB\n"
     ]
    }
   ],
   "source": [
    "df_test.info()"
   ]
  },
  {
   "cell_type": "code",
   "execution_count": 31,
   "metadata": {
    "colab": {
     "autoexec": {
      "startup": false,
      "wait_interval": 0
     }
    },
    "colab_type": "code",
    "id": "SGu7TBSF0EXk",
    "outputId": "1fab4b4a-4c74-48ef-96bb-88a86b4b2d53"
   },
   "outputs": [
    {
     "data": {
      "text/html": [
       "<div>\n",
       "<style scoped>\n",
       "    .dataframe tbody tr th:only-of-type {\n",
       "        vertical-align: middle;\n",
       "    }\n",
       "\n",
       "    .dataframe tbody tr th {\n",
       "        vertical-align: top;\n",
       "    }\n",
       "\n",
       "    .dataframe thead th {\n",
       "        text-align: right;\n",
       "    }\n",
       "</style>\n",
       "<table border=\"1\" class=\"dataframe\">\n",
       "  <thead>\n",
       "    <tr style=\"text-align: right;\">\n",
       "      <th></th>\n",
       "      <th>season</th>\n",
       "      <th>holiday</th>\n",
       "      <th>workingday</th>\n",
       "      <th>weather</th>\n",
       "      <th>temp</th>\n",
       "      <th>atemp</th>\n",
       "      <th>humidity</th>\n",
       "      <th>windspeed</th>\n",
       "      <th>year</th>\n",
       "      <th>month</th>\n",
       "      <th>hour</th>\n",
       "      <th>weekday</th>\n",
       "    </tr>\n",
       "  </thead>\n",
       "  <tbody>\n",
       "    <tr>\n",
       "      <th>0</th>\n",
       "      <td>1</td>\n",
       "      <td>0</td>\n",
       "      <td>1</td>\n",
       "      <td>1</td>\n",
       "      <td>10.66</td>\n",
       "      <td>11.365</td>\n",
       "      <td>56</td>\n",
       "      <td>26.0027</td>\n",
       "      <td>2011</td>\n",
       "      <td>1</td>\n",
       "      <td>0</td>\n",
       "      <td>3</td>\n",
       "    </tr>\n",
       "    <tr>\n",
       "      <th>1</th>\n",
       "      <td>1</td>\n",
       "      <td>0</td>\n",
       "      <td>1</td>\n",
       "      <td>1</td>\n",
       "      <td>10.66</td>\n",
       "      <td>13.635</td>\n",
       "      <td>56</td>\n",
       "      <td>0.0000</td>\n",
       "      <td>2011</td>\n",
       "      <td>1</td>\n",
       "      <td>1</td>\n",
       "      <td>3</td>\n",
       "    </tr>\n",
       "    <tr>\n",
       "      <th>2</th>\n",
       "      <td>1</td>\n",
       "      <td>0</td>\n",
       "      <td>1</td>\n",
       "      <td>1</td>\n",
       "      <td>10.66</td>\n",
       "      <td>13.635</td>\n",
       "      <td>56</td>\n",
       "      <td>0.0000</td>\n",
       "      <td>2011</td>\n",
       "      <td>1</td>\n",
       "      <td>2</td>\n",
       "      <td>3</td>\n",
       "    </tr>\n",
       "    <tr>\n",
       "      <th>3</th>\n",
       "      <td>1</td>\n",
       "      <td>0</td>\n",
       "      <td>1</td>\n",
       "      <td>1</td>\n",
       "      <td>10.66</td>\n",
       "      <td>12.880</td>\n",
       "      <td>56</td>\n",
       "      <td>11.0014</td>\n",
       "      <td>2011</td>\n",
       "      <td>1</td>\n",
       "      <td>3</td>\n",
       "      <td>3</td>\n",
       "    </tr>\n",
       "    <tr>\n",
       "      <th>4</th>\n",
       "      <td>1</td>\n",
       "      <td>0</td>\n",
       "      <td>1</td>\n",
       "      <td>1</td>\n",
       "      <td>10.66</td>\n",
       "      <td>12.880</td>\n",
       "      <td>56</td>\n",
       "      <td>11.0014</td>\n",
       "      <td>2011</td>\n",
       "      <td>1</td>\n",
       "      <td>4</td>\n",
       "      <td>3</td>\n",
       "    </tr>\n",
       "  </tbody>\n",
       "</table>\n",
       "</div>"
      ],
      "text/plain": [
       "   season  holiday  workingday  weather   temp   atemp  humidity  windspeed  \\\n",
       "0       1        0           1        1  10.66  11.365        56    26.0027   \n",
       "1       1        0           1        1  10.66  13.635        56     0.0000   \n",
       "2       1        0           1        1  10.66  13.635        56     0.0000   \n",
       "3       1        0           1        1  10.66  12.880        56    11.0014   \n",
       "4       1        0           1        1  10.66  12.880        56    11.0014   \n",
       "\n",
       "   year  month  hour  weekday  \n",
       "0  2011      1     0        3  \n",
       "1  2011      1     1        3  \n",
       "2  2011      1     2        3  \n",
       "3  2011      1     3        3  \n",
       "4  2011      1     4        3  "
      ]
     },
     "execution_count": 31,
     "metadata": {},
     "output_type": "execute_result"
    }
   ],
   "source": [
    "df_test.head()"
   ]
  },
  {
   "cell_type": "markdown",
   "metadata": {
    "colab_type": "text",
    "id": "vCTtzAtB0EXp"
   },
   "source": [
    "We need to optimize for RMSLE according to the evaluation.<br>\n",
    "For this we will log shift count.<br>\n",
    "We need to remember later to take the exponent after predicting."
   ]
  },
  {
   "cell_type": "code",
   "execution_count": 32,
   "metadata": {
    "colab": {
     "autoexec": {
      "startup": false,
      "wait_interval": 0
     }
    },
    "colab_type": "code",
    "id": "Z3tg_aNT0EXp"
   },
   "outputs": [],
   "source": [
    "df_train['count'] = np.log1p(df_train['count'])"
   ]
  },
  {
   "cell_type": "code",
   "execution_count": 33,
   "metadata": {
    "colab": {
     "autoexec": {
      "startup": false,
      "wait_interval": 0
     }
    },
    "colab_type": "code",
    "id": "l-7hYKn90EXu",
    "outputId": "908210bb-0a5e-4fb5-b145-a199c492335a"
   },
   "outputs": [
    {
     "data": {
      "text/plain": [
       "0    2.833213\n",
       "1    3.713572\n",
       "2    3.496508\n",
       "3    2.639057\n",
       "4    0.693147\n",
       "Name: count, dtype: float64"
      ]
     },
     "execution_count": 33,
     "metadata": {},
     "output_type": "execute_result"
    }
   ],
   "source": [
    "df_train['count'].head()"
   ]
  },
  {
   "cell_type": "markdown",
   "metadata": {
    "colab_type": "text",
    "id": "54W6EalB0EX1"
   },
   "source": [
    "## Modeling"
   ]
  },
  {
   "cell_type": "markdown",
   "metadata": {
    "colab_type": "text",
    "id": "sXJa06A20EX1"
   },
   "source": [
    "We need a model that fulfils a number of requirnments:\n",
    "- data is approximately linear (but not exactly linear)\n",
    "- dataset is small\n",
    "- model seasonality"
   ]
  },
  {
   "cell_type": "code",
   "execution_count": 34,
   "metadata": {
    "colab": {
     "autoexec": {
      "startup": false,
      "wait_interval": 0
     }
    },
    "colab_type": "code",
    "id": "Qzx6S60S0EX5",
    "outputId": "ce235418-789b-4835-d33c-bbb94970c8af"
   },
   "outputs": [],
   "source": [
    "from xgboost import XGBRegressor\n",
    "from sklearn.ensemble import RandomForestRegressor\n",
    "from sklearn.model_selection import train_test_split\n",
    "from sklearn.metrics import accuracy_score\n",
    "from sklearn.model_selection import cross_val_score\n",
    "from sklearn.metrics import mean_squared_error\n",
    "import random"
   ]
  },
  {
   "cell_type": "code",
   "execution_count": 35,
   "metadata": {},
   "outputs": [],
   "source": [
    "def rmse_cv(model, X_, y_):\n",
    "    rmse= np.sqrt(-cross_val_score(model, X_, y_, scoring=\"neg_mean_squared_error\", cv = 5))\n",
    "    return(rmse)"
   ]
  },
  {
   "cell_type": "code",
   "execution_count": 36,
   "metadata": {
    "colab": {
     "autoexec": {
      "startup": false,
      "wait_interval": 0
     }
    },
    "colab_type": "code",
    "id": "9S7gItFM0EX7",
    "outputId": "153a9b99-a5ef-41e9-835f-1145221cc44a"
   },
   "outputs": [
    {
     "name": "stdout",
     "output_type": "stream",
     "text": [
      "<class 'pandas.core.frame.DataFrame'>\n",
      "Int64Index: 10886 entries, 0 to 10885\n",
      "Data columns (total 12 columns):\n",
      "season        10886 non-null int64\n",
      "holiday       10886 non-null int64\n",
      "workingday    10886 non-null int64\n",
      "weather       10886 non-null int64\n",
      "temp          10886 non-null float64\n",
      "atemp         10886 non-null float64\n",
      "humidity      10886 non-null int64\n",
      "windspeed     10886 non-null float64\n",
      "year          10886 non-null int64\n",
      "month         10886 non-null int64\n",
      "hour          10886 non-null int64\n",
      "weekday       10886 non-null int64\n",
      "dtypes: float64(3), int64(9)\n",
      "memory usage: 1.4 MB\n"
     ]
    }
   ],
   "source": [
    "X = df_train.drop(columns=['count'])\n",
    "y = df_train['count']\n",
    "X.info()"
   ]
  },
  {
   "cell_type": "code",
   "execution_count": 37,
   "metadata": {
    "colab": {
     "autoexec": {
      "startup": false,
      "wait_interval": 0
     }
    },
    "colab_type": "code",
    "id": "jTFtyVe00EX-",
    "outputId": "fd1c8319-4261-4c0c-9d48-5e50377381d4"
   },
   "outputs": [
    {
     "data": {
      "text/plain": [
       "0    2.833213\n",
       "1    3.713572\n",
       "2    3.496508\n",
       "3    2.639057\n",
       "4    0.693147\n",
       "Name: count, dtype: float64"
      ]
     },
     "execution_count": 37,
     "metadata": {},
     "output_type": "execute_result"
    }
   ],
   "source": [
    "y.head()"
   ]
  },
  {
   "cell_type": "markdown",
   "metadata": {
    "colab_type": "text",
    "id": "A6tSKW9V0EYC"
   },
   "source": [
    "We will select 25% to be the validation set.\n",
    "We will select samples randomly so that we will get samples from various days in 2011 and 2012"
   ]
  },
  {
   "cell_type": "code",
   "execution_count": 38,
   "metadata": {
    "colab": {
     "autoexec": {
      "startup": false,
      "wait_interval": 0
     }
    },
    "colab_type": "code",
    "id": "hE4HopSF0EYC"
   },
   "outputs": [],
   "source": [
    "X_train, X_val, y_train, y_val = train_test_split(X, y, train_size=0.75, test_size=0.25, random_state=0)"
   ]
  },
  {
   "cell_type": "code",
   "execution_count": 39,
   "metadata": {
    "colab": {
     "autoexec": {
      "startup": false,
      "wait_interval": 0
     }
    },
    "colab_type": "code",
    "id": "i47vt8uq0EYG",
    "outputId": "00790940-1f30-473b-bb6d-fcdebbf378a5"
   },
   "outputs": [
    {
     "data": {
      "text/plain": [
       "count    8164.000000\n",
       "mean        4.586878\n",
       "std         1.415881\n",
       "min         0.693147\n",
       "25%         3.784190\n",
       "50%         4.962845\n",
       "75%         5.652489\n",
       "max         6.885510\n",
       "Name: count, dtype: float64"
      ]
     },
     "execution_count": 39,
     "metadata": {},
     "output_type": "execute_result"
    }
   ],
   "source": [
    "y_train.describe()"
   ]
  },
  {
   "cell_type": "code",
   "execution_count": 40,
   "metadata": {
    "colab": {
     "autoexec": {
      "startup": false,
      "wait_interval": 0
     }
    },
    "colab_type": "code",
    "id": "kGiyn6Jd0EYK",
    "outputId": "2c2af790-0fbd-4b44-df07-eac5e5973911"
   },
   "outputs": [
    {
     "data": {
      "text/plain": [
       "(8164, 12)"
      ]
     },
     "execution_count": 40,
     "metadata": {},
     "output_type": "execute_result"
    }
   ],
   "source": [
    "X_train.shape"
   ]
  },
  {
   "cell_type": "code",
   "execution_count": 41,
   "metadata": {
    "colab": {
     "autoexec": {
      "startup": false,
      "wait_interval": 0
     }
    },
    "colab_type": "code",
    "id": "bDVn7KCN0EYM",
    "outputId": "eb56f75f-30db-4947-9c52-53c3dadfb50d"
   },
   "outputs": [
    {
     "data": {
      "text/plain": [
       "(2722, 12)"
      ]
     },
     "execution_count": 41,
     "metadata": {},
     "output_type": "execute_result"
    }
   ],
   "source": [
    "X_val.shape"
   ]
  },
  {
   "cell_type": "markdown",
   "metadata": {},
   "source": [
    "### Naiv model"
   ]
  },
  {
   "cell_type": "markdown",
   "metadata": {},
   "source": [
    "First of all, I would like a baseline. A naiv model as a reference point to make sure I am improving on it.<br>\n",
    "In the case of regression, we can use a simple linear regression to make a naiv prediction based on 1 feature which has a strong correlation to count.<br>\n",
    "<br>\n",
    "For our predictor we will chose the temp feature which has the strongest correlation count (see heatmap and regression line plots in the EDA section)."
   ]
  },
  {
   "cell_type": "code",
   "execution_count": 42,
   "metadata": {
    "scrolled": true
   },
   "outputs": [
    {
     "name": "stdout",
     "output_type": "stream",
     "text": [
      "Coefficients: \n",
      " [ 0.06784489]\n",
      "Root Mean squared error: 1.32\n",
      "Variance score: 0.15\n"
     ]
    },
    {
     "name": "stderr",
     "output_type": "stream",
     "text": [
      "C:\\Anaconda3\\envs\\deeplearning\\lib\\site-packages\\ipykernel_launcher.py:5: FutureWarning: reshape is deprecated and will raise in a subsequent release. Please use .values.reshape(...) instead\n",
      "  \"\"\"\n",
      "C:\\Anaconda3\\envs\\deeplearning\\lib\\site-packages\\ipykernel_launcher.py:7: FutureWarning: reshape is deprecated and will raise in a subsequent release. Please use .values.reshape(...) instead\n",
      "  import sys\n"
     ]
    },
    {
     "data": {
      "image/png": "[encoded data removed]",
      "text/plain": [
       "<matplotlib.figure.Figure at 0x20824e2afd0>"
      ]
     },
     "metadata": {},
     "output_type": "display_data"
    }
   ],
   "source": [
    "from sklearn import linear_model\n",
    "from sklearn.metrics import mean_squared_error, r2_score\n",
    "\n",
    "regr = linear_model.LinearRegression()\n",
    "regr.fit(X_train['temp'].reshape(-1, 1), y_train)\n",
    "\n",
    "y_pred = regr.predict(X_val['temp'].reshape(-1, 1))\n",
    "\n",
    "# The coefficients\n",
    "print('Coefficients: \\n', regr.coef_)\n",
    "# The mean squared error\n",
    "baseline_RMSE = np.sqrt(mean_squared_error(y_val, y_pred))\n",
    "baseline_RMSE_CV = rmse_cv(linear_model.LinearRegression(), X, y)\n",
    "baseline_RMSE_CV = np.average(baseline_RMSE_CV)\n",
    "\n",
    "print(\"Root Mean squared error: %.2f\"\n",
    "      % baseline_RMSE)\n",
    "# Explained variance score: 1 is perfect prediction\n",
    "print('Variance score: %.2f' % r2_score(y_val, y_pred))\n",
    "\n",
    "# Plot outputs\n",
    "plt.scatter(X_val['temp'],y_val,  color='blue')\n",
    "plt.plot(X_val['temp'], y_pred, color='red', linewidth=3)\n",
    "\n",
    "plt.xticks(())\n",
    "plt.yticks(())\n",
    "\n",
    "plt.show()"
   ]
  },
  {
   "cell_type": "markdown",
   "metadata": {},
   "source": [
    "Good, now we have a reference for a naiv model which takes the linear regression for temp vs count.<br>\n",
    "**naiv linear regression RMSE** = 1.32"
   ]
  },
  {
   "cell_type": "code",
   "execution_count": 43,
   "metadata": {},
   "outputs": [],
   "source": [
    "model_results_df = pd.DataFrame(columns=['model', 'RMSE', 'CV'])\n",
    "model_results_df['model'] = model_results_df['model'].astype(str)\n",
    "model_results_df[['RMSE', 'CV']] = model_results_df[['RMSE', 'CV']].astype(float)\n",
    "i=0\n",
    "model_results_df.loc[i] = ['naiv linear regression', baseline_RMSE, baseline_RMSE_CV]"
   ]
  },
  {
   "cell_type": "markdown",
   "metadata": {},
   "source": [
    "### Basic tree ensemble based models with simple hyperparams"
   ]
  },
  {
   "cell_type": "code",
   "execution_count": 44,
   "metadata": {},
   "outputs": [],
   "source": [
    "def run_simple_pipeline(model, random_state):\n",
    "    try:\n",
    "        simple_model = model(random_state=random_state)\n",
    "        CV = rmse_cv(model(random_state=random_state), X, y)\n",
    "    except TypeError as e:\n",
    "        simple_model = model(seed=random_state)\n",
    "        CV = rmse_cv(model(seed = random_state), X, y)\n",
    "    CV = np.average(CV)\n",
    "    simple_model.fit(X_train, y_train)\n",
    "    y_pred = simple_model.predict(X_val)\n",
    "    simple_model_RMSE = np.sqrt(mean_squared_error(y_val, y_pred))\n",
    "    return simple_model, simple_model_RMSE, CV"
   ]
  },
  {
   "cell_type": "code",
   "execution_count": 45,
   "metadata": {},
   "outputs": [
    {
     "name": "stdout",
     "output_type": "stream",
     "text": [
      "RMSE: 0.32763509950713954, CV:0.4739044853414681\n"
     ]
    }
   ],
   "source": [
    "simple_random_forest, simple_random_forest_RMSE, simple_random_forest_RMSE_CV = run_simple_pipeline(RandomForestRegressor, random_state=0)\n",
    "print(f'RMSE: {simple_random_forest_RMSE}, CV:{simple_random_forest_RMSE_CV}')"
   ]
  },
  {
   "cell_type": "markdown",
   "metadata": {},
   "source": [
    "So for a simple random forest model:<br>\n",
    "**simple random forest RMSE** = 0.3276"
   ]
  },
  {
   "cell_type": "code",
   "execution_count": 46,
   "metadata": {},
   "outputs": [],
   "source": [
    "i += 1\n",
    "model_results_df.loc[i] = ['simple random forest seed 0', simple_random_forest_RMSE, simple_random_forest_RMSE_CV]"
   ]
  },
  {
   "cell_type": "code",
   "execution_count": 47,
   "metadata": {},
   "outputs": [
    {
     "name": "stdout",
     "output_type": "stream",
     "text": [
      "RMSE: 0.3840467860604075, CV:0.4641353588677174\n"
     ]
    }
   ],
   "source": [
    "simple_XGBoost, simple_XGBoost_RMSE, simple_XGBoost_RMSE_CV = run_simple_pipeline(XGBRegressor, random_state=0)\n",
    "print(f'RMSE: {simple_XGBoost_RMSE}, CV:{simple_XGBoost_RMSE_CV}')"
   ]
  },
  {
   "cell_type": "markdown",
   "metadata": {},
   "source": [
    "for simple xgboos regressor:\n",
    "**simple xgboost RMSE** = 0.38404"
   ]
  },
  {
   "cell_type": "code",
   "execution_count": 48,
   "metadata": {},
   "outputs": [],
   "source": [
    "i += 1\n",
    "model_results_df.loc[i] = ['simple xgboost seed 0', simple_XGBoost_RMSE, simple_XGBoost_RMSE_CV]"
   ]
  },
  {
   "cell_type": "markdown",
   "metadata": {},
   "source": [
    "Lets try other random seeds"
   ]
  },
  {
   "cell_type": "code",
   "execution_count": 49,
   "metadata": {},
   "outputs": [
    {
     "name": "stdout",
     "output_type": "stream",
     "text": [
      "RMSE: 0.3275943818716689, CV:0.46555753309965925\n"
     ]
    }
   ],
   "source": [
    "simple_random_forest_475, simple_random_forest_RMSE_475, simple_random_forest_RMSE_CV_475 = run_simple_pipeline(RandomForestRegressor, random_state=475)\n",
    "print(f'RMSE: {simple_random_forest_RMSE_475}, CV:{simple_random_forest_RMSE_CV_475}')"
   ]
  },
  {
   "cell_type": "code",
   "execution_count": 50,
   "metadata": {},
   "outputs": [],
   "source": [
    "i += 1\n",
    "model_results_df.loc[i] = ['simple random forest seed 475', simple_random_forest_RMSE_475, simple_random_forest_RMSE_CV_475]"
   ]
  },
  {
   "cell_type": "code",
   "execution_count": 51,
   "metadata": {},
   "outputs": [
    {
     "name": "stdout",
     "output_type": "stream",
     "text": [
      "RMSE: 0.3840467860604075, CV:0.4641353588677174\n"
     ]
    }
   ],
   "source": [
    "simple_XGBoost_475, simple_XGBoost_RMSE_475, simple_XGBoost_RMSE_CV_475 = run_simple_pipeline(XGBRegressor, random_state=475)\n",
    "print(f'RMSE: {simple_XGBoost_RMSE_475}, CV:{simple_XGBoost_RMSE_CV_475}')"
   ]
  },
  {
   "cell_type": "code",
   "execution_count": 52,
   "metadata": {},
   "outputs": [],
   "source": [
    "i += 1\n",
    "model_results_df.loc[i] = ['simple xgboost seed 475', simple_XGBoost_RMSE_475, simple_XGBoost_RMSE_CV_475]"
   ]
  },
  {
   "cell_type": "code",
   "execution_count": 53,
   "metadata": {},
   "outputs": [
    {
     "name": "stdout",
     "output_type": "stream",
     "text": [
      "RMSE: 0.3333710826883618, CV:0.4665788309852575\n"
     ]
    }
   ],
   "source": [
    "simple_random_forest_887, simple_random_forest_RMSE_887, simple_random_forest_RMSE_CV_887 = run_simple_pipeline(RandomForestRegressor, random_state=887)\n",
    "print(f'RMSE: {simple_random_forest_RMSE_887}, CV:{simple_random_forest_RMSE_CV_887}')"
   ]
  },
  {
   "cell_type": "code",
   "execution_count": 54,
   "metadata": {},
   "outputs": [],
   "source": [
    "i += 1\n",
    "model_results_df.loc[i] = ['simple random forest seed 887', simple_random_forest_RMSE_887, simple_random_forest_RMSE_CV_887]"
   ]
  },
  {
   "cell_type": "code",
   "execution_count": 55,
   "metadata": {
    "scrolled": true
   },
   "outputs": [
    {
     "name": "stdout",
     "output_type": "stream",
     "text": [
      "RMSE: 0.3840467860604075, CV:0.4641353588677174\n"
     ]
    }
   ],
   "source": [
    "simple_XGBoost_887, simple_XGBoost_RMSE_887, simple_XGBoost_RMSE_CV_887 = run_simple_pipeline(XGBRegressor, random_state=887)\n",
    "print(f'RMSE: {simple_XGBoost_RMSE_887}, CV:{simple_XGBoost_RMSE_CV_887}')"
   ]
  },
  {
   "cell_type": "code",
   "execution_count": 56,
   "metadata": {},
   "outputs": [],
   "source": [
    "i += 1\n",
    "model_results_df.loc[i] = ['simple xgboost seed 887', simple_XGBoost_RMSE_887, simple_XGBoost_RMSE_CV_887]"
   ]
  },
  {
   "cell_type": "markdown",
   "metadata": {},
   "source": [
    "Seems that in all the random states that we tested random forest outperformed xgboost."
   ]
  },
  {
   "cell_type": "markdown",
   "metadata": {},
   "source": [
    "### Hyper parameter search"
   ]
  },
  {
   "cell_type": "markdown",
   "metadata": {
    "colab_type": "text",
    "id": "EMuIMOR30EYS"
   },
   "source": [
    "Things to try:\n",
    "* running TPOT a number of times\n",
    "* running TPOT with different generations and population sizes\n",
    "* think of ways to capture seasonality (count over the different seasons, count over hours) + trend (increase in count over the years)\n",
    "    - training the model first on 2011 untill overfitting, then on 2011 + 2012: **NOT A GOOD IDEA ON TREE BASED MODELS!**"
   ]
  },
  {
   "cell_type": "markdown",
   "metadata": {
    "colab_type": "text",
    "id": "vYc-LIvn0EYT"
   },
   "source": [
    "**TPOT** is an automated pipeline generator based on genetic algorithms.\n",
    "<br><br>\n",
    "It searches through multiple tree based models and parameters along with some feature selection methods and outputs the best pipeline that it found.\n",
    "I will use this library for fast iteration over hyperparameters."
   ]
  },
  {
   "cell_type": "code",
   "execution_count": 57,
   "metadata": {
    "colab": {
     "autoexec": {
      "startup": false,
      "wait_interval": 0
     }
    },
    "colab_type": "code",
    "id": "mEGmf_iL0EYU"
   },
   "outputs": [],
   "source": [
    "# from tpot import TPOTRegressor\n",
    "# from sklearn.datasets import load_boston\n",
    "# from sklearn.model_selection import train_test_split\n",
    "# \n",
    "# tpot = TPOTRegressor(generations=9, population_size=30, verbosity=2)\n",
    "# tpot.fit(X_train, y_train)\n",
    "# print(tpot.score(X_val, y_val))\n",
    "# tpot.export('tpot_boston_pipeline_4_9gen_30pop.py')"
   ]
  },
  {
   "cell_type": "markdown",
   "metadata": {
    "colab_type": "text",
    "id": "UQr1yPEp0EYW"
   },
   "source": [
    "Below I will list outputs of different TPOT runs: (note that the pipelines are saved in python files)\n",
    "\n",
    "**tpot = TPOTRegressor(generations=5, population_size=20, verbosity=2)**\n",
    "\n",
    "1. Best pipeline: XGBRegressor(SelectPercentile(input_matrix, percentile=87), learning_rate=0.1, max_depth=8, min_child_weight=3, n_estimators=100, nthread=1, subsample=0.65)    -0.000150797646945\n",
    "\n",
    "2. Best pipeline: ExtraTreesRegressor(RandomForestRegressor(input_matrix, bootstrap=True, max_features=0.8, min_samples_leaf=1, min_samples_split=2, n_estimators=100), bootstrap=False, max_features=0.8, min_samples_leaf=6, min_samples_split=5, n_estimators=100)\n",
    "-0.000151615129883\n",
    "\n",
    "3. Best pipeline: RandomForestRegressor(input_matrix, bootstrap=False, max_features=0.85, min_samples_leaf=1, min_samples_split=13, n_estimators=100)\n",
    "-0.000259734443071\n",
    "\n",
    "4. Best pipeline: ExtraTreesRegressor(PolynomialFeatures(input_matrix, degree=2, include_bias=False, interaction_only=False), bootstrap=True, max_features=0.75, min_samples_leaf=3, min_samples_split=7, n_estimators=100)\n",
    "-0.000223451917089\n",
    "\n",
    "**tpot = TPOTRegressor(generations=7, population_size=20, verbosity=2)**\n",
    "\n",
    "1. Best pipeline: XGBRegressor(ZeroCount(input_matrix), learning_rate=0.1, max_depth=8, min_child_weight=16, n_estimators=100, nthread=1, subsample=1.0)\n",
    "-0.000229089893118\n",
    "\n",
    "2. Best pipeline: XGBRegressor(input_matrix, learning_rate=0.1, max_depth=9, min_child_weight=1, n_estimators=100, nthread=1, subsample=0.1)\n",
    "-0.000567397464753\n",
    "\n",
    "3. Best pipeline: RandomForestRegressor(input_matrix, bootstrap=True, max_features=0.95, min_samples_leaf=1, min_samples_split=11, n_estimators=100)\n",
    "-0.000172377228275\n",
    "\n",
    "4. Best pipeline: GradientBoostingRegressor(input_matrix, alpha=0.75, learning_rate=0.1, loss=ls, max_depth=10, max_features=0.8, min_samples_leaf=8, min_samples_split=13, n_estimators=100, subsample=0.85)\n",
    "-0.000130923469254\n",
    "\n",
    "**tpot = TPOTRegressor(generations=9, population_size=30, verbosity=2)**\n",
    "\n",
    "1. Best pipeline: XGBRegressor(CombineDFs(MaxAbsScaler(input_matrix), input_matrix), learning_rate=0.1, max_depth=10, min_child_weight=1, n_estimators=100, nthread=1, subsample=0.8)\n",
    "-0.000114176476891\n",
    "\n",
    "2. Best pipeline: XGBRegressor(SelectPercentile(input_matrix, percentile=23), learning_rate=0.1, max_depth=7, min_child_weight=5, n_estimators=100, nthread=1, subsample=0.95)\n",
    "-0.000145220541337\n",
    "\n",
    "3. Best pipeline: GradientBoostingRegressor(MinMaxScaler(input_matrix), alpha=0.8, learning_rate=0.1, loss=ls, max_depth=7, max_features=0.8, min_samples_leaf=4, min_samples_split=19, n_estimators=100, subsample=0.9)\n",
    "-0.000157425797636\n",
    "\n",
    "4.  Best pipeline: XGBRegressor(input_matrix, learning_rate=0.1, max_depth=10, min_child_weight=10, n_estimators=100, nthread=1, subsample=1.0)\n",
    "-0.00020283144405\n",
    "<br><br>\n",
    "Looks like destiny chose **XGBRegressor** for us...\n",
    "<br><br>\n",
    "**Lets have a look at all XGBRegressor hyperparameters:**\n",
    "<br>\n",
    "> * learning_rate=0.1, max_depth=10, min_child_weight=10, n_estimators=100, nthread=1, subsample=1.0\n",
    "> * learning_rate=0.1, max_depth=7, min_child_weight=5, n_estimators=100, nthread=1, subsample=0.95\n",
    "> * learning_rate=0.1, max_depth=10, min_child_weight=1, n_estimators=100, nthread=1, subsample=0.8\n",
    "> * learning_rate=0.1, max_depth=9, min_child_weight=1, n_estimators=100, nthread=1, subsample=0.1\n",
    "> * learning_rate=0.1, max_depth=8, min_child_weight=16, n_estimators=100, nthread=1, subsample=1.0\n",
    "> * learning_rate=0.1, max_depth=8, min_child_weight=3, n_estimators=100, nthread=1, subsample=0.65"
   ]
  },
  {
   "cell_type": "markdown",
   "metadata": {
    "colab_type": "text",
    "id": "h7ocqJ2g0EYW"
   },
   "source": [
    "Accordidng to the above hyperparameters averages (excluding outliars), we will choose:<br>\n",
    "learning_rate=0.1,max_depth=9, min_child_weight=4, n_estimators=100, nthread=1, subsample=0.88"
   ]
  },
  {
   "cell_type": "code",
   "execution_count": 58,
   "metadata": {
    "colab": {
     "autoexec": {
      "startup": false,
      "wait_interval": 0
     }
    },
    "colab_type": "code",
    "id": "-LwGz6pT0EYZ"
   },
   "outputs": [
    {
     "name": "stdout",
     "output_type": "stream",
     "text": [
      "[0]\tvalidation_0-rmse:3.90082\tvalidation_1-rmse:3.9212\n",
      "[1]\tvalidation_0-rmse:3.5189\tvalidation_1-rmse:3.53797\n",
      "[2]\tvalidation_0-rmse:3.17586\tvalidation_1-rmse:3.19425\n",
      "[3]\tvalidation_0-rmse:2.86694\tvalidation_1-rmse:2.8848\n",
      "[4]\tvalidation_0-rmse:2.58924\tvalidation_1-rmse:2.60603\n",
      "[5]\tvalidation_0-rmse:2.33797\tvalidation_1-rmse:2.35481\n",
      "[6]\tvalidation_0-rmse:2.1129\tvalidation_1-rmse:2.12994\n",
      "[7]\tvalidation_0-rmse:1.91066\tvalidation_1-rmse:1.92739\n",
      "[8]\tvalidation_0-rmse:1.72826\tvalidation_1-rmse:1.74557\n",
      "[9]\tvalidation_0-rmse:1.56483\tvalidation_1-rmse:1.58331\n",
      "[10]\tvalidation_0-rmse:1.4183\tvalidation_1-rmse:1.43826\n",
      "[11]\tvalidation_0-rmse:1.28663\tvalidation_1-rmse:1.30756\n",
      "[12]\tvalidation_0-rmse:1.1672\tvalidation_1-rmse:1.18911\n",
      "[13]\tvalidation_0-rmse:1.05952\tvalidation_1-rmse:1.08329\n",
      "[14]\tvalidation_0-rmse:0.962961\tvalidation_1-rmse:0.9882\n",
      "[15]\tvalidation_0-rmse:0.876268\tvalidation_1-rmse:0.903904\n",
      "[16]\tvalidation_0-rmse:0.798322\tvalidation_1-rmse:0.828294\n",
      "[17]\tvalidation_0-rmse:0.728102\tvalidation_1-rmse:0.760497\n",
      "[18]\tvalidation_0-rmse:0.666186\tvalidation_1-rmse:0.702097\n",
      "[19]\tvalidation_0-rmse:0.609698\tvalidation_1-rmse:0.648885\n",
      "[20]\tvalidation_0-rmse:0.559895\tvalidation_1-rmse:0.60232\n",
      "[21]\tvalidation_0-rmse:0.514869\tvalidation_1-rmse:0.560699\n",
      "[22]\tvalidation_0-rmse:0.474507\tvalidation_1-rmse:0.523912\n",
      "[23]\tvalidation_0-rmse:0.439412\tvalidation_1-rmse:0.492857\n",
      "[24]\tvalidation_0-rmse:0.408076\tvalidation_1-rmse:0.465397\n",
      "[25]\tvalidation_0-rmse:0.380258\tvalidation_1-rmse:0.442319\n",
      "[26]\tvalidation_0-rmse:0.355285\tvalidation_1-rmse:0.422554\n",
      "[27]\tvalidation_0-rmse:0.333731\tvalidation_1-rmse:0.405451\n",
      "[28]\tvalidation_0-rmse:0.314042\tvalidation_1-rmse:0.389824\n",
      "[29]\tvalidation_0-rmse:0.296136\tvalidation_1-rmse:0.375781\n",
      "[30]\tvalidation_0-rmse:0.281172\tvalidation_1-rmse:0.364924\n",
      "[31]\tvalidation_0-rmse:0.267678\tvalidation_1-rmse:0.355197\n",
      "[32]\tvalidation_0-rmse:0.255263\tvalidation_1-rmse:0.346329\n",
      "[33]\tvalidation_0-rmse:0.244596\tvalidation_1-rmse:0.338617\n",
      "[34]\tvalidation_0-rmse:0.23548\tvalidation_1-rmse:0.332771\n",
      "[35]\tvalidation_0-rmse:0.227386\tvalidation_1-rmse:0.327503\n",
      "[36]\tvalidation_0-rmse:0.220203\tvalidation_1-rmse:0.323932\n",
      "[37]\tvalidation_0-rmse:0.213476\tvalidation_1-rmse:0.32038\n",
      "[38]\tvalidation_0-rmse:0.207831\tvalidation_1-rmse:0.317353\n",
      "[39]\tvalidation_0-rmse:0.202729\tvalidation_1-rmse:0.314766\n",
      "[40]\tvalidation_0-rmse:0.198672\tvalidation_1-rmse:0.312569\n",
      "[41]\tvalidation_0-rmse:0.19466\tvalidation_1-rmse:0.310596\n",
      "[42]\tvalidation_0-rmse:0.191474\tvalidation_1-rmse:0.308881\n",
      "[43]\tvalidation_0-rmse:0.188204\tvalidation_1-rmse:0.307069\n",
      "[44]\tvalidation_0-rmse:0.185235\tvalidation_1-rmse:0.305843\n",
      "[45]\tvalidation_0-rmse:0.182469\tvalidation_1-rmse:0.304687\n",
      "[46]\tvalidation_0-rmse:0.180192\tvalidation_1-rmse:0.303791\n",
      "[47]\tvalidation_0-rmse:0.17772\tvalidation_1-rmse:0.303287\n",
      "[48]\tvalidation_0-rmse:0.175171\tvalidation_1-rmse:0.302006\n",
      "[49]\tvalidation_0-rmse:0.173029\tvalidation_1-rmse:0.301394\n",
      "[50]\tvalidation_0-rmse:0.171109\tvalidation_1-rmse:0.300863\n",
      "[51]\tvalidation_0-rmse:0.169549\tvalidation_1-rmse:0.300456\n",
      "[52]\tvalidation_0-rmse:0.167745\tvalidation_1-rmse:0.300283\n",
      "[53]\tvalidation_0-rmse:0.165967\tvalidation_1-rmse:0.299683\n",
      "[54]\tvalidation_0-rmse:0.16416\tvalidation_1-rmse:0.299429\n",
      "[55]\tvalidation_0-rmse:0.162828\tvalidation_1-rmse:0.299077\n",
      "[56]\tvalidation_0-rmse:0.160797\tvalidation_1-rmse:0.298295\n",
      "[57]\tvalidation_0-rmse:0.159205\tvalidation_1-rmse:0.297887\n",
      "[58]\tvalidation_0-rmse:0.158051\tvalidation_1-rmse:0.297695\n",
      "[59]\tvalidation_0-rmse:0.156949\tvalidation_1-rmse:0.297635\n",
      "[60]\tvalidation_0-rmse:0.155423\tvalidation_1-rmse:0.297334\n",
      "[61]\tvalidation_0-rmse:0.153991\tvalidation_1-rmse:0.29706\n",
      "[62]\tvalidation_0-rmse:0.153171\tvalidation_1-rmse:0.296891\n",
      "[63]\tvalidation_0-rmse:0.151559\tvalidation_1-rmse:0.296205\n",
      "[64]\tvalidation_0-rmse:0.150305\tvalidation_1-rmse:0.295904\n",
      "[65]\tvalidation_0-rmse:0.149608\tvalidation_1-rmse:0.295739\n",
      "[66]\tvalidation_0-rmse:0.148532\tvalidation_1-rmse:0.295378\n",
      "[67]\tvalidation_0-rmse:0.147563\tvalidation_1-rmse:0.295444\n",
      "[68]\tvalidation_0-rmse:0.146521\tvalidation_1-rmse:0.295175\n",
      "[69]\tvalidation_0-rmse:0.144793\tvalidation_1-rmse:0.294566\n",
      "[70]\tvalidation_0-rmse:0.143381\tvalidation_1-rmse:0.29441\n",
      "[71]\tvalidation_0-rmse:0.14221\tvalidation_1-rmse:0.294256\n",
      "[72]\tvalidation_0-rmse:0.141039\tvalidation_1-rmse:0.294112\n",
      "[73]\tvalidation_0-rmse:0.140131\tvalidation_1-rmse:0.293736\n",
      "[74]\tvalidation_0-rmse:0.139279\tvalidation_1-rmse:0.293658\n",
      "[75]\tvalidation_0-rmse:0.139066\tvalidation_1-rmse:0.293556\n",
      "[76]\tvalidation_0-rmse:0.138906\tvalidation_1-rmse:0.293474\n",
      "[77]\tvalidation_0-rmse:0.138027\tvalidation_1-rmse:0.293362\n",
      "[78]\tvalidation_0-rmse:0.137006\tvalidation_1-rmse:0.29326\n",
      "[79]\tvalidation_0-rmse:0.136012\tvalidation_1-rmse:0.29308\n",
      "[80]\tvalidation_0-rmse:0.135371\tvalidation_1-rmse:0.293112\n",
      "[81]\tvalidation_0-rmse:0.134499\tvalidation_1-rmse:0.293143\n",
      "[82]\tvalidation_0-rmse:0.133825\tvalidation_1-rmse:0.292992\n",
      "[83]\tvalidation_0-rmse:0.13356\tvalidation_1-rmse:0.292893\n",
      "[84]\tvalidation_0-rmse:0.133176\tvalidation_1-rmse:0.292902\n",
      "[85]\tvalidation_0-rmse:0.132294\tvalidation_1-rmse:0.293104\n",
      "[86]\tvalidation_0-rmse:0.131537\tvalidation_1-rmse:0.292998\n",
      "[87]\tvalidation_0-rmse:0.130663\tvalidation_1-rmse:0.293018\n",
      "[88]\tvalidation_0-rmse:0.130013\tvalidation_1-rmse:0.292968\n",
      "[89]\tvalidation_0-rmse:0.129172\tvalidation_1-rmse:0.293033\n",
      "[90]\tvalidation_0-rmse:0.128885\tvalidation_1-rmse:0.292942\n",
      "[91]\tvalidation_0-rmse:0.128493\tvalidation_1-rmse:0.293039\n",
      "[92]\tvalidation_0-rmse:0.127521\tvalidation_1-rmse:0.29291\n",
      "[93]\tvalidation_0-rmse:0.126899\tvalidation_1-rmse:0.293032\n",
      "[94]\tvalidation_0-rmse:0.12593\tvalidation_1-rmse:0.293122\n",
      "[95]\tvalidation_0-rmse:0.125077\tvalidation_1-rmse:0.292942\n",
      "[96]\tvalidation_0-rmse:0.124364\tvalidation_1-rmse:0.292893\n",
      "[97]\tvalidation_0-rmse:0.123475\tvalidation_1-rmse:0.292774\n",
      "[98]\tvalidation_0-rmse:0.123239\tvalidation_1-rmse:0.292718\n",
      "[99]\tvalidation_0-rmse:0.122385\tvalidation_1-rmse:0.292688\n"
     ]
    },
    {
     "data": {
      "text/plain": [
       "XGBRegressor(base_score=0.5, booster='gbtree', colsample_bylevel=1,\n",
       "       colsample_bytree=1, gamma=0, learning_rate=0.1, max_delta_step=0,\n",
       "       max_depth=9, min_child_weight=4, missing=None, n_estimators=100,\n",
       "       n_jobs=1, nthread=1, objective='reg:linear', random_state=0,\n",
       "       reg_alpha=0, reg_lambda=1, scale_pos_weight=1, seed=0, silent=False,\n",
       "       subsample=0.88)"
      ]
     },
     "execution_count": 58,
     "metadata": {},
     "output_type": "execute_result"
    }
   ],
   "source": [
    "TPOT_xgb = XGBRegressor(learning_rate=0.1,max_depth=9, min_child_weight=4, n_estimators=100, nthread=1, subsample=0.88, silent=False, seed=0)\n",
    "TPOT_xgb.fit(X_train,y_train, eval_metric='rmse', eval_set=[(X_train, y_train),(X_val, y_val)], verbose=True, learning_rates=None)"
   ]
  },
  {
   "cell_type": "markdown",
   "metadata": {},
   "source": [
    "Lets compare with the RMSE function that we used earlier:"
   ]
  },
  {
   "cell_type": "code",
   "execution_count": 59,
   "metadata": {},
   "outputs": [
    {
     "name": "stdout",
     "output_type": "stream",
     "text": [
      "RMSE: 0.2926877897857523, CV: 0.398495871042695\n"
     ]
    }
   ],
   "source": [
    "y_pred = TPOT_xgb.predict(X_val)\n",
    "TPOT_xgb_RMSE = np.sqrt(mean_squared_error(y_val, y_pred))\n",
    "TPOT_xgb_CV = rmse_cv(XGBRegressor(learning_rate=0.1,max_depth=9, min_child_weight=4, n_estimators=100, nthread=1, subsample=0.88, silent=False, seed=0), X, y)\n",
    "TPOT_xgb_CV = np.average(TPOT_xgb_CV)\n",
    "print(f'RMSE: {TPOT_xgb_RMSE}, CV: {TPOT_xgb_CV}')"
   ]
  },
  {
   "cell_type": "code",
   "execution_count": 60,
   "metadata": {},
   "outputs": [],
   "source": [
    "i += 1\n",
    "model_results_df.loc[i] = ['TPOT xgb', TPOT_xgb_RMSE, TPOT_xgb_CV]"
   ]
  },
  {
   "cell_type": "markdown",
   "metadata": {},
   "source": [
    "Same results as in the output.<br>\n",
    "This is indeed an improvement from the \"simple\" model.<br>\n",
    "There still seems to be some significant overfitting."
   ]
  },
  {
   "cell_type": "markdown",
   "metadata": {},
   "source": [
    "Lets compare with a random forest with the same hyper params:"
   ]
  },
  {
   "cell_type": "code",
   "execution_count": 61,
   "metadata": {},
   "outputs": [
    {
     "name": "stderr",
     "output_type": "stream",
     "text": [
      "[Parallel(n_jobs=1)]: Done 100 out of 100 | elapsed:    2.3s finished\n",
      "[Parallel(n_jobs=1)]: Done 100 out of 100 | elapsed:    0.0s finished\n",
      "[Parallel(n_jobs=1)]: Done 100 out of 100 | elapsed:    2.4s finished\n",
      "[Parallel(n_jobs=1)]: Done 100 out of 100 | elapsed:    0.0s finished\n",
      "[Parallel(n_jobs=1)]: Done 100 out of 100 | elapsed:    2.4s finished\n",
      "[Parallel(n_jobs=1)]: Done 100 out of 100 | elapsed:    0.0s finished\n",
      "[Parallel(n_jobs=1)]: Done 100 out of 100 | elapsed:    2.4s finished\n",
      "[Parallel(n_jobs=1)]: Done 100 out of 100 | elapsed:    0.0s finished\n",
      "[Parallel(n_jobs=1)]: Done 100 out of 100 | elapsed:    2.5s finished\n",
      "[Parallel(n_jobs=1)]: Done 100 out of 100 | elapsed:    0.0s finished\n"
     ]
    },
    {
     "name": "stdout",
     "output_type": "stream",
     "text": [
      "RMSE: 0.37008293392176117, CV: 0.4916007695096928\n"
     ]
    },
    {
     "name": "stderr",
     "output_type": "stream",
     "text": [
      "[Parallel(n_jobs=1)]: Done 100 out of 100 | elapsed:    2.4s finished\n",
      "[Parallel(n_jobs=1)]: Done 100 out of 100 | elapsed:    0.0s finished\n"
     ]
    }
   ],
   "source": [
    "TPOT_randomf = RandomForestRegressor(max_depth=9, criterion='mse', min_samples_split=4, n_estimators=100, n_jobs=1, verbose=1, random_state=0)\n",
    "TPOT_randomf.fit(X_train,y_train)\n",
    "y_pred = TPOT_randomf.predict(X_val)\n",
    "TPOT_randomf_RMSE = np.sqrt(mean_squared_error(y_pred, y_val))\n",
    "TPOT_randomf_CV = rmse_cv(RandomForestRegressor(max_depth=9, criterion='mse', min_samples_split=4, n_estimators=100, n_jobs=1, verbose=1, random_state=0), X, y)\n",
    "TPOT_randomf_CV = np.average(TPOT_randomf_CV)\n",
    "print(f'RMSE: {TPOT_randomf_RMSE}, CV: {TPOT_randomf_CV}')"
   ]
  },
  {
   "cell_type": "code",
   "execution_count": 62,
   "metadata": {},
   "outputs": [],
   "source": [
    "i += 1\n",
    "model_results_df.loc[i] = ['TPOT randomf', TPOT_randomf_RMSE, TPOT_randomf_CV]"
   ]
  },
  {
   "cell_type": "markdown",
   "metadata": {},
   "source": [
    "Much higher than our TPOTed xgboost model"
   ]
  },
  {
   "cell_type": "markdown",
   "metadata": {
    "colab_type": "text",
    "id": "-rlv2bXJ0EYX"
   },
   "source": [
    "We will use cosine annealing for the learning rate.<br>\n",
    "Unfortunately XGBRegressors fit function does not support it, however the learn function does.<br>\n",
    "I edited the fit function to include learning rate annealing."
   ]
  },
  {
   "cell_type": "code",
   "execution_count": 63,
   "metadata": {
    "colab": {
     "autoexec": {
      "startup": false,
      "wait_interval": 0
     }
    },
    "colab_type": "code",
    "id": "YRu3Qp-_0EYX"
   },
   "outputs": [],
   "source": [
    "def cosine_annealing(boosting_round, num_boost_round):\n",
    "    start_val = 0.1\n",
    "    end_val = 0\n",
    "    cos_out = np.cos(np.pi*(boosting_round)/num_boost_round) + 1\n",
    "    return end_val + (start_val-end_val) / 2 * cos_out"
   ]
  },
  {
   "cell_type": "code",
   "execution_count": 64,
   "metadata": {},
   "outputs": [
    {
     "name": "stdout",
     "output_type": "stream",
     "text": [
      "[0]\tvalidation_0-rmse:3.90082\tvalidation_1-rmse:3.9212\n",
      "[1]\tvalidation_0-rmse:3.51899\tvalidation_1-rmse:3.53807\n",
      "[2]\tvalidation_0-rmse:3.17628\tvalidation_1-rmse:3.19468\n",
      "[3]\tvalidation_0-rmse:2.86801\tvalidation_1-rmse:2.88587\n",
      "[4]\tvalidation_0-rmse:2.59129\tvalidation_1-rmse:2.60808\n",
      "[5]\tvalidation_0-rmse:2.34136\tvalidation_1-rmse:2.35821\n",
      "[6]\tvalidation_0-rmse:2.11795\tvalidation_1-rmse:2.13498\n",
      "[7]\tvalidation_0-rmse:1.91763\tvalidation_1-rmse:1.93436\n",
      "[8]\tvalidation_0-rmse:1.73748\tvalidation_1-rmse:1.75485\n",
      "[9]\tvalidation_0-rmse:1.57636\tvalidation_1-rmse:1.59477\n",
      "[10]\tvalidation_0-rmse:1.43212\tvalidation_1-rmse:1.45192\n",
      "[11]\tvalidation_0-rmse:1.30298\tvalidation_1-rmse:1.32376\n",
      "[12]\tvalidation_0-rmse:1.18639\tvalidation_1-rmse:1.20828\n",
      "[13]\tvalidation_0-rmse:1.08212\tvalidation_1-rmse:1.10543\n",
      "[14]\tvalidation_0-rmse:0.987893\tvalidation_1-rmse:1.01266\n",
      "[15]\tvalidation_0-rmse:0.902624\tvalidation_1-rmse:0.929348\n",
      "[16]\tvalidation_0-rmse:0.827163\tvalidation_1-rmse:0.856434\n",
      "[17]\tvalidation_0-rmse:0.759393\tvalidation_1-rmse:0.791263\n",
      "[18]\tvalidation_0-rmse:0.698928\tvalidation_1-rmse:0.733347\n",
      "[19]\tvalidation_0-rmse:0.644083\tvalidation_1-rmse:0.681374\n",
      "[20]\tvalidation_0-rmse:0.59632\tvalidation_1-rmse:0.63633\n",
      "[21]\tvalidation_0-rmse:0.552825\tvalidation_1-rmse:0.596283\n",
      "[22]\tvalidation_0-rmse:0.514186\tvalidation_1-rmse:0.560904\n",
      "[23]\tvalidation_0-rmse:0.479159\tvalidation_1-rmse:0.529136\n",
      "[24]\tvalidation_0-rmse:0.448174\tvalidation_1-rmse:0.501656\n",
      "[25]\tvalidation_0-rmse:0.420397\tvalidation_1-rmse:0.477791\n",
      "[26]\tvalidation_0-rmse:0.395867\tvalidation_1-rmse:0.456589\n",
      "[27]\tvalidation_0-rmse:0.374096\tvalidation_1-rmse:0.438116\n",
      "[28]\tvalidation_0-rmse:0.353586\tvalidation_1-rmse:0.421002\n",
      "[29]\tvalidation_0-rmse:0.336052\tvalidation_1-rmse:0.40687\n",
      "[30]\tvalidation_0-rmse:0.320513\tvalidation_1-rmse:0.394514\n",
      "[31]\tvalidation_0-rmse:0.306546\tvalidation_1-rmse:0.383636\n",
      "[32]\tvalidation_0-rmse:0.293358\tvalidation_1-rmse:0.373543\n",
      "[33]\tvalidation_0-rmse:0.281872\tvalidation_1-rmse:0.364699\n",
      "[34]\tvalidation_0-rmse:0.271702\tvalidation_1-rmse:0.357281\n",
      "[35]\tvalidation_0-rmse:0.262488\tvalidation_1-rmse:0.350599\n",
      "[36]\tvalidation_0-rmse:0.254541\tvalidation_1-rmse:0.345346\n",
      "[37]\tvalidation_0-rmse:0.247334\tvalidation_1-rmse:0.340465\n",
      "[38]\tvalidation_0-rmse:0.240716\tvalidation_1-rmse:0.335883\n",
      "[39]\tvalidation_0-rmse:0.234888\tvalidation_1-rmse:0.331943\n",
      "[40]\tvalidation_0-rmse:0.229941\tvalidation_1-rmse:0.328631\n",
      "[41]\tvalidation_0-rmse:0.225303\tvalidation_1-rmse:0.325908\n",
      "[42]\tvalidation_0-rmse:0.220755\tvalidation_1-rmse:0.322924\n",
      "[43]\tvalidation_0-rmse:0.216833\tvalidation_1-rmse:0.320434\n",
      "[44]\tvalidation_0-rmse:0.213309\tvalidation_1-rmse:0.318359\n",
      "[45]\tvalidation_0-rmse:0.210219\tvalidation_1-rmse:0.316562\n",
      "[46]\tvalidation_0-rmse:0.206945\tvalidation_1-rmse:0.314841\n",
      "[47]\tvalidation_0-rmse:0.20399\tvalidation_1-rmse:0.313543\n",
      "[48]\tvalidation_0-rmse:0.201332\tvalidation_1-rmse:0.312262\n",
      "[49]\tvalidation_0-rmse:0.198939\tvalidation_1-rmse:0.311052\n",
      "[50]\tvalidation_0-rmse:0.196998\tvalidation_1-rmse:0.310082\n",
      "[51]\tvalidation_0-rmse:0.194733\tvalidation_1-rmse:0.309027\n",
      "[52]\tvalidation_0-rmse:0.192984\tvalidation_1-rmse:0.308265\n",
      "[53]\tvalidation_0-rmse:0.19137\tvalidation_1-rmse:0.307436\n",
      "[54]\tvalidation_0-rmse:0.189727\tvalidation_1-rmse:0.306629\n",
      "[55]\tvalidation_0-rmse:0.188407\tvalidation_1-rmse:0.305929\n",
      "[56]\tvalidation_0-rmse:0.18706\tvalidation_1-rmse:0.305421\n",
      "[57]\tvalidation_0-rmse:0.185856\tvalidation_1-rmse:0.304891\n",
      "[58]\tvalidation_0-rmse:0.184711\tvalidation_1-rmse:0.304396\n",
      "[59]\tvalidation_0-rmse:0.183522\tvalidation_1-rmse:0.303891\n",
      "[60]\tvalidation_0-rmse:0.182599\tvalidation_1-rmse:0.303512\n",
      "[61]\tvalidation_0-rmse:0.181568\tvalidation_1-rmse:0.303156\n",
      "[62]\tvalidation_0-rmse:0.180707\tvalidation_1-rmse:0.302822\n",
      "[63]\tvalidation_0-rmse:0.180015\tvalidation_1-rmse:0.302558\n",
      "[64]\tvalidation_0-rmse:0.179393\tvalidation_1-rmse:0.302303\n",
      "[65]\tvalidation_0-rmse:0.178708\tvalidation_1-rmse:0.302044\n",
      "[66]\tvalidation_0-rmse:0.177986\tvalidation_1-rmse:0.301876\n",
      "[67]\tvalidation_0-rmse:0.177386\tvalidation_1-rmse:0.301754\n",
      "[68]\tvalidation_0-rmse:0.176869\tvalidation_1-rmse:0.301542\n",
      "[69]\tvalidation_0-rmse:0.176374\tvalidation_1-rmse:0.301352\n",
      "[70]\tvalidation_0-rmse:0.175737\tvalidation_1-rmse:0.301196\n",
      "[71]\tvalidation_0-rmse:0.175345\tvalidation_1-rmse:0.301029\n",
      "[72]\tvalidation_0-rmse:0.174877\tvalidation_1-rmse:0.300904\n",
      "[73]\tvalidation_0-rmse:0.174439\tvalidation_1-rmse:0.300728\n",
      "[74]\tvalidation_0-rmse:0.17414\tvalidation_1-rmse:0.300603\n",
      "[75]\tvalidation_0-rmse:0.173843\tvalidation_1-rmse:0.300494\n",
      "[76]\tvalidation_0-rmse:0.173571\tvalidation_1-rmse:0.30043\n",
      "[77]\tvalidation_0-rmse:0.173347\tvalidation_1-rmse:0.300354\n",
      "[78]\tvalidation_0-rmse:0.173134\tvalidation_1-rmse:0.300277\n",
      "[79]\tvalidation_0-rmse:0.172943\tvalidation_1-rmse:0.300189\n",
      "[80]\tvalidation_0-rmse:0.172715\tvalidation_1-rmse:0.300098\n",
      "[81]\tvalidation_0-rmse:0.172514\tvalidation_1-rmse:0.300037\n",
      "[82]\tvalidation_0-rmse:0.172315\tvalidation_1-rmse:0.299984\n",
      "[83]\tvalidation_0-rmse:0.172195\tvalidation_1-rmse:0.299943\n",
      "[84]\tvalidation_0-rmse:0.172072\tvalidation_1-rmse:0.299907\n",
      "[85]\tvalidation_0-rmse:0.171994\tvalidation_1-rmse:0.299869\n",
      "[86]\tvalidation_0-rmse:0.17191\tvalidation_1-rmse:0.299842\n",
      "[87]\tvalidation_0-rmse:0.171816\tvalidation_1-rmse:0.299824\n",
      "[88]\tvalidation_0-rmse:0.17175\tvalidation_1-rmse:0.299798\n",
      "[89]\tvalidation_0-rmse:0.171695\tvalidation_1-rmse:0.299773\n",
      "[90]\tvalidation_0-rmse:0.171653\tvalidation_1-rmse:0.299754\n",
      "[91]\tvalidation_0-rmse:0.171613\tvalidation_1-rmse:0.299739\n",
      "[92]\tvalidation_0-rmse:0.171576\tvalidation_1-rmse:0.299732\n",
      "[93]\tvalidation_0-rmse:0.171558\tvalidation_1-rmse:0.299726\n",
      "[94]\tvalidation_0-rmse:0.17154\tvalidation_1-rmse:0.299719\n",
      "[95]\tvalidation_0-rmse:0.171527\tvalidation_1-rmse:0.299713\n",
      "[96]\tvalidation_0-rmse:0.171519\tvalidation_1-rmse:0.299712\n",
      "[97]\tvalidation_0-rmse:0.171516\tvalidation_1-rmse:0.29971\n",
      "[98]\tvalidation_0-rmse:0.171514\tvalidation_1-rmse:0.29971\n",
      "[99]\tvalidation_0-rmse:0.171513\tvalidation_1-rmse:0.29971\n"
     ]
    },
    {
     "data": {
      "text/plain": [
       "XGBRegressor(base_score=0.5, booster='gbtree', colsample_bylevel=1,\n",
       "       colsample_bytree=1, gamma=0, learning_rate=0.1, max_delta_step=0,\n",
       "       max_depth=9, min_child_weight=4, missing=None, n_estimators=100,\n",
       "       n_jobs=1, nthread=1, objective='reg:linear', random_state=0,\n",
       "       reg_alpha=0, reg_lambda=1, scale_pos_weight=1, seed=0, silent=False,\n",
       "       subsample=0.88)"
      ]
     },
     "execution_count": 64,
     "metadata": {},
     "output_type": "execute_result"
    }
   ],
   "source": [
    "TPOT_xgb_cos = XGBRegressor(learning_rate=0.1,max_depth=9, min_child_weight=4, n_estimators=100, nthread=1, subsample=0.88, silent=False, seed=0)\n",
    "TPOT_xgb_cos.fit(X_train,y_train, eval_metric='rmse', eval_set=[(X_train, y_train),(X_val, y_val)], verbose=True, learning_rates=cosine_annealing)"
   ]
  },
  {
   "cell_type": "code",
   "execution_count": 65,
   "metadata": {},
   "outputs": [
    {
     "name": "stdout",
     "output_type": "stream",
     "text": [
      "RMSE: 0.29970967506863117, CV: Not relevant\n"
     ]
    }
   ],
   "source": [
    "y_pred = TPOT_xgb_cos.predict(X_val)\n",
    "TPOT_xgb_cosine_RMSE = np.sqrt(mean_squared_error(y_pred, y_val))\n",
    "print(f'RMSE: {TPOT_xgb_cosine_RMSE}, CV: Not relevant')"
   ]
  },
  {
   "cell_type": "code",
   "execution_count": 66,
   "metadata": {},
   "outputs": [],
   "source": [
    "i += 1\n",
    "model_results_df.loc[i] = ['TPOT xgb cosine', TPOT_xgb_cosine_RMSE, np.nan]"
   ]
  },
  {
   "cell_type": "markdown",
   "metadata": {},
   "source": [
    "It looks like we got a worse score when using cosine annealing then when using 0.1 learning rate."
   ]
  },
  {
   "cell_type": "markdown",
   "metadata": {},
   "source": [
    "### Feature Importance"
   ]
  },
  {
   "cell_type": "markdown",
   "metadata": {},
   "source": [
    "Now that we have a somwhat optimal model with good hyperparameters, lets look at the feature importance to see if the features we created were usefull at all. Accordingly we will knonw if to do further feature engineering."
   ]
  },
  {
   "cell_type": "markdown",
   "metadata": {},
   "source": [
    "**wight**: the number of splits the feature was used for<br>\n",
    "**gain**: metric based on the gain for each split"
   ]
  },
  {
   "cell_type": "code",
   "execution_count": 67,
   "metadata": {},
   "outputs": [
    {
     "data": {
      "text/plain": [
       "<matplotlib.axes._subplots.AxesSubplot at 0x20826ea5320>"
      ]
     },
     "execution_count": 67,
     "metadata": {},
     "output_type": "execute_result"
    },
    {
     "data": {
      "image/png": "[encoded data removed]",
      "text/plain": [
       "<matplotlib.figure.Figure at 0x20824ea6f28>"
      ]
     },
     "metadata": {},
     "output_type": "display_data"
    }
   ],
   "source": [
    "from xgboost import plot_importance\n",
    "fig, axs = plt.subplots(ncols=2)\n",
    "plt.subplots_adjust(left=0.125, bottom=0.1, right=1.1, top=0.9, wspace=1, hspace=0.2)\n",
    "plot_importance(TPOT_xgb, importance_type='weight', ax=axs[0], title='weight')\n",
    "plot_importance(TPOT_xgb, importance_type='gain', ax=axs[1], title='gain')"
   ]
  },
  {
   "cell_type": "markdown",
   "metadata": {},
   "source": [
    "Lets have a look at our engineered features:<br>\n",
    "\n",
    "**hour**:<br>\n",
    "It seems that the hour feature we created is very prominant, in the number of splits and in the weight.<br>\n",
    "This agrees with the relatively smooth but voilatile function.<br>\n",
    "<br>\n",
    "**year**:<br>\n",
    "In addition, we see that although year was not used much as a splitter, it has much gain (perhaps it was used high up in the tree), this too is good news.<br>\n",
    "<br>\n",
    "**weekday**:<br>\n",
    "weekday was used very often but did not add much gain.<br>\n",
    "<br>\n",
    "\n",
    "Lets look at some features which are not ours:<br>\n",
    "\n",
    "**holiday**:<br>\n",
    "This feature would have made a difference on casual and therefore I would expect that this has some gain but it seems not....<br>\n",
    "Probably because that I removed the casual and registered columns.<br>\n",
    "<br>\n",
    "**workingday**:<br>\n",
    "As in holiday, here to I would expect workingday to have some influence on casual.<br>\n",
    "This feature on the other hand DID have some significant gain.<br>"
   ]
  },
  {
   "cell_type": "markdown",
   "metadata": {},
   "source": [
    "### Decide if casual and registered features are needed"
   ]
  },
  {
   "cell_type": "code",
   "execution_count": 68,
   "metadata": {},
   "outputs": [
    {
     "data": {
      "text/plain": [
       "<matplotlib.axes._subplots.AxesSubplot at 0x20827fae6a0>"
      ]
     },
     "execution_count": 68,
     "metadata": {},
     "output_type": "execute_result"
    },
    {
     "data": {
      "image/png": "[encoded data removed]",
      "text/plain": [
       "<matplotlib.figure.Figure at 0x20827f16240>"
      ]
     },
     "metadata": {},
     "output_type": "display_data"
    }
   ],
   "source": [
    "fig, axs = plt.subplots(ncols=2, nrows=2)\n",
    "sns.pointplot(x=\"holiday\", y=\"casual\", data=df_train_with_datetime_casual_registered, ax=axs[0][0])\n",
    "sns.pointplot(x=\"holiday\", y=\"registered\", data=df_train_with_datetime_casual_registered, ax=axs[0][1])\n",
    "sns.pointplot(x=\"workingday\", y=\"casual\", data=df_train_with_datetime_casual_registered, ax=axs[1][0])\n",
    "sns.pointplot(x=\"workingday\", y=\"registered\", data=df_train_with_datetime_casual_registered, ax=axs[1][1])"
   ]
  },
  {
   "cell_type": "code",
   "execution_count": 69,
   "metadata": {
    "scrolled": true
   },
   "outputs": [
    {
     "data": {
      "text/plain": [
       "<matplotlib.axes._subplots.AxesSubplot at 0x20828039390>"
      ]
     },
     "execution_count": 69,
     "metadata": {},
     "output_type": "execute_result"
    },
    {
     "data": {
      "image/png": "[encoded data removed]",
      "text/plain": [
       "<matplotlib.figure.Figure at 0x20826e990b8>"
      ]
     },
     "metadata": {},
     "output_type": "display_data"
    }
   ],
   "source": [
    "sns.boxplot(x=df_train_with_datetime_casual_registered['hour'], y=df_train_with_datetime_casual_registered['casual'])"
   ]
  },
  {
   "cell_type": "code",
   "execution_count": 70,
   "metadata": {},
   "outputs": [
    {
     "data": {
      "text/plain": [
       "<matplotlib.axes._subplots.AxesSubplot at 0x20828204940>"
      ]
     },
     "execution_count": 70,
     "metadata": {},
     "output_type": "execute_result"
    },
    {
     "data": {
      "image/png": "[encoded data removed]",
      "text/plain": [
       "<matplotlib.figure.Figure at 0x208281ab630>"
      ]
     },
     "metadata": {},
     "output_type": "display_data"
    }
   ],
   "source": [
    "sns.boxplot(x=df_train_with_datetime_casual_registered['hour'], y=df_train_with_datetime_casual_registered['registered'])"
   ]
  },
  {
   "cell_type": "markdown",
   "metadata": {},
   "source": [
    "### Model using two seperate models for registered and casual"
   ]
  },
  {
   "cell_type": "code",
   "execution_count": 71,
   "metadata": {},
   "outputs": [],
   "source": [
    "df_train_casual_reg = df_train_with_datetime_casual_registered.drop(columns=['datetime', 'count'])"
   ]
  },
  {
   "cell_type": "code",
   "execution_count": 72,
   "metadata": {},
   "outputs": [],
   "source": [
    "X_cas_reg = df_train_casual_reg.drop(columns=['casual', 'registered'])\n",
    "y_cas = df_train_casual_reg['casual']\n",
    "y_reg = df_train_casual_reg['registered']\n",
    "X_train_cas, X_val_cas, y_train_cas, y_val_cas = train_test_split(X_cas_reg, y_cas, train_size=0.75, test_size=0.25, random_state=0)\n",
    "X_train_reg, X_val_reg, y_train_reg, y_val_reg = train_test_split(X_cas_reg, y_reg, train_size=0.75, test_size=0.25, random_state=0)"
   ]
  },
  {
   "cell_type": "code",
   "execution_count": 73,
   "metadata": {},
   "outputs": [
    {
     "data": {
      "text/html": [
       "<div>\n",
       "<style scoped>\n",
       "    .dataframe tbody tr th:only-of-type {\n",
       "        vertical-align: middle;\n",
       "    }\n",
       "\n",
       "    .dataframe tbody tr th {\n",
       "        vertical-align: top;\n",
       "    }\n",
       "\n",
       "    .dataframe thead th {\n",
       "        text-align: right;\n",
       "    }\n",
       "</style>\n",
       "<table border=\"1\" class=\"dataframe\">\n",
       "  <thead>\n",
       "    <tr style=\"text-align: right;\">\n",
       "      <th></th>\n",
       "      <th>season</th>\n",
       "      <th>holiday</th>\n",
       "      <th>workingday</th>\n",
       "      <th>weather</th>\n",
       "      <th>temp</th>\n",
       "      <th>atemp</th>\n",
       "      <th>humidity</th>\n",
       "      <th>windspeed</th>\n",
       "      <th>year</th>\n",
       "      <th>month</th>\n",
       "      <th>hour</th>\n",
       "      <th>weekday</th>\n",
       "    </tr>\n",
       "  </thead>\n",
       "  <tbody>\n",
       "    <tr>\n",
       "      <th>count</th>\n",
       "      <td>8164.000000</td>\n",
       "      <td>8164.000000</td>\n",
       "      <td>8164.000000</td>\n",
       "      <td>8164.00000</td>\n",
       "      <td>8164.000000</td>\n",
       "      <td>8164.000000</td>\n",
       "      <td>8164.000000</td>\n",
       "      <td>8164.000000</td>\n",
       "      <td>8164.000000</td>\n",
       "      <td>8164.000000</td>\n",
       "      <td>8164.000000</td>\n",
       "      <td>8164.000000</td>\n",
       "    </tr>\n",
       "    <tr>\n",
       "      <th>mean</th>\n",
       "      <td>2.496570</td>\n",
       "      <td>0.029030</td>\n",
       "      <td>0.679936</td>\n",
       "      <td>1.41389</td>\n",
       "      <td>20.137509</td>\n",
       "      <td>23.551758</td>\n",
       "      <td>61.836722</td>\n",
       "      <td>12.832602</td>\n",
       "      <td>2011.501715</td>\n",
       "      <td>6.496938</td>\n",
       "      <td>11.554998</td>\n",
       "      <td>3.020333</td>\n",
       "    </tr>\n",
       "    <tr>\n",
       "      <th>std</th>\n",
       "      <td>1.118645</td>\n",
       "      <td>0.167901</td>\n",
       "      <td>0.466529</td>\n",
       "      <td>0.63025</td>\n",
       "      <td>7.776977</td>\n",
       "      <td>8.463277</td>\n",
       "      <td>19.239196</td>\n",
       "      <td>8.262360</td>\n",
       "      <td>0.500028</td>\n",
       "      <td>3.454663</td>\n",
       "      <td>6.929567</td>\n",
       "      <td>2.007783</td>\n",
       "    </tr>\n",
       "    <tr>\n",
       "      <th>min</th>\n",
       "      <td>1.000000</td>\n",
       "      <td>0.000000</td>\n",
       "      <td>0.000000</td>\n",
       "      <td>1.00000</td>\n",
       "      <td>0.820000</td>\n",
       "      <td>2.275000</td>\n",
       "      <td>0.000000</td>\n",
       "      <td>0.000000</td>\n",
       "      <td>2011.000000</td>\n",
       "      <td>1.000000</td>\n",
       "      <td>0.000000</td>\n",
       "      <td>0.000000</td>\n",
       "    </tr>\n",
       "    <tr>\n",
       "      <th>25%</th>\n",
       "      <td>1.000000</td>\n",
       "      <td>0.000000</td>\n",
       "      <td>0.000000</td>\n",
       "      <td>1.00000</td>\n",
       "      <td>13.940000</td>\n",
       "      <td>16.665000</td>\n",
       "      <td>47.000000</td>\n",
       "      <td>7.001500</td>\n",
       "      <td>2011.000000</td>\n",
       "      <td>3.000000</td>\n",
       "      <td>6.000000</td>\n",
       "      <td>1.000000</td>\n",
       "    </tr>\n",
       "    <tr>\n",
       "      <th>50%</th>\n",
       "      <td>2.000000</td>\n",
       "      <td>0.000000</td>\n",
       "      <td>1.000000</td>\n",
       "      <td>1.00000</td>\n",
       "      <td>20.500000</td>\n",
       "      <td>24.240000</td>\n",
       "      <td>62.000000</td>\n",
       "      <td>12.998000</td>\n",
       "      <td>2012.000000</td>\n",
       "      <td>6.000000</td>\n",
       "      <td>12.000000</td>\n",
       "      <td>3.000000</td>\n",
       "    </tr>\n",
       "    <tr>\n",
       "      <th>75%</th>\n",
       "      <td>3.000000</td>\n",
       "      <td>0.000000</td>\n",
       "      <td>1.000000</td>\n",
       "      <td>2.00000</td>\n",
       "      <td>26.240000</td>\n",
       "      <td>31.060000</td>\n",
       "      <td>77.000000</td>\n",
       "      <td>16.997900</td>\n",
       "      <td>2012.000000</td>\n",
       "      <td>9.000000</td>\n",
       "      <td>18.000000</td>\n",
       "      <td>5.000000</td>\n",
       "    </tr>\n",
       "    <tr>\n",
       "      <th>max</th>\n",
       "      <td>4.000000</td>\n",
       "      <td>1.000000</td>\n",
       "      <td>1.000000</td>\n",
       "      <td>4.00000</td>\n",
       "      <td>41.000000</td>\n",
       "      <td>45.455000</td>\n",
       "      <td>100.000000</td>\n",
       "      <td>56.996900</td>\n",
       "      <td>2012.000000</td>\n",
       "      <td>12.000000</td>\n",
       "      <td>23.000000</td>\n",
       "      <td>6.000000</td>\n",
       "    </tr>\n",
       "  </tbody>\n",
       "</table>\n",
       "</div>"
      ],
      "text/plain": [
       "            season      holiday   workingday     weather         temp  \\\n",
       "count  8164.000000  8164.000000  8164.000000  8164.00000  8164.000000   \n",
       "mean      2.496570     0.029030     0.679936     1.41389    20.137509   \n",
       "std       1.118645     0.167901     0.466529     0.63025     7.776977   \n",
       "min       1.000000     0.000000     0.000000     1.00000     0.820000   \n",
       "25%       1.000000     0.000000     0.000000     1.00000    13.940000   \n",
       "50%       2.000000     0.000000     1.000000     1.00000    20.500000   \n",
       "75%       3.000000     0.000000     1.000000     2.00000    26.240000   \n",
       "max       4.000000     1.000000     1.000000     4.00000    41.000000   \n",
       "\n",
       "             atemp     humidity    windspeed         year        month  \\\n",
       "count  8164.000000  8164.000000  8164.000000  8164.000000  8164.000000   \n",
       "mean     23.551758    61.836722    12.832602  2011.501715     6.496938   \n",
       "std       8.463277    19.239196     8.262360     0.500028     3.454663   \n",
       "min       2.275000     0.000000     0.000000  2011.000000     1.000000   \n",
       "25%      16.665000    47.000000     7.001500  2011.000000     3.000000   \n",
       "50%      24.240000    62.000000    12.998000  2012.000000     6.000000   \n",
       "75%      31.060000    77.000000    16.997900  2012.000000     9.000000   \n",
       "max      45.455000   100.000000    56.996900  2012.000000    12.000000   \n",
       "\n",
       "              hour      weekday  \n",
       "count  8164.000000  8164.000000  \n",
       "mean     11.554998     3.020333  \n",
       "std       6.929567     2.007783  \n",
       "min       0.000000     0.000000  \n",
       "25%       6.000000     1.000000  \n",
       "50%      12.000000     3.000000  \n",
       "75%      18.000000     5.000000  \n",
       "max      23.000000     6.000000  "
      ]
     },
     "execution_count": 73,
     "metadata": {},
     "output_type": "execute_result"
    }
   ],
   "source": [
    "X_train_cas.describe()"
   ]
  },
  {
   "cell_type": "code",
   "execution_count": 74,
   "metadata": {},
   "outputs": [
    {
     "data": {
      "text/html": [
       "<div>\n",
       "<style scoped>\n",
       "    .dataframe tbody tr th:only-of-type {\n",
       "        vertical-align: middle;\n",
       "    }\n",
       "\n",
       "    .dataframe tbody tr th {\n",
       "        vertical-align: top;\n",
       "    }\n",
       "\n",
       "    .dataframe thead th {\n",
       "        text-align: right;\n",
       "    }\n",
       "</style>\n",
       "<table border=\"1\" class=\"dataframe\">\n",
       "  <thead>\n",
       "    <tr style=\"text-align: right;\">\n",
       "      <th></th>\n",
       "      <th>season</th>\n",
       "      <th>holiday</th>\n",
       "      <th>workingday</th>\n",
       "      <th>weather</th>\n",
       "      <th>temp</th>\n",
       "      <th>atemp</th>\n",
       "      <th>humidity</th>\n",
       "      <th>windspeed</th>\n",
       "      <th>year</th>\n",
       "      <th>month</th>\n",
       "      <th>hour</th>\n",
       "      <th>weekday</th>\n",
       "    </tr>\n",
       "  </thead>\n",
       "  <tbody>\n",
       "    <tr>\n",
       "      <th>count</th>\n",
       "      <td>8164.000000</td>\n",
       "      <td>8164.000000</td>\n",
       "      <td>8164.000000</td>\n",
       "      <td>8164.00000</td>\n",
       "      <td>8164.000000</td>\n",
       "      <td>8164.000000</td>\n",
       "      <td>8164.000000</td>\n",
       "      <td>8164.000000</td>\n",
       "      <td>8164.000000</td>\n",
       "      <td>8164.000000</td>\n",
       "      <td>8164.000000</td>\n",
       "      <td>8164.000000</td>\n",
       "    </tr>\n",
       "    <tr>\n",
       "      <th>mean</th>\n",
       "      <td>2.496570</td>\n",
       "      <td>0.029030</td>\n",
       "      <td>0.679936</td>\n",
       "      <td>1.41389</td>\n",
       "      <td>20.137509</td>\n",
       "      <td>23.551758</td>\n",
       "      <td>61.836722</td>\n",
       "      <td>12.832602</td>\n",
       "      <td>2011.501715</td>\n",
       "      <td>6.496938</td>\n",
       "      <td>11.554998</td>\n",
       "      <td>3.020333</td>\n",
       "    </tr>\n",
       "    <tr>\n",
       "      <th>std</th>\n",
       "      <td>1.118645</td>\n",
       "      <td>0.167901</td>\n",
       "      <td>0.466529</td>\n",
       "      <td>0.63025</td>\n",
       "      <td>7.776977</td>\n",
       "      <td>8.463277</td>\n",
       "      <td>19.239196</td>\n",
       "      <td>8.262360</td>\n",
       "      <td>0.500028</td>\n",
       "      <td>3.454663</td>\n",
       "      <td>6.929567</td>\n",
       "      <td>2.007783</td>\n",
       "    </tr>\n",
       "    <tr>\n",
       "      <th>min</th>\n",
       "      <td>1.000000</td>\n",
       "      <td>0.000000</td>\n",
       "      <td>0.000000</td>\n",
       "      <td>1.00000</td>\n",
       "      <td>0.820000</td>\n",
       "      <td>2.275000</td>\n",
       "      <td>0.000000</td>\n",
       "      <td>0.000000</td>\n",
       "      <td>2011.000000</td>\n",
       "      <td>1.000000</td>\n",
       "      <td>0.000000</td>\n",
       "      <td>0.000000</td>\n",
       "    </tr>\n",
       "    <tr>\n",
       "      <th>25%</th>\n",
       "      <td>1.000000</td>\n",
       "      <td>0.000000</td>\n",
       "      <td>0.000000</td>\n",
       "      <td>1.00000</td>\n",
       "      <td>13.940000</td>\n",
       "      <td>16.665000</td>\n",
       "      <td>47.000000</td>\n",
       "      <td>7.001500</td>\n",
       "      <td>2011.000000</td>\n",
       "      <td>3.000000</td>\n",
       "      <td>6.000000</td>\n",
       "      <td>1.000000</td>\n",
       "    </tr>\n",
       "    <tr>\n",
       "      <th>50%</th>\n",
       "      <td>2.000000</td>\n",
       "      <td>0.000000</td>\n",
       "      <td>1.000000</td>\n",
       "      <td>1.00000</td>\n",
       "      <td>20.500000</td>\n",
       "      <td>24.240000</td>\n",
       "      <td>62.000000</td>\n",
       "      <td>12.998000</td>\n",
       "      <td>2012.000000</td>\n",
       "      <td>6.000000</td>\n",
       "      <td>12.000000</td>\n",
       "      <td>3.000000</td>\n",
       "    </tr>\n",
       "    <tr>\n",
       "      <th>75%</th>\n",
       "      <td>3.000000</td>\n",
       "      <td>0.000000</td>\n",
       "      <td>1.000000</td>\n",
       "      <td>2.00000</td>\n",
       "      <td>26.240000</td>\n",
       "      <td>31.060000</td>\n",
       "      <td>77.000000</td>\n",
       "      <td>16.997900</td>\n",
       "      <td>2012.000000</td>\n",
       "      <td>9.000000</td>\n",
       "      <td>18.000000</td>\n",
       "      <td>5.000000</td>\n",
       "    </tr>\n",
       "    <tr>\n",
       "      <th>max</th>\n",
       "      <td>4.000000</td>\n",
       "      <td>1.000000</td>\n",
       "      <td>1.000000</td>\n",
       "      <td>4.00000</td>\n",
       "      <td>41.000000</td>\n",
       "      <td>45.455000</td>\n",
       "      <td>100.000000</td>\n",
       "      <td>56.996900</td>\n",
       "      <td>2012.000000</td>\n",
       "      <td>12.000000</td>\n",
       "      <td>23.000000</td>\n",
       "      <td>6.000000</td>\n",
       "    </tr>\n",
       "  </tbody>\n",
       "</table>\n",
       "</div>"
      ],
      "text/plain": [
       "            season      holiday   workingday     weather         temp  \\\n",
       "count  8164.000000  8164.000000  8164.000000  8164.00000  8164.000000   \n",
       "mean      2.496570     0.029030     0.679936     1.41389    20.137509   \n",
       "std       1.118645     0.167901     0.466529     0.63025     7.776977   \n",
       "min       1.000000     0.000000     0.000000     1.00000     0.820000   \n",
       "25%       1.000000     0.000000     0.000000     1.00000    13.940000   \n",
       "50%       2.000000     0.000000     1.000000     1.00000    20.500000   \n",
       "75%       3.000000     0.000000     1.000000     2.00000    26.240000   \n",
       "max       4.000000     1.000000     1.000000     4.00000    41.000000   \n",
       "\n",
       "             atemp     humidity    windspeed         year        month  \\\n",
       "count  8164.000000  8164.000000  8164.000000  8164.000000  8164.000000   \n",
       "mean     23.551758    61.836722    12.832602  2011.501715     6.496938   \n",
       "std       8.463277    19.239196     8.262360     0.500028     3.454663   \n",
       "min       2.275000     0.000000     0.000000  2011.000000     1.000000   \n",
       "25%      16.665000    47.000000     7.001500  2011.000000     3.000000   \n",
       "50%      24.240000    62.000000    12.998000  2012.000000     6.000000   \n",
       "75%      31.060000    77.000000    16.997900  2012.000000     9.000000   \n",
       "max      45.455000   100.000000    56.996900  2012.000000    12.000000   \n",
       "\n",
       "              hour      weekday  \n",
       "count  8164.000000  8164.000000  \n",
       "mean     11.554998     3.020333  \n",
       "std       6.929567     2.007783  \n",
       "min       0.000000     0.000000  \n",
       "25%       6.000000     1.000000  \n",
       "50%      12.000000     3.000000  \n",
       "75%      18.000000     5.000000  \n",
       "max      23.000000     6.000000  "
      ]
     },
     "execution_count": 74,
     "metadata": {},
     "output_type": "execute_result"
    }
   ],
   "source": [
    "X_train_reg.describe()"
   ]
  },
  {
   "cell_type": "markdown",
   "metadata": {},
   "source": [
    "Good, looks like the X are the same for both"
   ]
  },
  {
   "cell_type": "code",
   "execution_count": 75,
   "metadata": {},
   "outputs": [
    {
     "data": {
      "text/plain": [
       "count    8164.000000\n",
       "mean       35.762371\n",
       "std        49.826465\n",
       "min         0.000000\n",
       "25%         4.000000\n",
       "50%        16.000000\n",
       "75%        48.000000\n",
       "max       367.000000\n",
       "Name: casual, dtype: float64"
      ]
     },
     "execution_count": 75,
     "metadata": {},
     "output_type": "execute_result"
    }
   ],
   "source": [
    "y_train_cas.describe()"
   ]
  },
  {
   "cell_type": "code",
   "execution_count": 76,
   "metadata": {},
   "outputs": [
    {
     "data": {
      "text/plain": [
       "count    8164.000000\n",
       "mean      154.923199\n",
       "std       151.318558\n",
       "min         0.000000\n",
       "25%        36.000000\n",
       "50%       116.000000\n",
       "75%       223.000000\n",
       "max       886.000000\n",
       "Name: registered, dtype: float64"
      ]
     },
     "execution_count": 76,
     "metadata": {},
     "output_type": "execute_result"
    }
   ],
   "source": [
    "y_train_reg.describe()"
   ]
  },
  {
   "cell_type": "code",
   "execution_count": 77,
   "metadata": {},
   "outputs": [
    {
     "name": "stdout",
     "output_type": "stream",
     "text": [
      "[0]\tvalidation_0-rmse:55.6787\tvalidation_1-rmse:56.687\n",
      "[1]\tvalidation_0-rmse:50.8033\tvalidation_1-rmse:51.8855\n",
      "[2]\tvalidation_0-rmse:46.4339\tvalidation_1-rmse:47.5747\n",
      "[3]\tvalidation_0-rmse:42.5119\tvalidation_1-rmse:43.6944\n",
      "[4]\tvalidation_0-rmse:38.992\tvalidation_1-rmse:40.2645\n",
      "[5]\tvalidation_0-rmse:35.7959\tvalidation_1-rmse:37.0909\n",
      "[6]\tvalidation_0-rmse:32.9383\tvalidation_1-rmse:34.206\n",
      "[7]\tvalidation_0-rmse:30.3619\tvalidation_1-rmse:31.6849\n",
      "[8]\tvalidation_0-rmse:28.093\tvalidation_1-rmse:29.5527\n",
      "[9]\tvalidation_0-rmse:26.0136\tvalidation_1-rmse:27.5876\n",
      "[10]\tvalidation_0-rmse:24.1737\tvalidation_1-rmse:25.8892\n",
      "[11]\tvalidation_0-rmse:22.5168\tvalidation_1-rmse:24.3578\n",
      "[12]\tvalidation_0-rmse:21.0496\tvalidation_1-rmse:23.0536\n",
      "[13]\tvalidation_0-rmse:19.7216\tvalidation_1-rmse:21.8822\n",
      "[14]\tvalidation_0-rmse:18.5346\tvalidation_1-rmse:20.876\n",
      "[15]\tvalidation_0-rmse:17.4744\tvalidation_1-rmse:19.984\n",
      "[16]\tvalidation_0-rmse:16.5421\tvalidation_1-rmse:19.2279\n",
      "[17]\tvalidation_0-rmse:15.6915\tvalidation_1-rmse:18.5216\n",
      "[18]\tvalidation_0-rmse:14.9367\tvalidation_1-rmse:17.8802\n",
      "[19]\tvalidation_0-rmse:14.2858\tvalidation_1-rmse:17.3876\n",
      "[20]\tvalidation_0-rmse:13.6756\tvalidation_1-rmse:16.9227\n",
      "[21]\tvalidation_0-rmse:13.1335\tvalidation_1-rmse:16.5404\n",
      "[22]\tvalidation_0-rmse:12.6355\tvalidation_1-rmse:16.1471\n",
      "[23]\tvalidation_0-rmse:12.1903\tvalidation_1-rmse:15.8567\n",
      "[24]\tvalidation_0-rmse:11.7845\tvalidation_1-rmse:15.6355\n",
      "[25]\tvalidation_0-rmse:11.4505\tvalidation_1-rmse:15.4393\n",
      "[26]\tvalidation_0-rmse:11.1263\tvalidation_1-rmse:15.2252\n",
      "[27]\tvalidation_0-rmse:10.8477\tvalidation_1-rmse:15.0651\n",
      "[28]\tvalidation_0-rmse:10.5567\tvalidation_1-rmse:14.9272\n",
      "[29]\tvalidation_0-rmse:10.315\tvalidation_1-rmse:14.7862\n",
      "[30]\tvalidation_0-rmse:10.0838\tvalidation_1-rmse:14.6605\n",
      "[31]\tvalidation_0-rmse:9.87425\tvalidation_1-rmse:14.5439\n",
      "[32]\tvalidation_0-rmse:9.72489\tvalidation_1-rmse:14.4826\n",
      "[33]\tvalidation_0-rmse:9.53021\tvalidation_1-rmse:14.4244\n",
      "[34]\tvalidation_0-rmse:9.36301\tvalidation_1-rmse:14.3795\n",
      "[35]\tvalidation_0-rmse:9.21526\tvalidation_1-rmse:14.3487\n",
      "[36]\tvalidation_0-rmse:9.07841\tvalidation_1-rmse:14.2998\n",
      "[37]\tvalidation_0-rmse:8.93957\tvalidation_1-rmse:14.2562\n",
      "[38]\tvalidation_0-rmse:8.81206\tvalidation_1-rmse:14.2154\n",
      "[39]\tvalidation_0-rmse:8.70552\tvalidation_1-rmse:14.1834\n",
      "[40]\tvalidation_0-rmse:8.58986\tvalidation_1-rmse:14.1478\n",
      "[41]\tvalidation_0-rmse:8.46967\tvalidation_1-rmse:14.1135\n",
      "[42]\tvalidation_0-rmse:8.33857\tvalidation_1-rmse:14.0969\n",
      "[43]\tvalidation_0-rmse:8.25098\tvalidation_1-rmse:14.0899\n",
      "[44]\tvalidation_0-rmse:8.16992\tvalidation_1-rmse:14.0787\n",
      "[45]\tvalidation_0-rmse:8.07135\tvalidation_1-rmse:14.0728\n",
      "[46]\tvalidation_0-rmse:7.97606\tvalidation_1-rmse:14.0546\n",
      "[47]\tvalidation_0-rmse:7.88618\tvalidation_1-rmse:14.0305\n",
      "[48]\tvalidation_0-rmse:7.8346\tvalidation_1-rmse:14.0212\n",
      "[49]\tvalidation_0-rmse:7.76116\tvalidation_1-rmse:14.0325\n",
      "[50]\tvalidation_0-rmse:7.70408\tvalidation_1-rmse:14.0356\n",
      "[51]\tvalidation_0-rmse:7.62652\tvalidation_1-rmse:14.0272\n",
      "[52]\tvalidation_0-rmse:7.57079\tvalidation_1-rmse:14.0037\n",
      "[53]\tvalidation_0-rmse:7.52472\tvalidation_1-rmse:14.0146\n",
      "[54]\tvalidation_0-rmse:7.49481\tvalidation_1-rmse:14.012\n",
      "[55]\tvalidation_0-rmse:7.41712\tvalidation_1-rmse:14.0024\n",
      "[56]\tvalidation_0-rmse:7.35671\tvalidation_1-rmse:13.9967\n",
      "[57]\tvalidation_0-rmse:7.27797\tvalidation_1-rmse:13.9611\n",
      "[58]\tvalidation_0-rmse:7.21906\tvalidation_1-rmse:13.9552\n",
      "[59]\tvalidation_0-rmse:7.13381\tvalidation_1-rmse:13.947\n",
      "[60]\tvalidation_0-rmse:7.0963\tvalidation_1-rmse:13.9366\n",
      "[61]\tvalidation_0-rmse:7.03047\tvalidation_1-rmse:13.9168\n",
      "[62]\tvalidation_0-rmse:6.97193\tvalidation_1-rmse:13.9159\n",
      "[63]\tvalidation_0-rmse:6.94221\tvalidation_1-rmse:13.9026\n",
      "[64]\tvalidation_0-rmse:6.91531\tvalidation_1-rmse:13.889\n",
      "[65]\tvalidation_0-rmse:6.87951\tvalidation_1-rmse:13.8905\n",
      "[66]\tvalidation_0-rmse:6.80841\tvalidation_1-rmse:13.8761\n",
      "[67]\tvalidation_0-rmse:6.79094\tvalidation_1-rmse:13.8772\n",
      "[68]\tvalidation_0-rmse:6.76081\tvalidation_1-rmse:13.881\n",
      "[69]\tvalidation_0-rmse:6.72463\tvalidation_1-rmse:13.8778\n",
      "[70]\tvalidation_0-rmse:6.67268\tvalidation_1-rmse:13.8679\n",
      "[71]\tvalidation_0-rmse:6.65838\tvalidation_1-rmse:13.8682\n",
      "[72]\tvalidation_0-rmse:6.60972\tvalidation_1-rmse:13.8613\n",
      "[73]\tvalidation_0-rmse:6.55927\tvalidation_1-rmse:13.8436\n",
      "[74]\tvalidation_0-rmse:6.52001\tvalidation_1-rmse:13.8479\n",
      "[75]\tvalidation_0-rmse:6.49092\tvalidation_1-rmse:13.8457\n",
      "[76]\tvalidation_0-rmse:6.42781\tvalidation_1-rmse:13.8507\n",
      "[77]\tvalidation_0-rmse:6.40232\tvalidation_1-rmse:13.8486\n",
      "[78]\tvalidation_0-rmse:6.36212\tvalidation_1-rmse:13.8532\n",
      "[79]\tvalidation_0-rmse:6.34618\tvalidation_1-rmse:13.8575\n",
      "[80]\tvalidation_0-rmse:6.30586\tvalidation_1-rmse:13.8596\n",
      "[81]\tvalidation_0-rmse:6.22195\tvalidation_1-rmse:13.8418\n",
      "[82]\tvalidation_0-rmse:6.20422\tvalidation_1-rmse:13.8357\n",
      "[83]\tvalidation_0-rmse:6.12885\tvalidation_1-rmse:13.836\n",
      "[84]\tvalidation_0-rmse:6.11785\tvalidation_1-rmse:13.8403\n",
      "[85]\tvalidation_0-rmse:6.09245\tvalidation_1-rmse:13.8458\n",
      "[86]\tvalidation_0-rmse:6.07838\tvalidation_1-rmse:13.8424\n",
      "[87]\tvalidation_0-rmse:6.0169\tvalidation_1-rmse:13.845\n",
      "[88]\tvalidation_0-rmse:5.99063\tvalidation_1-rmse:13.8432\n",
      "[89]\tvalidation_0-rmse:5.93899\tvalidation_1-rmse:13.8361\n",
      "[90]\tvalidation_0-rmse:5.91735\tvalidation_1-rmse:13.8416\n",
      "[91]\tvalidation_0-rmse:5.88431\tvalidation_1-rmse:13.8416\n",
      "[92]\tvalidation_0-rmse:5.8548\tvalidation_1-rmse:13.8297\n",
      "[93]\tvalidation_0-rmse:5.82635\tvalidation_1-rmse:13.8295\n",
      "[94]\tvalidation_0-rmse:5.77842\tvalidation_1-rmse:13.8338\n",
      "[95]\tvalidation_0-rmse:5.7378\tvalidation_1-rmse:13.8158\n",
      "[96]\tvalidation_0-rmse:5.71568\tvalidation_1-rmse:13.8174\n",
      "[97]\tvalidation_0-rmse:5.68342\tvalidation_1-rmse:13.8218\n",
      "[98]\tvalidation_0-rmse:5.66325\tvalidation_1-rmse:13.8261\n",
      "[99]\tvalidation_0-rmse:5.6112\tvalidation_1-rmse:13.8232\n"
     ]
    },
    {
     "data": {
      "text/plain": [
       "XGBRegressor(base_score=0.5, booster='gbtree', colsample_bylevel=1,\n",
       "       colsample_bytree=1, gamma=0, learning_rate=0.1, max_delta_step=0,\n",
       "       max_depth=9, min_child_weight=4, missing=None, n_estimators=100,\n",
       "       n_jobs=1, nthread=1, objective='reg:linear', random_state=0,\n",
       "       reg_alpha=0, reg_lambda=1, scale_pos_weight=1, seed=0, silent=False,\n",
       "       subsample=0.88)"
      ]
     },
     "execution_count": 77,
     "metadata": {},
     "output_type": "execute_result"
    }
   ],
   "source": [
    "cas_xgb = XGBRegressor(learning_rate=0.1,max_depth=9, min_child_weight=4, n_estimators=100, nthread=1, subsample=0.88, silent=False, seed=0)\n",
    "cas_xgb.fit(X_train_cas,y_train_cas, eval_metric='rmse', eval_set=[(X_train_cas, y_train_cas),(X_val_cas, y_val_cas)], verbose=True, learning_rates=None)\n",
    "# cas_xgb_CV_log = rmse_cv(XGBRegressor(learning_rate=0.1,max_depth=9, min_child_weight=4, n_estimators=100, nthread=1, subsample=0.88, silent=False, seed=0), X_cas_reg, y_cas, log=True)\n",
    "# cas_xgb_CV_log = np.average(cas_xgb_CV_log)\n",
    "# print(f'CV: {cas_xgb_CV_log}')"
   ]
  },
  {
   "cell_type": "markdown",
   "metadata": {},
   "source": [
    "the low results are probably because that I did not log the target value..."
   ]
  },
  {
   "cell_type": "code",
   "execution_count": 78,
   "metadata": {
    "scrolled": false
   },
   "outputs": [
    {
     "name": "stdout",
     "output_type": "stream",
     "text": [
      "[0]\tvalidation_0-rmse:195.788\tvalidation_1-rmse:196.702\n",
      "[1]\tvalidation_0-rmse:177.448\tvalidation_1-rmse:178.304\n",
      "[2]\tvalidation_0-rmse:160.995\tvalidation_1-rmse:161.909\n",
      "[3]\tvalidation_0-rmse:146.23\tvalidation_1-rmse:147.006\n",
      "[4]\tvalidation_0-rmse:132.914\tvalidation_1-rmse:133.646\n",
      "[5]\tvalidation_0-rmse:120.991\tvalidation_1-rmse:121.664\n",
      "[6]\tvalidation_0-rmse:110.263\tvalidation_1-rmse:111.109\n",
      "[7]\tvalidation_0-rmse:100.686\tvalidation_1-rmse:101.73\n",
      "[8]\tvalidation_0-rmse:92.1383\tvalidation_1-rmse:93.3551\n",
      "[9]\tvalidation_0-rmse:84.473\tvalidation_1-rmse:86.0075\n",
      "[10]\tvalidation_0-rmse:77.589\tvalidation_1-rmse:79.404\n",
      "[11]\tvalidation_0-rmse:71.3416\tvalidation_1-rmse:73.3673\n",
      "[12]\tvalidation_0-rmse:65.7662\tvalidation_1-rmse:68.1369\n",
      "[13]\tvalidation_0-rmse:60.8051\tvalidation_1-rmse:63.5914\n",
      "[14]\tvalidation_0-rmse:56.3173\tvalidation_1-rmse:59.3991\n",
      "[15]\tvalidation_0-rmse:52.3667\tvalidation_1-rmse:55.6664\n",
      "[16]\tvalidation_0-rmse:48.8741\tvalidation_1-rmse:52.5329\n",
      "[17]\tvalidation_0-rmse:45.7391\tvalidation_1-rmse:49.7344\n",
      "[18]\tvalidation_0-rmse:42.9846\tvalidation_1-rmse:47.3524\n",
      "[19]\tvalidation_0-rmse:40.5685\tvalidation_1-rmse:45.2907\n",
      "[20]\tvalidation_0-rmse:38.3877\tvalidation_1-rmse:43.6366\n",
      "[21]\tvalidation_0-rmse:36.3826\tvalidation_1-rmse:42.0927\n",
      "[22]\tvalidation_0-rmse:34.6053\tvalidation_1-rmse:40.7854\n",
      "[23]\tvalidation_0-rmse:32.9988\tvalidation_1-rmse:39.6245\n",
      "[24]\tvalidation_0-rmse:31.6034\tvalidation_1-rmse:38.7348\n",
      "[25]\tvalidation_0-rmse:30.4148\tvalidation_1-rmse:37.9495\n",
      "[26]\tvalidation_0-rmse:29.2575\tvalidation_1-rmse:37.1791\n",
      "[27]\tvalidation_0-rmse:28.2221\tvalidation_1-rmse:36.4816\n",
      "[28]\tvalidation_0-rmse:27.2508\tvalidation_1-rmse:35.8795\n",
      "[29]\tvalidation_0-rmse:26.3695\tvalidation_1-rmse:35.4129\n",
      "[30]\tvalidation_0-rmse:25.6304\tvalidation_1-rmse:34.9705\n",
      "[31]\tvalidation_0-rmse:25.0756\tvalidation_1-rmse:34.6204\n",
      "[32]\tvalidation_0-rmse:24.5251\tvalidation_1-rmse:34.3338\n",
      "[33]\tvalidation_0-rmse:24.0079\tvalidation_1-rmse:34.0912\n",
      "[34]\tvalidation_0-rmse:23.4091\tvalidation_1-rmse:33.7896\n",
      "[35]\tvalidation_0-rmse:22.8665\tvalidation_1-rmse:33.5055\n",
      "[36]\tvalidation_0-rmse:22.4396\tvalidation_1-rmse:33.3777\n",
      "[37]\tvalidation_0-rmse:22.0548\tvalidation_1-rmse:33.2326\n",
      "[38]\tvalidation_0-rmse:21.652\tvalidation_1-rmse:32.9993\n",
      "[39]\tvalidation_0-rmse:21.2628\tvalidation_1-rmse:32.8444\n",
      "[40]\tvalidation_0-rmse:20.9285\tvalidation_1-rmse:32.7711\n",
      "[41]\tvalidation_0-rmse:20.6359\tvalidation_1-rmse:32.692\n",
      "[42]\tvalidation_0-rmse:20.2939\tvalidation_1-rmse:32.597\n",
      "[43]\tvalidation_0-rmse:20.0546\tvalidation_1-rmse:32.5212\n",
      "[44]\tvalidation_0-rmse:19.7923\tvalidation_1-rmse:32.4124\n",
      "[45]\tvalidation_0-rmse:19.4004\tvalidation_1-rmse:32.3074\n",
      "[46]\tvalidation_0-rmse:19.1173\tvalidation_1-rmse:32.2785\n",
      "[47]\tvalidation_0-rmse:18.8261\tvalidation_1-rmse:32.2414\n",
      "[48]\tvalidation_0-rmse:18.6063\tvalidation_1-rmse:32.2029\n",
      "[49]\tvalidation_0-rmse:18.2709\tvalidation_1-rmse:32.1518\n",
      "[50]\tvalidation_0-rmse:18.0731\tvalidation_1-rmse:32.0763\n",
      "[51]\tvalidation_0-rmse:17.867\tvalidation_1-rmse:32.0572\n",
      "[52]\tvalidation_0-rmse:17.6703\tvalidation_1-rmse:32.0199\n",
      "[53]\tvalidation_0-rmse:17.3718\tvalidation_1-rmse:31.9837\n",
      "[54]\tvalidation_0-rmse:17.0843\tvalidation_1-rmse:31.9288\n",
      "[55]\tvalidation_0-rmse:16.9976\tvalidation_1-rmse:31.904\n",
      "[56]\tvalidation_0-rmse:16.9248\tvalidation_1-rmse:31.8995\n",
      "[57]\tvalidation_0-rmse:16.7931\tvalidation_1-rmse:31.8907\n",
      "[58]\tvalidation_0-rmse:16.6885\tvalidation_1-rmse:31.8751\n",
      "[59]\tvalidation_0-rmse:16.5599\tvalidation_1-rmse:31.8715\n",
      "[60]\tvalidation_0-rmse:16.3965\tvalidation_1-rmse:31.8308\n",
      "[61]\tvalidation_0-rmse:16.2255\tvalidation_1-rmse:31.8211\n",
      "[62]\tvalidation_0-rmse:16.0968\tvalidation_1-rmse:31.8128\n",
      "[63]\tvalidation_0-rmse:15.8672\tvalidation_1-rmse:31.7822\n",
      "[64]\tvalidation_0-rmse:15.7885\tvalidation_1-rmse:31.7706\n",
      "[65]\tvalidation_0-rmse:15.6194\tvalidation_1-rmse:31.7475\n",
      "[66]\tvalidation_0-rmse:15.4417\tvalidation_1-rmse:31.7438\n",
      "[67]\tvalidation_0-rmse:15.3495\tvalidation_1-rmse:31.729\n",
      "[68]\tvalidation_0-rmse:15.243\tvalidation_1-rmse:31.7094\n",
      "[69]\tvalidation_0-rmse:15.0694\tvalidation_1-rmse:31.6842\n",
      "[70]\tvalidation_0-rmse:15.0013\tvalidation_1-rmse:31.673\n",
      "[71]\tvalidation_0-rmse:14.941\tvalidation_1-rmse:31.6613\n",
      "[72]\tvalidation_0-rmse:14.86\tvalidation_1-rmse:31.6432\n",
      "[73]\tvalidation_0-rmse:14.7323\tvalidation_1-rmse:31.6252\n",
      "[74]\tvalidation_0-rmse:14.6769\tvalidation_1-rmse:31.6083\n",
      "[75]\tvalidation_0-rmse:14.5701\tvalidation_1-rmse:31.5973\n",
      "[76]\tvalidation_0-rmse:14.4713\tvalidation_1-rmse:31.5899\n",
      "[77]\tvalidation_0-rmse:14.4218\tvalidation_1-rmse:31.5826\n",
      "[78]\tvalidation_0-rmse:14.3106\tvalidation_1-rmse:31.5894\n",
      "[79]\tvalidation_0-rmse:14.2176\tvalidation_1-rmse:31.5779\n",
      "[80]\tvalidation_0-rmse:14.061\tvalidation_1-rmse:31.6113\n",
      "[81]\tvalidation_0-rmse:13.9354\tvalidation_1-rmse:31.62\n",
      "[82]\tvalidation_0-rmse:13.8974\tvalidation_1-rmse:31.6121\n",
      "[83]\tvalidation_0-rmse:13.7877\tvalidation_1-rmse:31.6104\n",
      "[84]\tvalidation_0-rmse:13.6665\tvalidation_1-rmse:31.62\n",
      "[85]\tvalidation_0-rmse:13.6406\tvalidation_1-rmse:31.6205\n",
      "[86]\tvalidation_0-rmse:13.5256\tvalidation_1-rmse:31.6546\n",
      "[87]\tvalidation_0-rmse:13.4212\tvalidation_1-rmse:31.6576\n",
      "[88]\tvalidation_0-rmse:13.323\tvalidation_1-rmse:31.642\n",
      "[89]\tvalidation_0-rmse:13.2161\tvalidation_1-rmse:31.6323\n",
      "[90]\tvalidation_0-rmse:13.142\tvalidation_1-rmse:31.5968\n",
      "[91]\tvalidation_0-rmse:13.0911\tvalidation_1-rmse:31.5963\n",
      "[92]\tvalidation_0-rmse:13.0141\tvalidation_1-rmse:31.6263\n",
      "[93]\tvalidation_0-rmse:12.8995\tvalidation_1-rmse:31.6099\n",
      "[94]\tvalidation_0-rmse:12.8423\tvalidation_1-rmse:31.6104\n",
      "[95]\tvalidation_0-rmse:12.789\tvalidation_1-rmse:31.6181\n",
      "[96]\tvalidation_0-rmse:12.7525\tvalidation_1-rmse:31.6221\n",
      "[97]\tvalidation_0-rmse:12.7132\tvalidation_1-rmse:31.6167\n",
      "[98]\tvalidation_0-rmse:12.66\tvalidation_1-rmse:31.5992\n",
      "[99]\tvalidation_0-rmse:12.6084\tvalidation_1-rmse:31.5913\n"
     ]
    },
    {
     "data": {
      "text/plain": [
       "XGBRegressor(base_score=0.5, booster='gbtree', colsample_bylevel=1,\n",
       "       colsample_bytree=1, gamma=0, learning_rate=0.1, max_delta_step=0,\n",
       "       max_depth=9, min_child_weight=4, missing=None, n_estimators=100,\n",
       "       n_jobs=1, nthread=1, objective='reg:linear', random_state=0,\n",
       "       reg_alpha=0, reg_lambda=1, scale_pos_weight=1, seed=0, silent=False,\n",
       "       subsample=0.88)"
      ]
     },
     "execution_count": 78,
     "metadata": {},
     "output_type": "execute_result"
    }
   ],
   "source": [
    "reg_xgb = XGBRegressor(learning_rate=0.1,max_depth=9, min_child_weight=4, n_estimators=100, nthread=1, subsample=0.88, silent=False, seed=0)\n",
    "reg_xgb.fit(X_train_reg,y_train_reg, eval_metric='rmse', eval_set=[(X_train_reg, y_train_reg),(X_val_reg, y_val_reg)], verbose=True, learning_rates=None)\n",
    "# reg_xgb_CV_log = rmse_cv(XGBRegressor(learning_rate=0.1,max_depth=9, min_child_weight=4, n_estimators=100, nthread=1, subsample=0.88, silent=False, seed=0), X_cas_reg, y_reg, log=True)\n",
    "# reg_xgb_CV_log = np.average(reg_xgb_CV_log)\n",
    "# print(f'CV: {reg_xgb_CV_log}')"
   ]
  },
  {
   "cell_type": "code",
   "execution_count": 79,
   "metadata": {},
   "outputs": [
    {
     "data": {
      "text/plain": [
       "array([ 265.63549805,  381.50476074,  238.5987854 , ...,  472.67745972,\n",
       "        324.34875488,   17.31675529], dtype=float32)"
      ]
     },
     "execution_count": 79,
     "metadata": {},
     "output_type": "execute_result"
    }
   ],
   "source": [
    "cas_pred = cas_xgb.predict(X_val_cas)\n",
    "reg_pred = reg_xgb.predict(X_val_reg)\n",
    "cas_reg_count_pred = cas_pred + reg_pred\n",
    "cas_reg_count_pred"
   ]
  },
  {
   "cell_type": "code",
   "execution_count": 80,
   "metadata": {},
   "outputs": [
    {
     "data": {
      "text/plain": [
       "True"
      ]
     },
     "execution_count": 80,
     "metadata": {},
     "output_type": "execute_result"
    }
   ],
   "source": [
    "np.any(cas_reg_count_pred < 0)"
   ]
  },
  {
   "cell_type": "markdown",
   "metadata": {},
   "source": [
    "Seems we have some negativity issues...<br>\n",
    "Lets just replace them with  0"
   ]
  },
  {
   "cell_type": "code",
   "execution_count": 81,
   "metadata": {},
   "outputs": [
    {
     "data": {
      "text/plain": [
       "False"
      ]
     },
     "execution_count": 81,
     "metadata": {},
     "output_type": "execute_result"
    }
   ],
   "source": [
    "cas_reg_count_pred[cas_reg_count_pred < 0] = 0\n",
    "cas_reg_count_pred_log = np.log1p(cas_reg_count_pred)\n",
    "np.any(np.isnan(cas_reg_count_pred_log))"
   ]
  },
  {
   "cell_type": "code",
   "execution_count": 82,
   "metadata": {},
   "outputs": [
    {
     "name": "stdout",
     "output_type": "stream",
     "text": [
      "MSE: 0.32942814771441237, CV: not applicable\n"
     ]
    }
   ],
   "source": [
    "cas_reg_count_MSE = np.sqrt(mean_squared_error(cas_reg_count_pred_log, y_val))\n",
    "# cas_reg_count_CV = (reg_xgb_CV_log + cas_xgb_CV_log) / 2\n",
    "print(f'MSE: {cas_reg_count_MSE}, CV: not applicable')"
   ]
  },
  {
   "cell_type": "code",
   "execution_count": 83,
   "metadata": {},
   "outputs": [],
   "source": [
    "i += 1\n",
    "model_results_df.loc[i] = ['addition of casual and registered', cas_reg_count_MSE, np.nan]"
   ]
  },
  {
   "cell_type": "markdown",
   "metadata": {},
   "source": [
    "Doesnt look that promising, but perhaps this is because that we did not optimize hiperparameters for these specific cases..."
   ]
  },
  {
   "cell_type": "markdown",
   "metadata": {},
   "source": [
    "Lets look at feature importance on both of our models"
   ]
  },
  {
   "cell_type": "code",
   "execution_count": 84,
   "metadata": {},
   "outputs": [
    {
     "data": {
      "text/plain": [
       "<matplotlib.axes._subplots.AxesSubplot at 0x20829513278>"
      ]
     },
     "execution_count": 84,
     "metadata": {},
     "output_type": "execute_result"
    },
    {
     "data": {
      "image/png": "[encoded data removed]",
      "text/plain": [
       "<matplotlib.figure.Figure at 0x20828431828>"
      ]
     },
     "metadata": {},
     "output_type": "display_data"
    }
   ],
   "source": [
    "fig, axs = plt.subplots(ncols=2, nrows=2)\n",
    "plt.subplots_adjust(left=0.125, bottom=0.1, right=1.5, top=2, wspace=1, hspace=0.3)\n",
    "plot_importance(cas_xgb, importance_type='weight', ax=axs[0][0], title='casual weight')\n",
    "plot_importance(cas_xgb, importance_type='gain', ax=axs[0][1], title='casual gain')\n",
    "plot_importance(cas_xgb, importance_type='weight', ax=axs[1][0], title='registered weight')\n",
    "plot_importance(cas_xgb, importance_type='gain', ax=axs[1][1], title='registered gain')"
   ]
  },
  {
   "cell_type": "markdown",
   "metadata": {},
   "source": [
    "Interesting that working day contributed much gain though **holiday** contribute much less gain.<br>\n",
    "This is probably because what really matters is not that it is a holiday, but that it is not a working day."
   ]
  },
  {
   "cell_type": "markdown",
   "metadata": {
    "colab_type": "text",
    "id": "_y3PlFVo0EYe"
   },
   "source": [
    "## Submit"
   ]
  },
  {
   "cell_type": "markdown",
   "metadata": {},
   "source": [
    "Lets summarize the different results we got from different models, submit to kaggle the different samples and we will see which is the best on the kaggle test set."
   ]
  },
  {
   "cell_type": "code",
   "execution_count": 85,
   "metadata": {},
   "outputs": [
    {
     "data": {
      "text/html": [
       "<div>\n",
       "<style scoped>\n",
       "    .dataframe tbody tr th:only-of-type {\n",
       "        vertical-align: middle;\n",
       "    }\n",
       "\n",
       "    .dataframe tbody tr th {\n",
       "        vertical-align: top;\n",
       "    }\n",
       "\n",
       "    .dataframe thead th {\n",
       "        text-align: right;\n",
       "    }\n",
       "</style>\n",
       "<table border=\"1\" class=\"dataframe\">\n",
       "  <thead>\n",
       "    <tr style=\"text-align: right;\">\n",
       "      <th></th>\n",
       "      <th>model</th>\n",
       "      <th>RMSE</th>\n",
       "      <th>CV</th>\n",
       "    </tr>\n",
       "  </thead>\n",
       "  <tbody>\n",
       "    <tr>\n",
       "      <th>7</th>\n",
       "      <td>TPOT xgb</td>\n",
       "      <td>0.292688</td>\n",
       "      <td>0.398496</td>\n",
       "    </tr>\n",
       "    <tr>\n",
       "      <th>9</th>\n",
       "      <td>TPOT xgb cosine</td>\n",
       "      <td>0.299710</td>\n",
       "      <td>NaN</td>\n",
       "    </tr>\n",
       "    <tr>\n",
       "      <th>3</th>\n",
       "      <td>simple random forest seed 475</td>\n",
       "      <td>0.327594</td>\n",
       "      <td>0.465558</td>\n",
       "    </tr>\n",
       "    <tr>\n",
       "      <th>1</th>\n",
       "      <td>simple random forest seed 0</td>\n",
       "      <td>0.327635</td>\n",
       "      <td>0.473904</td>\n",
       "    </tr>\n",
       "    <tr>\n",
       "      <th>10</th>\n",
       "      <td>addition of casual and registered</td>\n",
       "      <td>0.329428</td>\n",
       "      <td>NaN</td>\n",
       "    </tr>\n",
       "  </tbody>\n",
       "</table>\n",
       "</div>"
      ],
      "text/plain": [
       "                                model      RMSE        CV\n",
       "7                            TPOT xgb  0.292688  0.398496\n",
       "9                     TPOT xgb cosine  0.299710       NaN\n",
       "3       simple random forest seed 475  0.327594  0.465558\n",
       "1         simple random forest seed 0  0.327635  0.473904\n",
       "10  addition of casual and registered  0.329428       NaN"
      ]
     },
     "execution_count": 85,
     "metadata": {},
     "output_type": "execute_result"
    }
   ],
   "source": [
    "model_results_df.sort_values(by=['RMSE'],inplace=True)\n",
    "model_results_df.head(5)"
   ]
  },
  {
   "cell_type": "code",
   "execution_count": 86,
   "metadata": {},
   "outputs": [
    {
     "data": {
      "text/html": [
       "<div>\n",
       "<style scoped>\n",
       "    .dataframe tbody tr th:only-of-type {\n",
       "        vertical-align: middle;\n",
       "    }\n",
       "\n",
       "    .dataframe tbody tr th {\n",
       "        vertical-align: top;\n",
       "    }\n",
       "\n",
       "    .dataframe thead th {\n",
       "        text-align: right;\n",
       "    }\n",
       "</style>\n",
       "<table border=\"1\" class=\"dataframe\">\n",
       "  <thead>\n",
       "    <tr style=\"text-align: right;\">\n",
       "      <th></th>\n",
       "      <th>model</th>\n",
       "      <th>RMSE</th>\n",
       "      <th>CV</th>\n",
       "    </tr>\n",
       "  </thead>\n",
       "  <tbody>\n",
       "    <tr>\n",
       "      <th>7</th>\n",
       "      <td>TPOT xgb</td>\n",
       "      <td>0.292688</td>\n",
       "      <td>0.398496</td>\n",
       "    </tr>\n",
       "    <tr>\n",
       "      <th>2</th>\n",
       "      <td>simple xgboost seed 0</td>\n",
       "      <td>0.384047</td>\n",
       "      <td>0.464135</td>\n",
       "    </tr>\n",
       "    <tr>\n",
       "      <th>4</th>\n",
       "      <td>simple xgboost seed 475</td>\n",
       "      <td>0.384047</td>\n",
       "      <td>0.464135</td>\n",
       "    </tr>\n",
       "    <tr>\n",
       "      <th>6</th>\n",
       "      <td>simple xgboost seed 887</td>\n",
       "      <td>0.384047</td>\n",
       "      <td>0.464135</td>\n",
       "    </tr>\n",
       "    <tr>\n",
       "      <th>3</th>\n",
       "      <td>simple random forest seed 475</td>\n",
       "      <td>0.327594</td>\n",
       "      <td>0.465558</td>\n",
       "    </tr>\n",
       "  </tbody>\n",
       "</table>\n",
       "</div>"
      ],
      "text/plain": [
       "                           model      RMSE        CV\n",
       "7                       TPOT xgb  0.292688  0.398496\n",
       "2          simple xgboost seed 0  0.384047  0.464135\n",
       "4        simple xgboost seed 475  0.384047  0.464135\n",
       "6        simple xgboost seed 887  0.384047  0.464135\n",
       "3  simple random forest seed 475  0.327594  0.465558"
      ]
     },
     "execution_count": 86,
     "metadata": {},
     "output_type": "execute_result"
    }
   ],
   "source": [
    "model_results_df.sort_values(by=['CV'],inplace=True)\n",
    "model_results_df.head(5)"
   ]
  },
  {
   "cell_type": "markdown",
   "metadata": {},
   "source": [
    "Top 5 performers in MSE are:\n",
    "1. TPOT xgb\n",
    "2. TPOT xgb cosine\n",
    "3. simple random forest seed 475\n",
    "4. simple random forest seed 0\n",
    "5. addition of casual and registered\n",
    "\n",
    "Top 5 performers in CV are:\n",
    "1. TPOT xgb\n",
    "2. simple xgboost seed 0\n",
    "3. simple xgboost seed 475\n",
    "4. TPOT xgb cosine\n",
    "5. addition of casual and registered\n",
    "\n",
    "I put **TPOT xgb cosine** and **addition of casual and registered** in the top 5 CV because that I would like to see how\n",
    "they perform on the kaggle test set + I assume they would have relative high CV score as well."
   ]
  },
  {
   "cell_type": "code",
   "execution_count": 101,
   "metadata": {},
   "outputs": [],
   "source": [
    "def remove_negatives(res):\n",
    "    num = res._get_numeric_data()\n",
    "    num[num < 0] = 0"
   ]
  },
  {
   "cell_type": "code",
   "execution_count": 102,
   "metadata": {},
   "outputs": [
    {
     "data": {
      "text/html": [
       "<div>\n",
       "<style scoped>\n",
       "    .dataframe tbody tr th:only-of-type {\n",
       "        vertical-align: middle;\n",
       "    }\n",
       "\n",
       "    .dataframe tbody tr th {\n",
       "        vertical-align: top;\n",
       "    }\n",
       "\n",
       "    .dataframe thead th {\n",
       "        text-align: right;\n",
       "    }\n",
       "</style>\n",
       "<table border=\"1\" class=\"dataframe\">\n",
       "  <thead>\n",
       "    <tr style=\"text-align: right;\">\n",
       "      <th></th>\n",
       "      <th>datetime</th>\n",
       "      <th>count</th>\n",
       "    </tr>\n",
       "  </thead>\n",
       "  <tbody>\n",
       "    <tr>\n",
       "      <th>0</th>\n",
       "      <td>2011-01-20 00:00:00</td>\n",
       "      <td>11.180670</td>\n",
       "    </tr>\n",
       "    <tr>\n",
       "      <th>1</th>\n",
       "      <td>2011-01-20 01:00:00</td>\n",
       "      <td>4.462249</td>\n",
       "    </tr>\n",
       "    <tr>\n",
       "      <th>2</th>\n",
       "      <td>2011-01-20 02:00:00</td>\n",
       "      <td>3.999539</td>\n",
       "    </tr>\n",
       "    <tr>\n",
       "      <th>3</th>\n",
       "      <td>2011-01-20 03:00:00</td>\n",
       "      <td>3.106581</td>\n",
       "    </tr>\n",
       "    <tr>\n",
       "      <th>4</th>\n",
       "      <td>2011-01-20 04:00:00</td>\n",
       "      <td>2.750082</td>\n",
       "    </tr>\n",
       "  </tbody>\n",
       "</table>\n",
       "</div>"
      ],
      "text/plain": [
       "             datetime      count\n",
       "0 2011-01-20 00:00:00  11.180670\n",
       "1 2011-01-20 01:00:00   4.462249\n",
       "2 2011-01-20 02:00:00   3.999539\n",
       "3 2011-01-20 03:00:00   3.106581\n",
       "4 2011-01-20 04:00:00   2.750082"
      ]
     },
     "execution_count": 102,
     "metadata": {},
     "output_type": "execute_result"
    }
   ],
   "source": [
    "TPOT_xgb.fit(X,y, eval_metric='rmse', verbose=True, learning_rates=None)\n",
    "TPOT_xgb_preds = np.expm1(TPOT_xgb.predict(df_test))\n",
    "TPOT_xgb_res = pd.DataFrame()\n",
    "TPOT_xgb_res['datetime'] = test_datetime\n",
    "TPOT_xgb_res['count'] = pd.Series(TPOT_xgb_preds)\n",
    "remove_negatives(TPOT_xgb_res)\n",
    "TPOT_xgb_res.head()"
   ]
  },
  {
   "cell_type": "code",
   "execution_count": 103,
   "metadata": {},
   "outputs": [
    {
     "data": {
      "text/html": [
       "<div>\n",
       "<style scoped>\n",
       "    .dataframe tbody tr th:only-of-type {\n",
       "        vertical-align: middle;\n",
       "    }\n",
       "\n",
       "    .dataframe tbody tr th {\n",
       "        vertical-align: top;\n",
       "    }\n",
       "\n",
       "    .dataframe thead th {\n",
       "        text-align: right;\n",
       "    }\n",
       "</style>\n",
       "<table border=\"1\" class=\"dataframe\">\n",
       "  <thead>\n",
       "    <tr style=\"text-align: right;\">\n",
       "      <th></th>\n",
       "      <th>datetime</th>\n",
       "      <th>count</th>\n",
       "    </tr>\n",
       "  </thead>\n",
       "  <tbody>\n",
       "    <tr>\n",
       "      <th>0</th>\n",
       "      <td>2011-01-20 00:00:00</td>\n",
       "      <td>9.816828</td>\n",
       "    </tr>\n",
       "    <tr>\n",
       "      <th>1</th>\n",
       "      <td>2011-01-20 01:00:00</td>\n",
       "      <td>4.307828</td>\n",
       "    </tr>\n",
       "    <tr>\n",
       "      <th>2</th>\n",
       "      <td>2011-01-20 02:00:00</td>\n",
       "      <td>3.633546</td>\n",
       "    </tr>\n",
       "    <tr>\n",
       "      <th>3</th>\n",
       "      <td>2011-01-20 03:00:00</td>\n",
       "      <td>2.974400</td>\n",
       "    </tr>\n",
       "    <tr>\n",
       "      <th>4</th>\n",
       "      <td>2011-01-20 04:00:00</td>\n",
       "      <td>2.733811</td>\n",
       "    </tr>\n",
       "  </tbody>\n",
       "</table>\n",
       "</div>"
      ],
      "text/plain": [
       "             datetime     count\n",
       "0 2011-01-20 00:00:00  9.816828\n",
       "1 2011-01-20 01:00:00  4.307828\n",
       "2 2011-01-20 02:00:00  3.633546\n",
       "3 2011-01-20 03:00:00  2.974400\n",
       "4 2011-01-20 04:00:00  2.733811"
      ]
     },
     "execution_count": 103,
     "metadata": {},
     "output_type": "execute_result"
    }
   ],
   "source": [
    "TPOT_xgb_cos.fit(X,y, eval_metric='rmse', verbose=True, learning_rates=cosine_annealing)\n",
    "TPOT_xgb_cos_preds = np.expm1(TPOT_xgb_cos.predict(df_test))\n",
    "TPOT_xgb_cos_res = pd.DataFrame()\n",
    "TPOT_xgb_cos_res['datetime'] = test_datetime\n",
    "TPOT_xgb_cos_res['count'] = pd.Series(TPOT_xgb_cos_preds)\n",
    "remove_negatives(TPOT_xgb_cos_res)\n",
    "TPOT_xgb_cos_res.head()"
   ]
  },
  {
   "cell_type": "code",
   "execution_count": 104,
   "metadata": {},
   "outputs": [
    {
     "data": {
      "text/html": [
       "<div>\n",
       "<style scoped>\n",
       "    .dataframe tbody tr th:only-of-type {\n",
       "        vertical-align: middle;\n",
       "    }\n",
       "\n",
       "    .dataframe tbody tr th {\n",
       "        vertical-align: top;\n",
       "    }\n",
       "\n",
       "    .dataframe thead th {\n",
       "        text-align: right;\n",
       "    }\n",
       "</style>\n",
       "<table border=\"1\" class=\"dataframe\">\n",
       "  <thead>\n",
       "    <tr style=\"text-align: right;\">\n",
       "      <th></th>\n",
       "      <th>datetime</th>\n",
       "      <th>count</th>\n",
       "    </tr>\n",
       "  </thead>\n",
       "  <tbody>\n",
       "    <tr>\n",
       "      <th>0</th>\n",
       "      <td>2011-01-20 00:00:00</td>\n",
       "      <td>9.052211</td>\n",
       "    </tr>\n",
       "    <tr>\n",
       "      <th>1</th>\n",
       "      <td>2011-01-20 01:00:00</td>\n",
       "      <td>5.194289</td>\n",
       "    </tr>\n",
       "    <tr>\n",
       "      <th>2</th>\n",
       "      <td>2011-01-20 02:00:00</td>\n",
       "      <td>3.187757</td>\n",
       "    </tr>\n",
       "    <tr>\n",
       "      <th>3</th>\n",
       "      <td>2011-01-20 03:00:00</td>\n",
       "      <td>3.254707</td>\n",
       "    </tr>\n",
       "    <tr>\n",
       "      <th>4</th>\n",
       "      <td>2011-01-20 04:00:00</td>\n",
       "      <td>2.393458</td>\n",
       "    </tr>\n",
       "  </tbody>\n",
       "</table>\n",
       "</div>"
      ],
      "text/plain": [
       "             datetime     count\n",
       "0 2011-01-20 00:00:00  9.052211\n",
       "1 2011-01-20 01:00:00  5.194289\n",
       "2 2011-01-20 02:00:00  3.187757\n",
       "3 2011-01-20 03:00:00  3.254707\n",
       "4 2011-01-20 04:00:00  2.393458"
      ]
     },
     "execution_count": 104,
     "metadata": {},
     "output_type": "execute_result"
    }
   ],
   "source": [
    "simple_random_forest_475.fit(X,y)\n",
    "simple_random_forest_475_preds = np.expm1(simple_random_forest_475.predict(df_test))\n",
    "simple_random_forest_475_res = pd.DataFrame()\n",
    "simple_random_forest_475_res['datetime'] = test_datetime\n",
    "simple_random_forest_475_res['count'] = pd.Series(simple_random_forest_475_preds)\n",
    "remove_negatives(simple_random_forest_475_res)\n",
    "simple_random_forest_475_res.head()"
   ]
  },
  {
   "cell_type": "code",
   "execution_count": 105,
   "metadata": {},
   "outputs": [
    {
     "data": {
      "text/html": [
       "<div>\n",
       "<style scoped>\n",
       "    .dataframe tbody tr th:only-of-type {\n",
       "        vertical-align: middle;\n",
       "    }\n",
       "\n",
       "    .dataframe tbody tr th {\n",
       "        vertical-align: top;\n",
       "    }\n",
       "\n",
       "    .dataframe thead th {\n",
       "        text-align: right;\n",
       "    }\n",
       "</style>\n",
       "<table border=\"1\" class=\"dataframe\">\n",
       "  <thead>\n",
       "    <tr style=\"text-align: right;\">\n",
       "      <th></th>\n",
       "      <th>datetime</th>\n",
       "      <th>count</th>\n",
       "    </tr>\n",
       "  </thead>\n",
       "  <tbody>\n",
       "    <tr>\n",
       "      <th>0</th>\n",
       "      <td>2011-01-20 00:00:00</td>\n",
       "      <td>11.324281</td>\n",
       "    </tr>\n",
       "    <tr>\n",
       "      <th>1</th>\n",
       "      <td>2011-01-20 01:00:00</td>\n",
       "      <td>4.958883</td>\n",
       "    </tr>\n",
       "    <tr>\n",
       "      <th>2</th>\n",
       "      <td>2011-01-20 02:00:00</td>\n",
       "      <td>2.491940</td>\n",
       "    </tr>\n",
       "    <tr>\n",
       "      <th>3</th>\n",
       "      <td>2011-01-20 03:00:00</td>\n",
       "      <td>3.513679</td>\n",
       "    </tr>\n",
       "    <tr>\n",
       "      <th>4</th>\n",
       "      <td>2011-01-20 04:00:00</td>\n",
       "      <td>3.194927</td>\n",
       "    </tr>\n",
       "  </tbody>\n",
       "</table>\n",
       "</div>"
      ],
      "text/plain": [
       "             datetime      count\n",
       "0 2011-01-20 00:00:00  11.324281\n",
       "1 2011-01-20 01:00:00   4.958883\n",
       "2 2011-01-20 02:00:00   2.491940\n",
       "3 2011-01-20 03:00:00   3.513679\n",
       "4 2011-01-20 04:00:00   3.194927"
      ]
     },
     "execution_count": 105,
     "metadata": {},
     "output_type": "execute_result"
    }
   ],
   "source": [
    "simple_random_forest.fit(X,y)\n",
    "simple_random_forest_preds = np.expm1(simple_random_forest.predict(df_test))\n",
    "simple_random_forest_res = pd.DataFrame()\n",
    "simple_random_forest_res['datetime'] = test_datetime\n",
    "simple_random_forest_res['count'] = pd.Series(simple_random_forest_preds)\n",
    "remove_negatives(simple_random_forest_res)\n",
    "simple_random_forest_res.head()"
   ]
  },
  {
   "cell_type": "code",
   "execution_count": 106,
   "metadata": {},
   "outputs": [
    {
     "data": {
      "text/html": [
       "<div>\n",
       "<style scoped>\n",
       "    .dataframe tbody tr th:only-of-type {\n",
       "        vertical-align: middle;\n",
       "    }\n",
       "\n",
       "    .dataframe tbody tr th {\n",
       "        vertical-align: top;\n",
       "    }\n",
       "\n",
       "    .dataframe thead th {\n",
       "        text-align: right;\n",
       "    }\n",
       "</style>\n",
       "<table border=\"1\" class=\"dataframe\">\n",
       "  <thead>\n",
       "    <tr style=\"text-align: right;\">\n",
       "      <th></th>\n",
       "      <th>datetime</th>\n",
       "      <th>count</th>\n",
       "    </tr>\n",
       "  </thead>\n",
       "  <tbody>\n",
       "    <tr>\n",
       "      <th>0</th>\n",
       "      <td>2011-01-20 00:00:00</td>\n",
       "      <td>11.086968</td>\n",
       "    </tr>\n",
       "    <tr>\n",
       "      <th>1</th>\n",
       "      <td>2011-01-20 01:00:00</td>\n",
       "      <td>6.300915</td>\n",
       "    </tr>\n",
       "    <tr>\n",
       "      <th>2</th>\n",
       "      <td>2011-01-20 02:00:00</td>\n",
       "      <td>3.247435</td>\n",
       "    </tr>\n",
       "    <tr>\n",
       "      <th>3</th>\n",
       "      <td>2011-01-20 03:00:00</td>\n",
       "      <td>2.756974</td>\n",
       "    </tr>\n",
       "    <tr>\n",
       "      <th>4</th>\n",
       "      <td>2011-01-20 04:00:00</td>\n",
       "      <td>2.817458</td>\n",
       "    </tr>\n",
       "  </tbody>\n",
       "</table>\n",
       "</div>"
      ],
      "text/plain": [
       "             datetime      count\n",
       "0 2011-01-20 00:00:00  11.086968\n",
       "1 2011-01-20 01:00:00   6.300915\n",
       "2 2011-01-20 02:00:00   3.247435\n",
       "3 2011-01-20 03:00:00   2.756974\n",
       "4 2011-01-20 04:00:00   2.817458"
      ]
     },
     "execution_count": 106,
     "metadata": {},
     "output_type": "execute_result"
    }
   ],
   "source": [
    "cas_xgb.fit(X_cas_reg,y_cas, eval_metric='rmse', verbose=True, learning_rates=None)\n",
    "reg_xgb.fit(X_cas_reg,y_reg, eval_metric='rmse', verbose=True, learning_rates=None)\n",
    "cas_reg_xgb_preds = cas_xgb.predict(df_test) + reg_xgb.predict(df_test)\n",
    "cas_reg_xgb_res = pd.DataFrame()\n",
    "cas_reg_xgb_res['datetime'] = test_datetime\n",
    "cas_reg_xgb_res['count'] = pd.Series(cas_reg_xgb_preds)\n",
    "remove_negatives(cas_reg_xgb_res)\n",
    "cas_reg_xgb_res.head()"
   ]
  },
  {
   "cell_type": "code",
   "execution_count": 107,
   "metadata": {
    "colab": {
     "autoexec": {
      "startup": false,
      "wait_interval": 0
     }
    },
    "colab_type": "code",
    "id": "wj9UE8Z20EYm"
   },
   "outputs": [],
   "source": [
    "TPOT_xgb_res.to_csv('TPOT_xgb.csv', index=False)\n",
    "TPOT_xgb_cos_res.to_csv('TPOT_xgb_cos.csv', index=False)\n",
    "simple_random_forest_475_res.to_csv('simple_random_forest_475.csv', index=False)\n",
    "simple_random_forest_res.to_csv('simple_random_forest.csv', index=False)\n",
    "cas_reg_xgb_res.to_csv('cas_reg_xgb.csv', index=False)"
   ]
  },
  {
   "cell_type": "markdown",
   "metadata": {},
   "source": [
    "### Kaggle Results"
   ]
  },
  {
   "cell_type": "markdown",
   "metadata": {},
   "source": [
    "- **TPOT_xgb**: 0.40599\n",
    "- **TPOT_xgb_cos**: 0.39846\n",
    "- **simple_random_forest_475**: 0.44173\n",
    "- **simple_random_forest**: 0.45470\n",
    "- **cas_reg_xgb**: 0.45322\n"
   ]
  },
  {
   "cell_type": "markdown",
   "metadata": {},
   "source": [
    "#### Summary"
   ]
  },
  {
   "cell_type": "markdown",
   "metadata": {},
   "source": [
    "First place: **TPOT_xgb_cos**<br>\n",
    "This is a model that was trained with hyper parameters found by a genetic algorithm + cosine annealing learning rate.\n",
    "<br><br>\n",
    "Second place: **TPOT_xgb**<br>\n",
    "This is the same as TPOT_xgb only without the cosine annealing, using the constant learning rate found by TPOT.\n",
    "<br><br>\n",
    "Third place: **simple_random_fores_475**<br>\n",
    "This is a random forest using the default hyper parameters, set the random seed to  be 475."
   ]
  }
 ],
 "metadata": {
  "colab": {
   "default_view": {},
   "name": "Bike Sharing.ipynb",
   "provenance": [],
   "version": "0.3.2",
   "views": {}
  },
  "kernelspec": {
   "display_name": "Python 3",
   "language": "python",
   "name": "python3"
  },
  "language_info": {
   "codemirror_mode": {
    "name": "ipython",
    "version": 3
   },
   "file_extension": ".py",
   "mimetype": "text/x-python",
   "name": "python",
   "nbconvert_exporter": "python",
   "pygments_lexer": "ipython3",
   "version": "3.6.4"
  }
 },
 "nbformat": 4,
 "nbformat_minor": 1
}
