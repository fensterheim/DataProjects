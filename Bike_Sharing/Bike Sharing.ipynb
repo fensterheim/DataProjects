{
 "cells": [
  {
   "cell_type": "markdown",
   "metadata": {
    "colab_type": "text",
    "id": "54egiiyK0EV2"
   },
   "source": [
    "# Bike Sharing challange"
   ]
  },
  {
   "cell_type": "markdown",
   "metadata": {
    "colab_type": "text",
    "id": "bNgN-zDG0EV6"
   },
   "source": [
    "In this notebook I will attempt to solve the bike sharing challange.<br>\n",
    "See https://www.kaggle.com/c/bike-sharing-demand for further information.<br>\n",
    "<br>\n",
    "Since the data has very clear seasonality, I will not treat this as a TSA problem."
   ]
  },
  {
   "cell_type": "markdown",
   "metadata": {
    "colab_type": "text",
    "id": "WX2K4L400EV9"
   },
   "source": [
    "## EDA"
   ]
  },
  {
   "cell_type": "code",
   "execution_count": 1,
   "metadata": {
    "colab": {
     "autoexec": {
      "startup": false,
      "wait_interval": 0
     }
    },
    "colab_type": "code",
    "id": "8S7MuL2u0EV-"
   },
   "outputs": [],
   "source": [
    "import pandas as pd\n",
    "import seaborn as sns\n",
    "import matplotlib.pylab as plt\n",
    "import numpy as np"
   ]
  },
  {
   "cell_type": "code",
   "execution_count": 2,
   "metadata": {
    "colab": {
     "autoexec": {
      "startup": false,
      "wait_interval": 0
     }
    },
    "colab_type": "code",
    "id": "JXukNDkC0EWC"
   },
   "outputs": [],
   "source": [
    "df_train = pd.read_csv(\"data/train.csv\")\n",
    "df_test = pd.read_csv(\"data/test.csv\")\n",
    "combine = [df_train, df_test]"
   ]
  },
  {
   "cell_type": "code",
   "execution_count": 3,
   "metadata": {
    "colab": {
     "autoexec": {
      "startup": false,
      "wait_interval": 0
     }
    },
    "colab_type": "code",
    "id": "5d0F_KSH0EWF",
    "outputId": "00665f99-f860-48fe-8e4d-d9f89837d987"
   },
   "outputs": [
    {
     "name": "stdout",
     "output_type": "stream",
     "text": [
      "<class 'pandas.core.frame.DataFrame'>\n",
      "RangeIndex: 6493 entries, 0 to 6492\n",
      "Data columns (total 9 columns):\n",
      "datetime      6493 non-null object\n",
      "season        6493 non-null int64\n",
      "holiday       6493 non-null int64\n",
      "workingday    6493 non-null int64\n",
      "weather       6493 non-null int64\n",
      "temp          6493 non-null float64\n",
      "atemp         6493 non-null float64\n",
      "humidity      6493 non-null int64\n",
      "windspeed     6493 non-null float64\n",
      "dtypes: float64(3), int64(5), object(1)\n",
      "memory usage: 456.6+ KB\n"
     ]
    }
   ],
   "source": [
    "df_test.info()"
   ]
  },
  {
   "cell_type": "code",
   "execution_count": 4,
   "metadata": {
    "colab": {
     "autoexec": {
      "startup": false,
      "wait_interval": 0
     }
    },
    "colab_type": "code",
    "id": "ZqyITG7a0EWM",
    "outputId": "06fe6954-f15e-4430-fd26-50359402a955"
   },
   "outputs": [
    {
     "name": "stdout",
     "output_type": "stream",
     "text": [
      "<class 'pandas.core.frame.DataFrame'>\n",
      "RangeIndex: 10886 entries, 0 to 10885\n",
      "Data columns (total 12 columns):\n",
      "datetime      10886 non-null object\n",
      "season        10886 non-null int64\n",
      "holiday       10886 non-null int64\n",
      "workingday    10886 non-null int64\n",
      "weather       10886 non-null int64\n",
      "temp          10886 non-null float64\n",
      "atemp         10886 non-null float64\n",
      "humidity      10886 non-null int64\n",
      "windspeed     10886 non-null float64\n",
      "casual        10886 non-null int64\n",
      "registered    10886 non-null int64\n",
      "count         10886 non-null int64\n",
      "dtypes: float64(3), int64(8), object(1)\n",
      "memory usage: 1020.6+ KB\n"
     ]
    }
   ],
   "source": [
    "df_train.info()"
   ]
  },
  {
   "cell_type": "code",
   "execution_count": 5,
   "metadata": {
    "colab": {
     "autoexec": {
      "startup": false,
      "wait_interval": 0
     }
    },
    "colab_type": "code",
    "id": "A_tq8vYR0EWP",
    "outputId": "ac20b591-f3e7-4e26-84e4-e57719935ea9"
   },
   "outputs": [
    {
     "data": {
      "text/html": [
       "<div>\n",
       "<style scoped>\n",
       "    .dataframe tbody tr th:only-of-type {\n",
       "        vertical-align: middle;\n",
       "    }\n",
       "\n",
       "    .dataframe tbody tr th {\n",
       "        vertical-align: top;\n",
       "    }\n",
       "\n",
       "    .dataframe thead th {\n",
       "        text-align: right;\n",
       "    }\n",
       "</style>\n",
       "<table border=\"1\" class=\"dataframe\">\n",
       "  <thead>\n",
       "    <tr style=\"text-align: right;\">\n",
       "      <th></th>\n",
       "      <th>datetime</th>\n",
       "      <th>season</th>\n",
       "      <th>holiday</th>\n",
       "      <th>workingday</th>\n",
       "      <th>weather</th>\n",
       "      <th>temp</th>\n",
       "      <th>atemp</th>\n",
       "      <th>humidity</th>\n",
       "      <th>windspeed</th>\n",
       "      <th>casual</th>\n",
       "      <th>registered</th>\n",
       "      <th>count</th>\n",
       "    </tr>\n",
       "  </thead>\n",
       "  <tbody>\n",
       "    <tr>\n",
       "      <th>0</th>\n",
       "      <td>2011-01-01 00:00:00</td>\n",
       "      <td>1</td>\n",
       "      <td>0</td>\n",
       "      <td>0</td>\n",
       "      <td>1</td>\n",
       "      <td>9.84</td>\n",
       "      <td>14.395</td>\n",
       "      <td>81</td>\n",
       "      <td>0.0000</td>\n",
       "      <td>3</td>\n",
       "      <td>13</td>\n",
       "      <td>16</td>\n",
       "    </tr>\n",
       "    <tr>\n",
       "      <th>1</th>\n",
       "      <td>2011-01-01 01:00:00</td>\n",
       "      <td>1</td>\n",
       "      <td>0</td>\n",
       "      <td>0</td>\n",
       "      <td>1</td>\n",
       "      <td>9.02</td>\n",
       "      <td>13.635</td>\n",
       "      <td>80</td>\n",
       "      <td>0.0000</td>\n",
       "      <td>8</td>\n",
       "      <td>32</td>\n",
       "      <td>40</td>\n",
       "    </tr>\n",
       "    <tr>\n",
       "      <th>2</th>\n",
       "      <td>2011-01-01 02:00:00</td>\n",
       "      <td>1</td>\n",
       "      <td>0</td>\n",
       "      <td>0</td>\n",
       "      <td>1</td>\n",
       "      <td>9.02</td>\n",
       "      <td>13.635</td>\n",
       "      <td>80</td>\n",
       "      <td>0.0000</td>\n",
       "      <td>5</td>\n",
       "      <td>27</td>\n",
       "      <td>32</td>\n",
       "    </tr>\n",
       "    <tr>\n",
       "      <th>3</th>\n",
       "      <td>2011-01-01 03:00:00</td>\n",
       "      <td>1</td>\n",
       "      <td>0</td>\n",
       "      <td>0</td>\n",
       "      <td>1</td>\n",
       "      <td>9.84</td>\n",
       "      <td>14.395</td>\n",
       "      <td>75</td>\n",
       "      <td>0.0000</td>\n",
       "      <td>3</td>\n",
       "      <td>10</td>\n",
       "      <td>13</td>\n",
       "    </tr>\n",
       "    <tr>\n",
       "      <th>4</th>\n",
       "      <td>2011-01-01 04:00:00</td>\n",
       "      <td>1</td>\n",
       "      <td>0</td>\n",
       "      <td>0</td>\n",
       "      <td>1</td>\n",
       "      <td>9.84</td>\n",
       "      <td>14.395</td>\n",
       "      <td>75</td>\n",
       "      <td>0.0000</td>\n",
       "      <td>0</td>\n",
       "      <td>1</td>\n",
       "      <td>1</td>\n",
       "    </tr>\n",
       "    <tr>\n",
       "      <th>5</th>\n",
       "      <td>2011-01-01 05:00:00</td>\n",
       "      <td>1</td>\n",
       "      <td>0</td>\n",
       "      <td>0</td>\n",
       "      <td>2</td>\n",
       "      <td>9.84</td>\n",
       "      <td>12.880</td>\n",
       "      <td>75</td>\n",
       "      <td>6.0032</td>\n",
       "      <td>0</td>\n",
       "      <td>1</td>\n",
       "      <td>1</td>\n",
       "    </tr>\n",
       "    <tr>\n",
       "      <th>6</th>\n",
       "      <td>2011-01-01 06:00:00</td>\n",
       "      <td>1</td>\n",
       "      <td>0</td>\n",
       "      <td>0</td>\n",
       "      <td>1</td>\n",
       "      <td>9.02</td>\n",
       "      <td>13.635</td>\n",
       "      <td>80</td>\n",
       "      <td>0.0000</td>\n",
       "      <td>2</td>\n",
       "      <td>0</td>\n",
       "      <td>2</td>\n",
       "    </tr>\n",
       "    <tr>\n",
       "      <th>7</th>\n",
       "      <td>2011-01-01 07:00:00</td>\n",
       "      <td>1</td>\n",
       "      <td>0</td>\n",
       "      <td>0</td>\n",
       "      <td>1</td>\n",
       "      <td>8.20</td>\n",
       "      <td>12.880</td>\n",
       "      <td>86</td>\n",
       "      <td>0.0000</td>\n",
       "      <td>1</td>\n",
       "      <td>2</td>\n",
       "      <td>3</td>\n",
       "    </tr>\n",
       "    <tr>\n",
       "      <th>8</th>\n",
       "      <td>2011-01-01 08:00:00</td>\n",
       "      <td>1</td>\n",
       "      <td>0</td>\n",
       "      <td>0</td>\n",
       "      <td>1</td>\n",
       "      <td>9.84</td>\n",
       "      <td>14.395</td>\n",
       "      <td>75</td>\n",
       "      <td>0.0000</td>\n",
       "      <td>1</td>\n",
       "      <td>7</td>\n",
       "      <td>8</td>\n",
       "    </tr>\n",
       "    <tr>\n",
       "      <th>9</th>\n",
       "      <td>2011-01-01 09:00:00</td>\n",
       "      <td>1</td>\n",
       "      <td>0</td>\n",
       "      <td>0</td>\n",
       "      <td>1</td>\n",
       "      <td>13.12</td>\n",
       "      <td>17.425</td>\n",
       "      <td>76</td>\n",
       "      <td>0.0000</td>\n",
       "      <td>8</td>\n",
       "      <td>6</td>\n",
       "      <td>14</td>\n",
       "    </tr>\n",
       "  </tbody>\n",
       "</table>\n",
       "</div>"
      ],
      "text/plain": [
       "              datetime  season  holiday  workingday  weather   temp   atemp  \\\n",
       "0  2011-01-01 00:00:00       1        0           0        1   9.84  14.395   \n",
       "1  2011-01-01 01:00:00       1        0           0        1   9.02  13.635   \n",
       "2  2011-01-01 02:00:00       1        0           0        1   9.02  13.635   \n",
       "3  2011-01-01 03:00:00       1        0           0        1   9.84  14.395   \n",
       "4  2011-01-01 04:00:00       1        0           0        1   9.84  14.395   \n",
       "5  2011-01-01 05:00:00       1        0           0        2   9.84  12.880   \n",
       "6  2011-01-01 06:00:00       1        0           0        1   9.02  13.635   \n",
       "7  2011-01-01 07:00:00       1        0           0        1   8.20  12.880   \n",
       "8  2011-01-01 08:00:00       1        0           0        1   9.84  14.395   \n",
       "9  2011-01-01 09:00:00       1        0           0        1  13.12  17.425   \n",
       "\n",
       "   humidity  windspeed  casual  registered  count  \n",
       "0        81     0.0000       3          13     16  \n",
       "1        80     0.0000       8          32     40  \n",
       "2        80     0.0000       5          27     32  \n",
       "3        75     0.0000       3          10     13  \n",
       "4        75     0.0000       0           1      1  \n",
       "5        75     6.0032       0           1      1  \n",
       "6        80     0.0000       2           0      2  \n",
       "7        86     0.0000       1           2      3  \n",
       "8        75     0.0000       1           7      8  \n",
       "9        76     0.0000       8           6     14  "
      ]
     },
     "execution_count": 5,
     "metadata": {},
     "output_type": "execute_result"
    }
   ],
   "source": [
    "df_train.head(10)"
   ]
  },
  {
   "cell_type": "code",
   "execution_count": 6,
   "metadata": {
    "colab": {
     "autoexec": {
      "startup": false,
      "wait_interval": 0
     }
    },
    "colab_type": "code",
    "id": "WSXlY5bS0EWR",
    "outputId": "516f73a8-95e9-4692-a351-e9c7c0b6a3b0"
   },
   "outputs": [
    {
     "data": {
      "text/html": [
       "<div>\n",
       "<style scoped>\n",
       "    .dataframe tbody tr th:only-of-type {\n",
       "        vertical-align: middle;\n",
       "    }\n",
       "\n",
       "    .dataframe tbody tr th {\n",
       "        vertical-align: top;\n",
       "    }\n",
       "\n",
       "    .dataframe thead th {\n",
       "        text-align: right;\n",
       "    }\n",
       "</style>\n",
       "<table border=\"1\" class=\"dataframe\">\n",
       "  <thead>\n",
       "    <tr style=\"text-align: right;\">\n",
       "      <th></th>\n",
       "      <th>datetime</th>\n",
       "      <th>season</th>\n",
       "      <th>holiday</th>\n",
       "      <th>workingday</th>\n",
       "      <th>weather</th>\n",
       "      <th>temp</th>\n",
       "      <th>atemp</th>\n",
       "      <th>humidity</th>\n",
       "      <th>windspeed</th>\n",
       "    </tr>\n",
       "  </thead>\n",
       "  <tbody>\n",
       "    <tr>\n",
       "      <th>0</th>\n",
       "      <td>2011-01-20 00:00:00</td>\n",
       "      <td>1</td>\n",
       "      <td>0</td>\n",
       "      <td>1</td>\n",
       "      <td>1</td>\n",
       "      <td>10.66</td>\n",
       "      <td>11.365</td>\n",
       "      <td>56</td>\n",
       "      <td>26.0027</td>\n",
       "    </tr>\n",
       "    <tr>\n",
       "      <th>1</th>\n",
       "      <td>2011-01-20 01:00:00</td>\n",
       "      <td>1</td>\n",
       "      <td>0</td>\n",
       "      <td>1</td>\n",
       "      <td>1</td>\n",
       "      <td>10.66</td>\n",
       "      <td>13.635</td>\n",
       "      <td>56</td>\n",
       "      <td>0.0000</td>\n",
       "    </tr>\n",
       "    <tr>\n",
       "      <th>2</th>\n",
       "      <td>2011-01-20 02:00:00</td>\n",
       "      <td>1</td>\n",
       "      <td>0</td>\n",
       "      <td>1</td>\n",
       "      <td>1</td>\n",
       "      <td>10.66</td>\n",
       "      <td>13.635</td>\n",
       "      <td>56</td>\n",
       "      <td>0.0000</td>\n",
       "    </tr>\n",
       "    <tr>\n",
       "      <th>3</th>\n",
       "      <td>2011-01-20 03:00:00</td>\n",
       "      <td>1</td>\n",
       "      <td>0</td>\n",
       "      <td>1</td>\n",
       "      <td>1</td>\n",
       "      <td>10.66</td>\n",
       "      <td>12.880</td>\n",
       "      <td>56</td>\n",
       "      <td>11.0014</td>\n",
       "    </tr>\n",
       "    <tr>\n",
       "      <th>4</th>\n",
       "      <td>2011-01-20 04:00:00</td>\n",
       "      <td>1</td>\n",
       "      <td>0</td>\n",
       "      <td>1</td>\n",
       "      <td>1</td>\n",
       "      <td>10.66</td>\n",
       "      <td>12.880</td>\n",
       "      <td>56</td>\n",
       "      <td>11.0014</td>\n",
       "    </tr>\n",
       "  </tbody>\n",
       "</table>\n",
       "</div>"
      ],
      "text/plain": [
       "              datetime  season  holiday  workingday  weather   temp   atemp  \\\n",
       "0  2011-01-20 00:00:00       1        0           1        1  10.66  11.365   \n",
       "1  2011-01-20 01:00:00       1        0           1        1  10.66  13.635   \n",
       "2  2011-01-20 02:00:00       1        0           1        1  10.66  13.635   \n",
       "3  2011-01-20 03:00:00       1        0           1        1  10.66  12.880   \n",
       "4  2011-01-20 04:00:00       1        0           1        1  10.66  12.880   \n",
       "\n",
       "   humidity  windspeed  \n",
       "0        56    26.0027  \n",
       "1        56     0.0000  \n",
       "2        56     0.0000  \n",
       "3        56    11.0014  \n",
       "4        56    11.0014  "
      ]
     },
     "execution_count": 6,
     "metadata": {},
     "output_type": "execute_result"
    }
   ],
   "source": [
    "df_test.head()"
   ]
  },
  {
   "cell_type": "code",
   "execution_count": 7,
   "metadata": {
    "colab": {
     "autoexec": {
      "startup": false,
      "wait_interval": 0
     }
    },
    "colab_type": "code",
    "id": "8cbmXWGL0EWW",
    "outputId": "49752686-f7dd-46f1-85aa-16bef37abb90"
   },
   "outputs": [
    {
     "data": {
      "text/plain": [
       "<matplotlib.axes._subplots.AxesSubplot at 0x1d49b743c50>"
      ]
     },
     "execution_count": 7,
     "metadata": {},
     "output_type": "execute_result"
    },
    {
     "data": {
      "image/png": "[encoded data removed]",
      "text/plain": [
       "<matplotlib.figure.Figure at 0x1d49b706898>"
      ]
     },
     "metadata": {},
     "output_type": "display_data"
    }
   ],
   "source": [
    "sns.heatmap(df_train.corr())"
   ]
  },
  {
   "cell_type": "markdown",
   "metadata": {
    "colab_type": "text",
    "id": "uDpNO-id0EWZ"
   },
   "source": [
    "Interesting insights from the HeatMap:\n",
    "> - casual has a negative correlation with workingday\n",
    "> - high correlation betwen casual and count\n",
    "> - humidity has negative correlation with casual, registered and count.\n",
    "> - temp and atemp have high correlation with count and casual\n",
    "\n",
    "What I would like to see that does not show up here:\n",
    "> - correlation between year and count (we will probably need a kendal os spearman correlation dut to nonlinearity)\n",
    "> - correlation between season and deviation from yearly average"
   ]
  },
  {
   "cell_type": "code",
   "execution_count": 8,
   "metadata": {
    "colab": {
     "autoexec": {
      "startup": false,
      "wait_interval": 0
     }
    },
    "colab_type": "code",
    "id": "TCTX1X2m0EWb"
   },
   "outputs": [],
   "source": [
    "#datetimable_df = df_train.replace(df_train['datetime'],pd.to_datetime(df_train['datetime']))"
   ]
  },
  {
   "cell_type": "code",
   "execution_count": 9,
   "metadata": {
    "colab": {
     "autoexec": {
      "startup": false,
      "wait_interval": 0
     }
    },
    "colab_type": "code",
    "id": "Vscm6jY40EWe"
   },
   "outputs": [],
   "source": [
    "df_train[['datetime']] = df_train[['datetime']].apply(pd.to_datetime)\n",
    "df_test[['datetime']] = df_test[['datetime']].apply(pd.to_datetime)"
   ]
  },
  {
   "cell_type": "code",
   "execution_count": 10,
   "metadata": {
    "colab": {
     "autoexec": {
      "startup": false,
      "wait_interval": 0
     }
    },
    "colab_type": "code",
    "id": "MR0gqkbC0EWh",
    "outputId": "20f46021-b513-488e-cc73-7c6f46e9a535"
   },
   "outputs": [
    {
     "name": "stdout",
     "output_type": "stream",
     "text": [
      "<class 'pandas.core.frame.DataFrame'>\n",
      "RangeIndex: 10886 entries, 0 to 10885\n",
      "Data columns (total 12 columns):\n",
      "datetime      10886 non-null datetime64[ns]\n",
      "season        10886 non-null int64\n",
      "holiday       10886 non-null int64\n",
      "workingday    10886 non-null int64\n",
      "weather       10886 non-null int64\n",
      "temp          10886 non-null float64\n",
      "atemp         10886 non-null float64\n",
      "humidity      10886 non-null int64\n",
      "windspeed     10886 non-null float64\n",
      "casual        10886 non-null int64\n",
      "registered    10886 non-null int64\n",
      "count         10886 non-null int64\n",
      "dtypes: datetime64[ns](1), float64(3), int64(8)\n",
      "memory usage: 1020.6 KB\n"
     ]
    }
   ],
   "source": [
    "df_train.info()"
   ]
  },
  {
   "cell_type": "code",
   "execution_count": 11,
   "metadata": {
    "colab": {
     "autoexec": {
      "startup": false,
      "wait_interval": 0
     }
    },
    "colab_type": "code",
    "id": "MbdB9PW_0EWj",
    "outputId": "536e61a3-b272-47ca-af48-3931f84e513e"
   },
   "outputs": [
    {
     "data": {
      "text/plain": [
       "(array([ 734107.,  734197.,  734289.,  734381.,  734472.,  734563.,\n",
       "         734655.,  734747.,  734838.]), <a list of 9 Text xticklabel objects>)"
      ]
     },
     "execution_count": 11,
     "metadata": {},
     "output_type": "execute_result"
    },
    {
     "data": {
      "image/png": "[encoded data removed]",
      "text/plain": [
       "<matplotlib.figure.Figure at 0x1d49b706e80>"
      ]
     },
     "metadata": {},
     "output_type": "display_data"
    }
   ],
   "source": [
    "df_train = df_train.sort_values('datetime', ascending=True)\n",
    "plt.plot(df_train['datetime'], df_train['count'])\n",
    "plt.xticks(rotation='vertical')"
   ]
  },
  {
   "cell_type": "markdown",
   "metadata": {
    "colab_type": "text",
    "id": "FXP-p87n0EWo"
   },
   "source": [
    "Show significance between mean in 2011 to mean in 2012?"
   ]
  },
  {
   "cell_type": "code",
   "execution_count": 12,
   "metadata": {
    "colab": {
     "autoexec": {
      "startup": false,
      "wait_interval": 0
     }
    },
    "colab_type": "code",
    "id": "dnzGD0q70EWp",
    "outputId": "868cae9d-d55c-440c-c362-e25ae3ca786e"
   },
   "outputs": [
    {
     "data": {
      "text/plain": [
       "[Text(0,0,''),\n",
       " Text(0,0,''),\n",
       " Text(0,0,'2011-05-10'),\n",
       " Text(0,0,'2011-09-17'),\n",
       " Text(0,0,'2012-02-06'),\n",
       " Text(0,0,'2012-06-13'),\n",
       " Text(0,0,'2012-11-02'),\n",
       " Text(0,0,'')]"
      ]
     },
     "execution_count": 12,
     "metadata": {},
     "output_type": "execute_result"
    },
    {
     "data": {
      "image/png": "[encoded data removed]",
      "text/plain": [
       "<matplotlib.figure.Figure at 0x1d49bcba358>"
      ]
     },
     "metadata": {},
     "output_type": "display_data"
    }
   ],
   "source": [
    "df_train['date_f'] = pd.factorize(df_train['datetime'])[0] + 1\n",
    "mapping = dict(zip(df_train['date_f'], df_train['datetime'].dt.date))\n",
    "\n",
    "ax = sns.regplot('date_f', 'humidity', data=df_train)\n",
    "labels = pd.Series(ax.get_xticks()).map(mapping).fillna('')\n",
    "ax.set_xticklabels(labels)\n",
    "#sns.regplot(x=df_train['datetime'], y=df_train['humidity'])\n",
    "#plt.xticks(rotation='vertical')"
   ]
  },
  {
   "cell_type": "code",
   "execution_count": 13,
   "metadata": {
    "colab": {
     "autoexec": {
      "startup": false,
      "wait_interval": 0
     }
    },
    "colab_type": "code",
    "id": "BWWllzlz0EWs"
   },
   "outputs": [],
   "source": [
    "df_train.drop(columns=['date_f'], inplace=True)"
   ]
  },
  {
   "cell_type": "markdown",
   "metadata": {
    "colab_type": "text",
    "id": "12lEACpQ0EWu"
   },
   "source": [
    "TODO:\n",
    "> - check for missing data\n",
    "> - check for skewed variables\n",
    "> - split date into year and day\n",
    "> - create vatiable for deviation from yearly average (problematic because this is a time series)\n",
    "> - change below variables to categorical"
   ]
  },
  {
   "cell_type": "markdown",
   "metadata": {
    "colab_type": "text",
    "id": "XAEr0k5L0EWv"
   },
   "source": [
    "Make sure there are no nans:"
   ]
  },
  {
   "cell_type": "code",
   "execution_count": 14,
   "metadata": {
    "colab": {
     "autoexec": {
      "startup": false,
      "wait_interval": 0
     }
    },
    "colab_type": "code",
    "id": "kIWe4y6u0EWw",
    "outputId": "8fdacd63-4a79-4c8a-fadf-23c8f764b49d"
   },
   "outputs": [
    {
     "data": {
      "text/plain": [
       "False"
      ]
     },
     "execution_count": 14,
     "metadata": {},
     "output_type": "execute_result"
    }
   ],
   "source": [
    "df_train.isnull().values.any() and df_test.isnull().values.any()"
   ]
  },
  {
   "cell_type": "markdown",
   "metadata": {
    "colab_type": "text",
    "id": "Oo6VKRVe0EWz"
   },
   "source": [
    "check for skewed variables:"
   ]
  },
  {
   "cell_type": "code",
   "execution_count": 15,
   "metadata": {
    "colab": {
     "autoexec": {
      "startup": false,
      "wait_interval": 0
     }
    },
    "colab_type": "code",
    "id": "hcrP9aV50EWz"
   },
   "outputs": [],
   "source": [
    "def plot_hist_with_log1p(feature):\n",
    "    fig, ax =plt.subplots(1,2)\n",
    "    sns.distplot(np.log1p(df_train[feature]), kde=False, ax=ax[0])\n",
    "    sns.distplot(df_train[feature], kde=False, ax=ax[1])\n",
    "    fig.show()"
   ]
  },
  {
   "cell_type": "code",
   "execution_count": 16,
   "metadata": {
    "colab": {
     "autoexec": {
      "startup": false,
      "wait_interval": 0
     }
    },
    "colab_type": "code",
    "id": "Pi6S4sUB0EW1",
    "outputId": "6ab4e23b-36d8-4576-bd76-675105b41f6a"
   },
   "outputs": [
    {
     "name": "stderr",
     "output_type": "stream",
     "text": [
      "C:\\Anaconda3\\envs\\deeplearning\\lib\\site-packages\\matplotlib\\figure.py:418: UserWarning: matplotlib is currently using a non-GUI backend, so cannot show the figure\n",
      "  \"matplotlib is currently using a non-GUI backend, \"\n"
     ]
    },
    {
     "data": {
      "image/png": "[encoded data removed]",
      "text/plain": [
       "<matplotlib.figure.Figure at 0x1d49bcbab38>"
      ]
     },
     "metadata": {},
     "output_type": "display_data"
    }
   ],
   "source": [
    "plot_hist_with_log1p('count')"
   ]
  },
  {
   "cell_type": "code",
   "execution_count": 17,
   "metadata": {
    "colab": {
     "autoexec": {
      "startup": false,
      "wait_interval": 0
     }
    },
    "colab_type": "code",
    "id": "ds41O6ev0EW5",
    "outputId": "c9df7bac-572a-4955-fc36-eaaa159738dd"
   },
   "outputs": [
    {
     "name": "stderr",
     "output_type": "stream",
     "text": [
      "C:\\Anaconda3\\envs\\deeplearning\\lib\\site-packages\\matplotlib\\figure.py:418: UserWarning: matplotlib is currently using a non-GUI backend, so cannot show the figure\n",
      "  \"matplotlib is currently using a non-GUI backend, \"\n"
     ]
    },
    {
     "data": {
      "image/png": "[encoded data removed]",
      "text/plain": [
       "<matplotlib.figure.Figure at 0x1d49bda4160>"
      ]
     },
     "metadata": {},
     "output_type": "display_data"
    }
   ],
   "source": [
    "plot_hist_with_log1p('casual')"
   ]
  },
  {
   "cell_type": "code",
   "execution_count": 18,
   "metadata": {
    "colab": {
     "autoexec": {
      "startup": false,
      "wait_interval": 0
     }
    },
    "colab_type": "code",
    "id": "tzTmJ7240EW8",
    "outputId": "69f41a33-e6d6-4590-c33a-4b0ca5cf4c46"
   },
   "outputs": [
    {
     "name": "stderr",
     "output_type": "stream",
     "text": [
      "C:\\Anaconda3\\envs\\deeplearning\\lib\\site-packages\\matplotlib\\figure.py:418: UserWarning: matplotlib is currently using a non-GUI backend, so cannot show the figure\n",
      "  \"matplotlib is currently using a non-GUI backend, \"\n"
     ]
    },
    {
     "data": {
      "image/png": "[encoded data removed]",
      "text/plain": [
       "<matplotlib.figure.Figure at 0x1d49beb2fd0>"
      ]
     },
     "metadata": {},
     "output_type": "display_data"
    }
   ],
   "source": [
    "plot_hist_with_log1p('registered')"
   ]
  },
  {
   "cell_type": "markdown",
   "metadata": {
    "colab_type": "text",
    "id": "C_s4rLV20EW-"
   },
   "source": [
    "possible categorical variables:\n",
    "> - season\n",
    "> - datetime - separate the year and month\n",
    "> - weather"
   ]
  },
  {
   "cell_type": "markdown",
   "metadata": {
    "colab_type": "text",
    "id": "beEkLbJr0EW_"
   },
   "source": [
    "## Feature Engineering"
   ]
  },
  {
   "cell_type": "markdown",
   "metadata": {
    "colab_type": "text",
    "id": "qOyh6_iU0EXA"
   },
   "source": [
    "Two main things we will do here:\n",
    "1. split datetime\n",
    "2. get rid of casual and registered in  train set"
   ]
  },
  {
   "cell_type": "code",
   "execution_count": 19,
   "metadata": {
    "colab": {
     "autoexec": {
      "startup": false,
      "wait_interval": 0
     }
    },
    "colab_type": "code",
    "id": "WE0-lvHZ0EXA"
   },
   "outputs": [],
   "source": [
    "def split_datetime(df):\n",
    "    df['year'] = df['datetime'].map(lambda x: x.year)\n",
    "    df['month'] = df['datetime'].map(lambda x: x.month)\n",
    "    # df['day'] = df['datetime'].map(lambda x: x.day)\n",
    "    df['hour'] = df['datetime'].map(lambda x: x.hour)\n",
    "    df['weekday'] = df['datetime'].map(lambda x: x.weekday())\n",
    "    return df"
   ]
  },
  {
   "cell_type": "code",
   "execution_count": 20,
   "metadata": {
    "colab": {
     "autoexec": {
      "startup": false,
      "wait_interval": 0
     }
    },
    "colab_type": "code",
    "id": "EF-GTTj10EXC"
   },
   "outputs": [],
   "source": [
    "df_train = split_datetime(df_train)\n",
    "df_train.drop(columns=['datetime', 'casual', 'registered'], inplace=True)"
   ]
  },
  {
   "cell_type": "code",
   "execution_count": 21,
   "metadata": {
    "colab": {
     "autoexec": {
      "startup": false,
      "wait_interval": 0
     }
    },
    "colab_type": "code",
    "id": "P9lUvYyx0EXE",
    "outputId": "5a01255e-2382-4d7d-da06-90abefb839b2"
   },
   "outputs": [
    {
     "name": "stdout",
     "output_type": "stream",
     "text": [
      "<class 'pandas.core.frame.DataFrame'>\n",
      "Int64Index: 10886 entries, 0 to 10885\n",
      "Data columns (total 13 columns):\n",
      "season        10886 non-null int64\n",
      "holiday       10886 non-null int64\n",
      "workingday    10886 non-null int64\n",
      "weather       10886 non-null int64\n",
      "temp          10886 non-null float64\n",
      "atemp         10886 non-null float64\n",
      "humidity      10886 non-null int64\n",
      "windspeed     10886 non-null float64\n",
      "count         10886 non-null int64\n",
      "year          10886 non-null int64\n",
      "month         10886 non-null int64\n",
      "hour          10886 non-null int64\n",
      "weekday       10886 non-null int64\n",
      "dtypes: float64(3), int64(10)\n",
      "memory usage: 1.2 MB\n"
     ]
    }
   ],
   "source": [
    "df_train.info()"
   ]
  },
  {
   "cell_type": "code",
   "execution_count": 22,
   "metadata": {
    "colab": {
     "autoexec": {
      "startup": false,
      "wait_interval": 0
     }
    },
    "colab_type": "code",
    "id": "KRYwv3fn0EXI",
    "outputId": "1d56d4ca-a2b0-43f5-8420-47f7fef14fa1"
   },
   "outputs": [
    {
     "data": {
      "text/html": [
       "<div>\n",
       "<style scoped>\n",
       "    .dataframe tbody tr th:only-of-type {\n",
       "        vertical-align: middle;\n",
       "    }\n",
       "\n",
       "    .dataframe tbody tr th {\n",
       "        vertical-align: top;\n",
       "    }\n",
       "\n",
       "    .dataframe thead th {\n",
       "        text-align: right;\n",
       "    }\n",
       "</style>\n",
       "<table border=\"1\" class=\"dataframe\">\n",
       "  <thead>\n",
       "    <tr style=\"text-align: right;\">\n",
       "      <th></th>\n",
       "      <th>season</th>\n",
       "      <th>holiday</th>\n",
       "      <th>workingday</th>\n",
       "      <th>weather</th>\n",
       "      <th>temp</th>\n",
       "      <th>atemp</th>\n",
       "      <th>humidity</th>\n",
       "      <th>windspeed</th>\n",
       "      <th>count</th>\n",
       "      <th>year</th>\n",
       "      <th>month</th>\n",
       "      <th>hour</th>\n",
       "      <th>weekday</th>\n",
       "    </tr>\n",
       "  </thead>\n",
       "  <tbody>\n",
       "    <tr>\n",
       "      <th>0</th>\n",
       "      <td>1</td>\n",
       "      <td>0</td>\n",
       "      <td>0</td>\n",
       "      <td>1</td>\n",
       "      <td>9.84</td>\n",
       "      <td>14.395</td>\n",
       "      <td>81</td>\n",
       "      <td>0.0</td>\n",
       "      <td>16</td>\n",
       "      <td>2011</td>\n",
       "      <td>1</td>\n",
       "      <td>0</td>\n",
       "      <td>5</td>\n",
       "    </tr>\n",
       "    <tr>\n",
       "      <th>1</th>\n",
       "      <td>1</td>\n",
       "      <td>0</td>\n",
       "      <td>0</td>\n",
       "      <td>1</td>\n",
       "      <td>9.02</td>\n",
       "      <td>13.635</td>\n",
       "      <td>80</td>\n",
       "      <td>0.0</td>\n",
       "      <td>40</td>\n",
       "      <td>2011</td>\n",
       "      <td>1</td>\n",
       "      <td>1</td>\n",
       "      <td>5</td>\n",
       "    </tr>\n",
       "    <tr>\n",
       "      <th>2</th>\n",
       "      <td>1</td>\n",
       "      <td>0</td>\n",
       "      <td>0</td>\n",
       "      <td>1</td>\n",
       "      <td>9.02</td>\n",
       "      <td>13.635</td>\n",
       "      <td>80</td>\n",
       "      <td>0.0</td>\n",
       "      <td>32</td>\n",
       "      <td>2011</td>\n",
       "      <td>1</td>\n",
       "      <td>2</td>\n",
       "      <td>5</td>\n",
       "    </tr>\n",
       "    <tr>\n",
       "      <th>3</th>\n",
       "      <td>1</td>\n",
       "      <td>0</td>\n",
       "      <td>0</td>\n",
       "      <td>1</td>\n",
       "      <td>9.84</td>\n",
       "      <td>14.395</td>\n",
       "      <td>75</td>\n",
       "      <td>0.0</td>\n",
       "      <td>13</td>\n",
       "      <td>2011</td>\n",
       "      <td>1</td>\n",
       "      <td>3</td>\n",
       "      <td>5</td>\n",
       "    </tr>\n",
       "    <tr>\n",
       "      <th>4</th>\n",
       "      <td>1</td>\n",
       "      <td>0</td>\n",
       "      <td>0</td>\n",
       "      <td>1</td>\n",
       "      <td>9.84</td>\n",
       "      <td>14.395</td>\n",
       "      <td>75</td>\n",
       "      <td>0.0</td>\n",
       "      <td>1</td>\n",
       "      <td>2011</td>\n",
       "      <td>1</td>\n",
       "      <td>4</td>\n",
       "      <td>5</td>\n",
       "    </tr>\n",
       "  </tbody>\n",
       "</table>\n",
       "</div>"
      ],
      "text/plain": [
       "   season  holiday  workingday  weather  temp   atemp  humidity  windspeed  \\\n",
       "0       1        0           0        1  9.84  14.395        81        0.0   \n",
       "1       1        0           0        1  9.02  13.635        80        0.0   \n",
       "2       1        0           0        1  9.02  13.635        80        0.0   \n",
       "3       1        0           0        1  9.84  14.395        75        0.0   \n",
       "4       1        0           0        1  9.84  14.395        75        0.0   \n",
       "\n",
       "   count  year  month  hour  weekday  \n",
       "0     16  2011      1     0        5  \n",
       "1     40  2011      1     1        5  \n",
       "2     32  2011      1     2        5  \n",
       "3     13  2011      1     3        5  \n",
       "4      1  2011      1     4        5  "
      ]
     },
     "execution_count": 22,
     "metadata": {},
     "output_type": "execute_result"
    }
   ],
   "source": [
    "df_train.head()"
   ]
  },
  {
   "cell_type": "markdown",
   "metadata": {
    "colab_type": "text",
    "id": "4-dlneD30EXf"
   },
   "source": [
    "Boxplots for days of the week vs count:"
   ]
  },
  {
   "cell_type": "code",
   "execution_count": 23,
   "metadata": {
    "colab": {
     "autoexec": {
      "startup": false,
      "wait_interval": 0
     }
    },
    "colab_type": "code",
    "id": "K6I9Hri90EXL",
    "outputId": "1ee80b7e-ac31-46bf-c332-b9136de0965e"
   },
   "outputs": [
    {
     "data": {
      "text/plain": [
       "<matplotlib.axes._subplots.AxesSubplot at 0x1d49c4849e8>"
      ]
     },
     "execution_count": 23,
     "metadata": {},
     "output_type": "execute_result"
    },
    {
     "data": {
      "image/png": "[encoded data removed]",
      "text/plain": [
       "<matplotlib.figure.Figure at 0x1d49c368240>"
      ]
     },
     "metadata": {},
     "output_type": "display_data"
    }
   ],
   "source": [
    "sns.boxplot(x=df_train['weekday'], y=df_train['count'])"
   ]
  },
  {
   "cell_type": "code",
   "execution_count": 24,
   "metadata": {
    "colab": {
     "autoexec": {
      "startup": false,
      "wait_interval": 0
     }
    },
    "colab_type": "code",
    "id": "ACgNgWrR0EXP",
    "outputId": "be305036-f827-43fd-8e2e-112d1dda0ec6"
   },
   "outputs": [
    {
     "data": {
      "text/plain": [
       "<matplotlib.axes._subplots.AxesSubplot at 0x1d49c4c3320>"
      ]
     },
     "execution_count": 24,
     "metadata": {},
     "output_type": "execute_result"
    },
    {
     "data": {
      "image/png": "[encoded data removed]",
      "text/plain": [
       "<matplotlib.figure.Figure at 0x1d49c37d0b8>"
      ]
     },
     "metadata": {},
     "output_type": "display_data"
    }
   ],
   "source": [
    "ax = sns.regplot('hour', 'count', data=df_train)\n",
    "ax"
   ]
  },
  {
   "cell_type": "code",
   "execution_count": 25,
   "metadata": {
    "colab": {
     "autoexec": {
      "startup": false,
      "wait_interval": 0
     }
    },
    "colab_type": "code",
    "id": "z3OVDTF00EXT",
    "outputId": "f056b616-aa7e-4b1e-bcab-17b6e97a2180"
   },
   "outputs": [
    {
     "data": {
      "text/plain": [
       "<matplotlib.axes._subplots.AxesSubplot at 0x1d49c37d240>"
      ]
     },
     "execution_count": 25,
     "metadata": {},
     "output_type": "execute_result"
    },
    {
     "data": {
      "image/png": "[encoded data removed]",
      "text/plain": [
       "<matplotlib.figure.Figure at 0x1d49c474d30>"
      ]
     },
     "metadata": {},
     "output_type": "display_data"
    }
   ],
   "source": [
    "sns.boxplot(x=df_train[df_train.year != 2011]['hour'], y=df_train['count'])"
   ]
  },
  {
   "cell_type": "code",
   "execution_count": 26,
   "metadata": {
    "colab": {
     "autoexec": {
      "startup": false,
      "wait_interval": 0
     }
    },
    "colab_type": "code",
    "id": "EJS1x3eL0EXX",
    "outputId": "e246ae76-104f-4cb9-8b44-19f07f6bdab6"
   },
   "outputs": [
    {
     "data": {
      "text/plain": [
       "<matplotlib.axes._subplots.AxesSubplot at 0x1d49c5bbda0>"
      ]
     },
     "execution_count": 26,
     "metadata": {},
     "output_type": "execute_result"
    },
    {
     "data": {
      "image/png": "[encoded data removed]",
      "text/plain": [
       "<matplotlib.figure.Figure at 0x1d49c4c9320>"
      ]
     },
     "metadata": {},
     "output_type": "display_data"
    }
   ],
   "source": [
    "sns.boxplot(x=df_train[df_train.year != 2012]['hour'], y=df_train['count'])"
   ]
  },
  {
   "cell_type": "markdown",
   "metadata": {
    "colab_type": "text",
    "id": "TLvykNqb0EXZ"
   },
   "source": [
    "We can see here that count follows a clear pattern:<br>\n",
    "Down during night, up during rush hours, and medium during the day"
   ]
  },
  {
   "cell_type": "code",
   "execution_count": 27,
   "metadata": {
    "colab": {
     "autoexec": {
      "startup": false,
      "wait_interval": 0
     }
    },
    "colab_type": "code",
    "id": "hd4z0wIA0EXa",
    "outputId": "5815b8b7-5256-441c-fc26-52d612a01b93"
   },
   "outputs": [
    {
     "data": {
      "text/plain": [
       "array([0, 1], dtype=int64)"
      ]
     },
     "execution_count": 27,
     "metadata": {},
     "output_type": "execute_result"
    }
   ],
   "source": [
    "df_train.workingday.unique()"
   ]
  },
  {
   "cell_type": "code",
   "execution_count": 28,
   "metadata": {
    "colab": {
     "autoexec": {
      "startup": false,
      "wait_interval": 0
     }
    },
    "colab_type": "code",
    "id": "fqOEXwxu0EXc",
    "outputId": "b4764905-055e-4201-8150-63227a0704eb"
   },
   "outputs": [
    {
     "data": {
      "text/plain": [
       "array([2011, 2012], dtype=int64)"
      ]
     },
     "execution_count": 28,
     "metadata": {},
     "output_type": "execute_result"
    }
   ],
   "source": [
    "df_train.year.unique()"
   ]
  },
  {
   "cell_type": "code",
   "execution_count": 29,
   "metadata": {
    "colab": {
     "autoexec": {
      "startup": false,
      "wait_interval": 0
     }
    },
    "colab_type": "code",
    "id": "3g7l5fTS0EXf"
   },
   "outputs": [],
   "source": [
    "df_test = split_datetime(df_test)\n",
    "test_datetime = df_test['datetime']\n",
    "df_test.drop(columns=['datetime'], inplace=True)"
   ]
  },
  {
   "cell_type": "code",
   "execution_count": 30,
   "metadata": {
    "colab": {
     "autoexec": {
      "startup": false,
      "wait_interval": 0
     }
    },
    "colab_type": "code",
    "id": "gN1K8t1d0EXi",
    "outputId": "4f526e31-fa73-41b6-d011-2d46fccff43c"
   },
   "outputs": [
    {
     "name": "stdout",
     "output_type": "stream",
     "text": [
      "<class 'pandas.core.frame.DataFrame'>\n",
      "RangeIndex: 6493 entries, 0 to 6492\n",
      "Data columns (total 12 columns):\n",
      "season        6493 non-null int64\n",
      "holiday       6493 non-null int64\n",
      "workingday    6493 non-null int64\n",
      "weather       6493 non-null int64\n",
      "temp          6493 non-null float64\n",
      "atemp         6493 non-null float64\n",
      "humidity      6493 non-null int64\n",
      "windspeed     6493 non-null float64\n",
      "year          6493 non-null int64\n",
      "month         6493 non-null int64\n",
      "hour          6493 non-null int64\n",
      "weekday       6493 non-null int64\n",
      "dtypes: float64(3), int64(9)\n",
      "memory usage: 608.8 KB\n"
     ]
    }
   ],
   "source": [
    "df_test.info()"
   ]
  },
  {
   "cell_type": "code",
   "execution_count": 31,
   "metadata": {
    "colab": {
     "autoexec": {
      "startup": false,
      "wait_interval": 0
     }
    },
    "colab_type": "code",
    "id": "SGu7TBSF0EXk",
    "outputId": "1fab4b4a-4c74-48ef-96bb-88a86b4b2d53"
   },
   "outputs": [
    {
     "data": {
      "text/html": [
       "<div>\n",
       "<style scoped>\n",
       "    .dataframe tbody tr th:only-of-type {\n",
       "        vertical-align: middle;\n",
       "    }\n",
       "\n",
       "    .dataframe tbody tr th {\n",
       "        vertical-align: top;\n",
       "    }\n",
       "\n",
       "    .dataframe thead th {\n",
       "        text-align: right;\n",
       "    }\n",
       "</style>\n",
       "<table border=\"1\" class=\"dataframe\">\n",
       "  <thead>\n",
       "    <tr style=\"text-align: right;\">\n",
       "      <th></th>\n",
       "      <th>season</th>\n",
       "      <th>holiday</th>\n",
       "      <th>workingday</th>\n",
       "      <th>weather</th>\n",
       "      <th>temp</th>\n",
       "      <th>atemp</th>\n",
       "      <th>humidity</th>\n",
       "      <th>windspeed</th>\n",
       "      <th>year</th>\n",
       "      <th>month</th>\n",
       "      <th>hour</th>\n",
       "      <th>weekday</th>\n",
       "    </tr>\n",
       "  </thead>\n",
       "  <tbody>\n",
       "    <tr>\n",
       "      <th>0</th>\n",
       "      <td>1</td>\n",
       "      <td>0</td>\n",
       "      <td>1</td>\n",
       "      <td>1</td>\n",
       "      <td>10.66</td>\n",
       "      <td>11.365</td>\n",
       "      <td>56</td>\n",
       "      <td>26.0027</td>\n",
       "      <td>2011</td>\n",
       "      <td>1</td>\n",
       "      <td>0</td>\n",
       "      <td>3</td>\n",
       "    </tr>\n",
       "    <tr>\n",
       "      <th>1</th>\n",
       "      <td>1</td>\n",
       "      <td>0</td>\n",
       "      <td>1</td>\n",
       "      <td>1</td>\n",
       "      <td>10.66</td>\n",
       "      <td>13.635</td>\n",
       "      <td>56</td>\n",
       "      <td>0.0000</td>\n",
       "      <td>2011</td>\n",
       "      <td>1</td>\n",
       "      <td>1</td>\n",
       "      <td>3</td>\n",
       "    </tr>\n",
       "    <tr>\n",
       "      <th>2</th>\n",
       "      <td>1</td>\n",
       "      <td>0</td>\n",
       "      <td>1</td>\n",
       "      <td>1</td>\n",
       "      <td>10.66</td>\n",
       "      <td>13.635</td>\n",
       "      <td>56</td>\n",
       "      <td>0.0000</td>\n",
       "      <td>2011</td>\n",
       "      <td>1</td>\n",
       "      <td>2</td>\n",
       "      <td>3</td>\n",
       "    </tr>\n",
       "    <tr>\n",
       "      <th>3</th>\n",
       "      <td>1</td>\n",
       "      <td>0</td>\n",
       "      <td>1</td>\n",
       "      <td>1</td>\n",
       "      <td>10.66</td>\n",
       "      <td>12.880</td>\n",
       "      <td>56</td>\n",
       "      <td>11.0014</td>\n",
       "      <td>2011</td>\n",
       "      <td>1</td>\n",
       "      <td>3</td>\n",
       "      <td>3</td>\n",
       "    </tr>\n",
       "    <tr>\n",
       "      <th>4</th>\n",
       "      <td>1</td>\n",
       "      <td>0</td>\n",
       "      <td>1</td>\n",
       "      <td>1</td>\n",
       "      <td>10.66</td>\n",
       "      <td>12.880</td>\n",
       "      <td>56</td>\n",
       "      <td>11.0014</td>\n",
       "      <td>2011</td>\n",
       "      <td>1</td>\n",
       "      <td>4</td>\n",
       "      <td>3</td>\n",
       "    </tr>\n",
       "  </tbody>\n",
       "</table>\n",
       "</div>"
      ],
      "text/plain": [
       "   season  holiday  workingday  weather   temp   atemp  humidity  windspeed  \\\n",
       "0       1        0           1        1  10.66  11.365        56    26.0027   \n",
       "1       1        0           1        1  10.66  13.635        56     0.0000   \n",
       "2       1        0           1        1  10.66  13.635        56     0.0000   \n",
       "3       1        0           1        1  10.66  12.880        56    11.0014   \n",
       "4       1        0           1        1  10.66  12.880        56    11.0014   \n",
       "\n",
       "   year  month  hour  weekday  \n",
       "0  2011      1     0        3  \n",
       "1  2011      1     1        3  \n",
       "2  2011      1     2        3  \n",
       "3  2011      1     3        3  \n",
       "4  2011      1     4        3  "
      ]
     },
     "execution_count": 31,
     "metadata": {},
     "output_type": "execute_result"
    }
   ],
   "source": [
    "df_test.head()"
   ]
  },
  {
   "cell_type": "markdown",
   "metadata": {
    "colab_type": "text",
    "id": "vCTtzAtB0EXp"
   },
   "source": [
    "We need to optimize for RMSLE according to the evaluation.<br>\n",
    "For this we will log shift count.<br>\n",
    "We need to remember later to take the exponent after predicting."
   ]
  },
  {
   "cell_type": "code",
   "execution_count": 32,
   "metadata": {
    "colab": {
     "autoexec": {
      "startup": false,
      "wait_interval": 0
     }
    },
    "colab_type": "code",
    "id": "Z3tg_aNT0EXp"
   },
   "outputs": [],
   "source": [
    "df_train['count'] = np.log1p(df_train['count'])"
   ]
  },
  {
   "cell_type": "code",
   "execution_count": 33,
   "metadata": {
    "colab": {
     "autoexec": {
      "startup": false,
      "wait_interval": 0
     }
    },
    "colab_type": "code",
    "id": "l-7hYKn90EXu",
    "outputId": "908210bb-0a5e-4fb5-b145-a199c492335a"
   },
   "outputs": [
    {
     "data": {
      "text/plain": [
       "0    2.833213\n",
       "1    3.713572\n",
       "2    3.496508\n",
       "3    2.639057\n",
       "4    0.693147\n",
       "Name: count, dtype: float64"
      ]
     },
     "execution_count": 33,
     "metadata": {},
     "output_type": "execute_result"
    }
   ],
   "source": [
    "df_train['count'].head()"
   ]
  },
  {
   "cell_type": "markdown",
   "metadata": {
    "colab_type": "text",
    "id": "0wRDxVas0EXy"
   },
   "source": [
    "I am not sure yet I want to change to categorical."
   ]
  },
  {
   "cell_type": "code",
   "execution_count": 34,
   "metadata": {
    "colab": {
     "autoexec": {
      "startup": false,
      "wait_interval": 0
     }
    },
    "colab_type": "code",
    "id": "AVDFZZCM0EXz"
   },
   "outputs": [],
   "source": [
    "def define_categorical(df):\n",
    "    \"\"\"\n",
    "    here I will defind the following to be categorical: season, year, month, weather\n",
    "    note however that we might want instead\n",
    "    \"\"\"\n",
    "    pass"
   ]
  },
  {
   "cell_type": "markdown",
   "metadata": {
    "colab_type": "text",
    "id": "54W6EalB0EX1"
   },
   "source": [
    "## Modeling"
   ]
  },
  {
   "cell_type": "markdown",
   "metadata": {
    "colab_type": "text",
    "id": "sXJa06A20EX1"
   },
   "source": [
    "We need a model that fulfils a number of requirnments:\n",
    "> - data is approximately linear (but not exactly linear)\n",
    "> - dataset is small\n",
    "> - model seasonality"
   ]
  },
  {
   "cell_type": "code",
   "execution_count": 35,
   "metadata": {
    "colab": {
     "autoexec": {
      "startup": false,
      "wait_interval": 0
     }
    },
    "colab_type": "code",
    "id": "Qzx6S60S0EX5",
    "outputId": "ce235418-789b-4835-d33c-bbb94970c8af"
   },
   "outputs": [
    {
     "name": "stderr",
     "output_type": "stream",
     "text": [
      "C:\\Anaconda3\\envs\\deeplearning\\lib\\site-packages\\sklearn\\cross_validation.py:41: DeprecationWarning: This module was deprecated in version 0.18 in favor of the model_selection module into which all the refactored classes and functions are moved. Also note that the interface of the new CV iterators are different from that of this module. This module will be removed in 0.20.\n",
      "  \"This module will be removed in 0.20.\", DeprecationWarning)\n"
     ]
    }
   ],
   "source": [
    "from xgboost import XGBRegressor\n",
    "from sklearn.model_selection import train_test_split\n",
    "from sklearn.metrics import accuracy_score\n",
    "from sklearn.model_selection import cross_val_score\n",
    "from sklearn.metrics import mean_squared_error"
   ]
  },
  {
   "cell_type": "code",
   "execution_count": 36,
   "metadata": {
    "colab": {
     "autoexec": {
      "startup": false,
      "wait_interval": 0
     }
    },
    "colab_type": "code",
    "id": "9S7gItFM0EX7",
    "outputId": "153a9b99-a5ef-41e9-835f-1145221cc44a"
   },
   "outputs": [
    {
     "name": "stdout",
     "output_type": "stream",
     "text": [
      "<class 'pandas.core.frame.DataFrame'>\n",
      "Int64Index: 10886 entries, 0 to 10885\n",
      "Data columns (total 12 columns):\n",
      "season        10886 non-null int64\n",
      "holiday       10886 non-null int64\n",
      "workingday    10886 non-null int64\n",
      "weather       10886 non-null int64\n",
      "temp          10886 non-null float64\n",
      "atemp         10886 non-null float64\n",
      "humidity      10886 non-null int64\n",
      "windspeed     10886 non-null float64\n",
      "year          10886 non-null int64\n",
      "month         10886 non-null int64\n",
      "hour          10886 non-null int64\n",
      "weekday       10886 non-null int64\n",
      "dtypes: float64(3), int64(9)\n",
      "memory usage: 1.4 MB\n"
     ]
    }
   ],
   "source": [
    "X = df_train.drop(columns=['count'])\n",
    "y = df_train['count']\n",
    "X.info()"
   ]
  },
  {
   "cell_type": "code",
   "execution_count": 37,
   "metadata": {
    "colab": {
     "autoexec": {
      "startup": false,
      "wait_interval": 0
     }
    },
    "colab_type": "code",
    "id": "jTFtyVe00EX-",
    "outputId": "fd1c8319-4261-4c0c-9d48-5e50377381d4"
   },
   "outputs": [
    {
     "data": {
      "text/plain": [
       "0    2.833213\n",
       "1    3.713572\n",
       "2    3.496508\n",
       "3    2.639057\n",
       "4    0.693147\n",
       "Name: count, dtype: float64"
      ]
     },
     "execution_count": 37,
     "metadata": {},
     "output_type": "execute_result"
    }
   ],
   "source": [
    "y.head()"
   ]
  },
  {
   "cell_type": "markdown",
   "metadata": {
    "colab_type": "text",
    "id": "A6tSKW9V0EYC"
   },
   "source": [
    "We will select 25% to be the validation set.\n",
    "We will select samples randomly so that we will get samples from various days in 2011 and 2012"
   ]
  },
  {
   "cell_type": "code",
   "execution_count": 38,
   "metadata": {
    "colab": {
     "autoexec": {
      "startup": false,
      "wait_interval": 0
     }
    },
    "colab_type": "code",
    "id": "hE4HopSF0EYC"
   },
   "outputs": [],
   "source": [
    "X_train, X_val, y_train, y_val = train_test_split(X, y, train_size=0.75, test_size=0.25)"
   ]
  },
  {
   "cell_type": "code",
   "execution_count": 39,
   "metadata": {
    "colab": {
     "autoexec": {
      "startup": false,
      "wait_interval": 0
     }
    },
    "colab_type": "code",
    "id": "i47vt8uq0EYG",
    "outputId": "00790940-1f30-473b-bb6d-fcdebbf378a5"
   },
   "outputs": [
    {
     "data": {
      "text/plain": [
       "count    8164.000000\n",
       "mean        4.578799\n",
       "std         1.419760\n",
       "min         0.693147\n",
       "25%         3.737670\n",
       "50%         4.969813\n",
       "75%         5.641907\n",
       "max         6.885510\n",
       "Name: count, dtype: float64"
      ]
     },
     "execution_count": 39,
     "metadata": {},
     "output_type": "execute_result"
    }
   ],
   "source": [
    "y_train.describe()"
   ]
  },
  {
   "cell_type": "code",
   "execution_count": 40,
   "metadata": {
    "colab": {
     "autoexec": {
      "startup": false,
      "wait_interval": 0
     }
    },
    "colab_type": "code",
    "id": "kGiyn6Jd0EYK",
    "outputId": "2c2af790-0fbd-4b44-df07-eac5e5973911"
   },
   "outputs": [
    {
     "data": {
      "text/plain": [
       "(8164, 12)"
      ]
     },
     "execution_count": 40,
     "metadata": {},
     "output_type": "execute_result"
    }
   ],
   "source": [
    "X_train.shape"
   ]
  },
  {
   "cell_type": "code",
   "execution_count": 41,
   "metadata": {
    "colab": {
     "autoexec": {
      "startup": false,
      "wait_interval": 0
     }
    },
    "colab_type": "code",
    "id": "bDVn7KCN0EYM",
    "outputId": "eb56f75f-30db-4947-9c52-53c3dadfb50d"
   },
   "outputs": [
    {
     "data": {
      "text/plain": [
       "(2722, 12)"
      ]
     },
     "execution_count": 41,
     "metadata": {},
     "output_type": "execute_result"
    }
   ],
   "source": [
    "X_val.shape"
   ]
  },
  {
   "cell_type": "markdown",
   "metadata": {
    "colab_type": "text",
    "id": "EMuIMOR30EYS"
   },
   "source": [
    "Things to try:\n",
    "* running TPOT a number of times\n",
    "* running TPOT with different generations and population sizes\n",
    "* think of ways to capture seasonality (count over the different seasons, count over hours) + trend (increase in count over the years)\n",
    "    - training the model first on 2011 untill overfitting, then on 2011 + 2012: **NOT A GOOD IDEA ON TREE BASED MODELS!**"
   ]
  },
  {
   "cell_type": "markdown",
   "metadata": {
    "colab_type": "text",
    "id": "vYc-LIvn0EYT"
   },
   "source": [
    "**TPOT** is an automated pipeline generator based on genetic algorithms.\n",
    "<br><br>\n",
    "It searches through multiple tree based models and parameters along with some feature selection methods and outputs the best pipeline that it found.\n",
    "I will use this library for fast iteration over hyperparameters."
   ]
  },
  {
   "cell_type": "code",
   "execution_count": 0,
   "metadata": {
    "colab": {
     "autoexec": {
      "startup": false,
      "wait_interval": 0
     }
    },
    "colab_type": "code",
    "id": "mEGmf_iL0EYU"
   },
   "outputs": [],
   "source": [
    "from tpot import TPOTRegressor\n",
    "from sklearn.datasets import load_boston\n",
    "from sklearn.model_selection import train_test_split\n",
    "\n",
    "tpot = TPOTRegressor(generations=9, population_size=30, verbosity=2)\n",
    "tpot.fit(X_train, y_train)\n",
    "print(tpot.score(X_val, y_val))\n",
    "tpot.export('tpot_boston_pipeline_4_9gen_30pop.py')"
   ]
  },
  {
   "cell_type": "markdown",
   "metadata": {
    "colab_type": "text",
    "id": "UQr1yPEp0EYW"
   },
   "source": [
    "Below I will list outputs of different TPOT runs: (note that the pipelines are saved in python files)\n",
    "\n",
    "**tpot = TPOTRegressor(generations=5, population_size=20, verbosity=2)**\n",
    "\n",
    "1. Best pipeline: XGBRegressor(SelectPercentile(input_matrix, percentile=87), learning_rate=0.1, max_depth=8, min_child_weight=3, n_estimators=100, nthread=1, subsample=0.65)    -0.000150797646945\n",
    "\n",
    "2. Best pipeline: ExtraTreesRegressor(RandomForestRegressor(input_matrix, bootstrap=True, max_features=0.8, min_samples_leaf=1, min_samples_split=2, n_estimators=100), bootstrap=False, max_features=0.8, min_samples_leaf=6, min_samples_split=5, n_estimators=100)\n",
    "-0.000151615129883\n",
    "\n",
    "3. Best pipeline: RandomForestRegressor(input_matrix, bootstrap=False, max_features=0.85, min_samples_leaf=1, min_samples_split=13, n_estimators=100)\n",
    "-0.000259734443071\n",
    "\n",
    "4. Best pipeline: ExtraTreesRegressor(PolynomialFeatures(input_matrix, degree=2, include_bias=False, interaction_only=False), bootstrap=True, max_features=0.75, min_samples_leaf=3, min_samples_split=7, n_estimators=100)\n",
    "-0.000223451917089\n",
    "\n",
    "**tpot = TPOTRegressor(generations=7, population_size=20, verbosity=2)**\n",
    "\n",
    "1. Best pipeline: XGBRegressor(ZeroCount(input_matrix), learning_rate=0.1, max_depth=8, min_child_weight=16, n_estimators=100, nthread=1, subsample=1.0)\n",
    "-0.000229089893118\n",
    "\n",
    "2. Best pipeline: XGBRegressor(input_matrix, learning_rate=0.1, max_depth=9, min_child_weight=1, n_estimators=100, nthread=1, subsample=0.1)\n",
    "-0.000567397464753\n",
    "\n",
    "3. Best pipeline: RandomForestRegressor(input_matrix, bootstrap=True, max_features=0.95, min_samples_leaf=1, min_samples_split=11, n_estimators=100)\n",
    "-0.000172377228275\n",
    "\n",
    "4. Best pipeline: GradientBoostingRegressor(input_matrix, alpha=0.75, learning_rate=0.1, loss=ls, max_depth=10, max_features=0.8, min_samples_leaf=8, min_samples_split=13, n_estimators=100, subsample=0.85)\n",
    "-0.000130923469254\n",
    "\n",
    "**tpot = TPOTRegressor(generations=9, population_size=30, verbosity=2)**\n",
    "\n",
    "1. Best pipeline: XGBRegressor(CombineDFs(MaxAbsScaler(input_matrix), input_matrix), learning_rate=0.1, max_depth=10, min_child_weight=1, n_estimators=100, nthread=1, subsample=0.8)\n",
    "-0.000114176476891\n",
    "\n",
    "2. Best pipeline: XGBRegressor(SelectPercentile(input_matrix, percentile=23), learning_rate=0.1, max_depth=7, min_child_weight=5, n_estimators=100, nthread=1, subsample=0.95)\n",
    "-0.000145220541337\n",
    "\n",
    "3. Best pipeline: GradientBoostingRegressor(MinMaxScaler(input_matrix), alpha=0.8, learning_rate=0.1, loss=ls, max_depth=7, max_features=0.8, min_samples_leaf=4, min_samples_split=19, n_estimators=100, subsample=0.9)\n",
    "-0.000157425797636\n",
    "\n",
    "4.  Best pipeline: XGBRegressor(input_matrix, learning_rate=0.1, max_depth=10, min_child_weight=10, n_estimators=100, nthread=1, subsample=1.0)\n",
    "-0.00020283144405\n",
    "<br><br>\n",
    "Looks like destiny chose **XGBRegressor** for us...\n",
    "<br><br>\n",
    "**Lets have a look at all XGBRegressor hyperparameters:**\n",
    "<br>\n",
    "> * learning_rate=0.1, max_depth=10, min_child_weight=10, n_estimators=100, nthread=1, subsample=1.0\n",
    "> * learning_rate=0.1, max_depth=7, min_child_weight=5, n_estimators=100, nthread=1, subsample=0.95\n",
    "> * learning_rate=0.1, max_depth=10, min_child_weight=1, n_estimators=100, nthread=1, subsample=0.8\n",
    "> * learning_rate=0.1, max_depth=9, min_child_weight=1, n_estimators=100, nthread=1, subsample=0.1\n",
    "> * learning_rate=0.1, max_depth=8, min_child_weight=16, n_estimators=100, nthread=1, subsample=1.0\n",
    "> * learning_rate=0.1, max_depth=8, min_child_weight=3, n_estimators=100, nthread=1, subsample=0.65"
   ]
  },
  {
   "cell_type": "markdown",
   "metadata": {
    "colab_type": "text",
    "id": "h7ocqJ2g0EYW"
   },
   "source": [
    "Accordidng to the above hyperparameters averages (excluding outliars), we will choose:<br>\n",
    "learning_rate=0.1,max_depth=9, min_child_weight=4, n_estimators=100, nthread=1, subsample=0.88"
   ]
  },
  {
   "cell_type": "markdown",
   "metadata": {
    "colab_type": "text",
    "id": "-rlv2bXJ0EYX"
   },
   "source": [
    "We will use cosine annealing for the learning rate.<br>\n",
    "Unfortunately XGBRegressors fit function does not support it, however the learn function does.<br>\n",
    "I edited the fit function to include learning rate annealing."
   ]
  },
  {
   "cell_type": "code",
   "execution_count": 42,
   "metadata": {
    "colab": {
     "autoexec": {
      "startup": false,
      "wait_interval": 0
     }
    },
    "colab_type": "code",
    "id": "YRu3Qp-_0EYX"
   },
   "outputs": [],
   "source": [
    "def cosine_annealing(boosting_round, num_boost_round):\n",
    "    start_val = 0.1\n",
    "    end_val = 0\n",
    "    cos_out = np.cos(np.pi*(boosting_round)/num_boost_round) + 1\n",
    "    return end_val + (start_val-end_val) / 2 * cos_out"
   ]
  },
  {
   "cell_type": "code",
   "execution_count": 43,
   "metadata": {
    "colab": {
     "autoexec": {
      "startup": false,
      "wait_interval": 0
     }
    },
    "colab_type": "code",
    "id": "-LwGz6pT0EYZ"
   },
   "outputs": [],
   "source": [
    "lrn = XGBRegressor(learning_rate=0.1,max_depth=9, min_child_weight=4, n_estimators=100, nthread=1, subsample=0.88, silent=False)"
   ]
  },
  {
   "cell_type": "code",
   "execution_count": 44,
   "metadata": {
    "colab": {
     "autoexec": {
      "startup": false,
      "wait_interval": 0
     }
    },
    "colab_type": "code",
    "id": "7I-LHj8d0EYb",
    "outputId": "bbf788d6-d06b-41c4-9d08-e561a1b8c7ed"
   },
   "outputs": [
    {
     "name": "stdout",
     "output_type": "stream",
     "text": [
      "[0]\tvalidation_0-rmse:3.89532\tvalidation_1-rmse:3.94005\n",
      "[1]\tvalidation_0-rmse:3.51446\tvalidation_1-rmse:3.55577\n",
      "[2]\tvalidation_0-rmse:3.17185\tvalidation_1-rmse:3.21091\n",
      "[3]\tvalidation_0-rmse:2.86405\tvalidation_1-rmse:2.90054\n",
      "[4]\tvalidation_0-rmse:2.58769\tvalidation_1-rmse:2.62266\n",
      "[5]\tvalidation_0-rmse:2.33931\tvalidation_1-rmse:2.37195\n",
      "[6]\tvalidation_0-rmse:2.11616\tvalidation_1-rmse:2.14694\n",
      "[7]\tvalidation_0-rmse:1.9153\tvalidation_1-rmse:1.94389\n",
      "[8]\tvalidation_0-rmse:1.73587\tvalidation_1-rmse:1.76299\n",
      "[9]\tvalidation_0-rmse:1.57466\tvalidation_1-rmse:1.60093\n",
      "[10]\tvalidation_0-rmse:1.42971\tvalidation_1-rmse:1.45577\n",
      "[11]\tvalidation_0-rmse:1.29981\tvalidation_1-rmse:1.3253\n",
      "[12]\tvalidation_0-rmse:1.18276\tvalidation_1-rmse:1.20765\n",
      "[13]\tvalidation_0-rmse:1.07845\tvalidation_1-rmse:1.10311\n",
      "[14]\tvalidation_0-rmse:0.984259\tvalidation_1-rmse:1.00999\n",
      "[15]\tvalidation_0-rmse:0.900552\tvalidation_1-rmse:0.92772\n",
      "[16]\tvalidation_0-rmse:0.825369\tvalidation_1-rmse:0.853628\n",
      "[17]\tvalidation_0-rmse:0.757407\tvalidation_1-rmse:0.787061\n",
      "[18]\tvalidation_0-rmse:0.696834\tvalidation_1-rmse:0.727676\n",
      "[19]\tvalidation_0-rmse:0.642697\tvalidation_1-rmse:0.675649\n",
      "[20]\tvalidation_0-rmse:0.594683\tvalidation_1-rmse:0.629782\n",
      "[21]\tvalidation_0-rmse:0.551488\tvalidation_1-rmse:0.588612\n",
      "[22]\tvalidation_0-rmse:0.512879\tvalidation_1-rmse:0.552131\n",
      "[23]\tvalidation_0-rmse:0.477742\tvalidation_1-rmse:0.519444\n",
      "[24]\tvalidation_0-rmse:0.446543\tvalidation_1-rmse:0.490841\n",
      "[25]\tvalidation_0-rmse:0.418563\tvalidation_1-rmse:0.465108\n",
      "[26]\tvalidation_0-rmse:0.394109\tvalidation_1-rmse:0.443173\n",
      "[27]\tvalidation_0-rmse:0.371734\tvalidation_1-rmse:0.424131\n",
      "[28]\tvalidation_0-rmse:0.352013\tvalidation_1-rmse:0.407223\n",
      "[29]\tvalidation_0-rmse:0.334903\tvalidation_1-rmse:0.392998\n",
      "[30]\tvalidation_0-rmse:0.318695\tvalidation_1-rmse:0.379534\n",
      "[31]\tvalidation_0-rmse:0.30451\tvalidation_1-rmse:0.368132\n",
      "[32]\tvalidation_0-rmse:0.291625\tvalidation_1-rmse:0.357972\n",
      "[33]\tvalidation_0-rmse:0.280764\tvalidation_1-rmse:0.349686\n",
      "[34]\tvalidation_0-rmse:0.270572\tvalidation_1-rmse:0.342109\n",
      "[35]\tvalidation_0-rmse:0.261566\tvalidation_1-rmse:0.335385\n",
      "[36]\tvalidation_0-rmse:0.253528\tvalidation_1-rmse:0.329376\n",
      "[37]\tvalidation_0-rmse:0.246352\tvalidation_1-rmse:0.32425\n",
      "[38]\tvalidation_0-rmse:0.240331\tvalidation_1-rmse:0.320321\n",
      "[39]\tvalidation_0-rmse:0.234385\tvalidation_1-rmse:0.316318\n",
      "[40]\tvalidation_0-rmse:0.229184\tvalidation_1-rmse:0.313318\n",
      "[41]\tvalidation_0-rmse:0.224417\tvalidation_1-rmse:0.310163\n",
      "[42]\tvalidation_0-rmse:0.219822\tvalidation_1-rmse:0.307265\n",
      "[43]\tvalidation_0-rmse:0.216016\tvalidation_1-rmse:0.304875\n",
      "[44]\tvalidation_0-rmse:0.212547\tvalidation_1-rmse:0.302855\n",
      "[45]\tvalidation_0-rmse:0.209271\tvalidation_1-rmse:0.300971\n",
      "[46]\tvalidation_0-rmse:0.206117\tvalidation_1-rmse:0.299406\n",
      "[47]\tvalidation_0-rmse:0.203533\tvalidation_1-rmse:0.297878\n",
      "[48]\tvalidation_0-rmse:0.201184\tvalidation_1-rmse:0.296572\n",
      "[49]\tvalidation_0-rmse:0.19891\tvalidation_1-rmse:0.295496\n",
      "[50]\tvalidation_0-rmse:0.196837\tvalidation_1-rmse:0.294605\n",
      "[51]\tvalidation_0-rmse:0.195096\tvalidation_1-rmse:0.293758\n",
      "[52]\tvalidation_0-rmse:0.193392\tvalidation_1-rmse:0.292924\n",
      "[53]\tvalidation_0-rmse:0.191647\tvalidation_1-rmse:0.292222\n",
      "[54]\tvalidation_0-rmse:0.190105\tvalidation_1-rmse:0.291597\n",
      "[55]\tvalidation_0-rmse:0.188894\tvalidation_1-rmse:0.291121\n",
      "[56]\tvalidation_0-rmse:0.187495\tvalidation_1-rmse:0.290606\n",
      "[57]\tvalidation_0-rmse:0.186296\tvalidation_1-rmse:0.290188\n",
      "[58]\tvalidation_0-rmse:0.185179\tvalidation_1-rmse:0.289751\n",
      "[59]\tvalidation_0-rmse:0.184324\tvalidation_1-rmse:0.289288\n",
      "[60]\tvalidation_0-rmse:0.18351\tvalidation_1-rmse:0.289078\n",
      "[61]\tvalidation_0-rmse:0.182633\tvalidation_1-rmse:0.288832\n",
      "[62]\tvalidation_0-rmse:0.181845\tvalidation_1-rmse:0.288434\n",
      "[63]\tvalidation_0-rmse:0.181109\tvalidation_1-rmse:0.288103\n",
      "[64]\tvalidation_0-rmse:0.180422\tvalidation_1-rmse:0.287869\n",
      "[65]\tvalidation_0-rmse:0.179653\tvalidation_1-rmse:0.28764\n",
      "[66]\tvalidation_0-rmse:0.179088\tvalidation_1-rmse:0.287464\n",
      "[67]\tvalidation_0-rmse:0.178377\tvalidation_1-rmse:0.287208\n",
      "[68]\tvalidation_0-rmse:0.177766\tvalidation_1-rmse:0.287099\n",
      "[69]\tvalidation_0-rmse:0.177185\tvalidation_1-rmse:0.28692\n",
      "[70]\tvalidation_0-rmse:0.176642\tvalidation_1-rmse:0.286764\n",
      "[71]\tvalidation_0-rmse:0.176209\tvalidation_1-rmse:0.286677\n",
      "[72]\tvalidation_0-rmse:0.175782\tvalidation_1-rmse:0.286537\n",
      "[73]\tvalidation_0-rmse:0.175482\tvalidation_1-rmse:0.28642\n",
      "[74]\tvalidation_0-rmse:0.175239\tvalidation_1-rmse:0.286311\n",
      "[75]\tvalidation_0-rmse:0.174958\tvalidation_1-rmse:0.286251\n",
      "[76]\tvalidation_0-rmse:0.174647\tvalidation_1-rmse:0.286181\n",
      "[77]\tvalidation_0-rmse:0.174366\tvalidation_1-rmse:0.2861\n",
      "[78]\tvalidation_0-rmse:0.174121\tvalidation_1-rmse:0.286047\n",
      "[79]\tvalidation_0-rmse:0.173885\tvalidation_1-rmse:0.286006\n",
      "[80]\tvalidation_0-rmse:0.173679\tvalidation_1-rmse:0.285916\n",
      "[81]\tvalidation_0-rmse:0.173489\tvalidation_1-rmse:0.285879\n",
      "[82]\tvalidation_0-rmse:0.17329\tvalidation_1-rmse:0.28582\n",
      "[83]\tvalidation_0-rmse:0.173148\tvalidation_1-rmse:0.285774\n",
      "[84]\tvalidation_0-rmse:0.173032\tvalidation_1-rmse:0.285742\n",
      "[85]\tvalidation_0-rmse:0.172947\tvalidation_1-rmse:0.285713\n",
      "[86]\tvalidation_0-rmse:0.172867\tvalidation_1-rmse:0.285686\n",
      "[87]\tvalidation_0-rmse:0.172776\tvalidation_1-rmse:0.285654\n",
      "[88]\tvalidation_0-rmse:0.172718\tvalidation_1-rmse:0.28564\n",
      "[89]\tvalidation_0-rmse:0.172675\tvalidation_1-rmse:0.285631\n",
      "[90]\tvalidation_0-rmse:0.172636\tvalidation_1-rmse:0.285623\n",
      "[91]\tvalidation_0-rmse:0.172584\tvalidation_1-rmse:0.28561\n",
      "[92]\tvalidation_0-rmse:0.172549\tvalidation_1-rmse:0.285604\n",
      "[93]\tvalidation_0-rmse:0.172524\tvalidation_1-rmse:0.285598\n",
      "[94]\tvalidation_0-rmse:0.172511\tvalidation_1-rmse:0.285592\n",
      "[95]\tvalidation_0-rmse:0.1725\tvalidation_1-rmse:0.285589\n",
      "[96]\tvalidation_0-rmse:0.172492\tvalidation_1-rmse:0.285588\n",
      "[97]\tvalidation_0-rmse:0.172489\tvalidation_1-rmse:0.285588\n",
      "[98]\tvalidation_0-rmse:0.172487\tvalidation_1-rmse:0.285587\n",
      "[99]\tvalidation_0-rmse:0.172486\tvalidation_1-rmse:0.285587\n"
     ]
    },
    {
     "data": {
      "text/plain": [
       "XGBRegressor(base_score=0.5, colsample_bylevel=1, colsample_bytree=1, gamma=0,\n",
       "       learning_rate=0.1, max_delta_step=0, max_depth=9,\n",
       "       min_child_weight=4, missing=None, n_estimators=100, nthread=1,\n",
       "       objective='reg:linear', reg_alpha=0, reg_lambda=1,\n",
       "       scale_pos_weight=1, seed=0, silent=False, subsample=0.88)"
      ]
     },
     "execution_count": 44,
     "metadata": {},
     "output_type": "execute_result"
    }
   ],
   "source": [
    "lrn.fit(X_train,y_train, eval_metric='rmse', eval_set=[(X_train, y_train),(X_val, y_val)], verbose=True, learning_rates=cosine_annealing)"
   ]
  },
  {
   "cell_type": "markdown",
   "metadata": {
    "colab_type": "text",
    "id": "MKZIzHS90EYd"
   },
   "source": [
    "A little bit better on the validation set than doing just on 2011....which is kind of surprising: does this mean I did better?"
   ]
  },
  {
   "cell_type": "markdown",
   "metadata": {},
   "source": [
    "## Iterations"
   ]
  },
  {
   "cell_type": "markdown",
   "metadata": {},
   "source": [
    "We will look at a two methods to measure feature importance:\n",
    "- height of feature in tree (inferred from the times the feature appears in the model - the fewer, the higher it is in the tree)\n",
    "- average gain"
   ]
  },
  {
   "cell_type": "code",
   "execution_count": 54,
   "metadata": {},
   "outputs": [],
   "source": [
    "FI_height = lrn.booster().get_score(importance_type='weight')"
   ]
  },
  {
   "cell_type": "code",
   "execution_count": 58,
   "metadata": {},
   "outputs": [
    {
     "data": {
      "text/plain": [
       "{'atemp': 0.9267051705170517,\n",
       " 'holiday': 0.9893656032269894,\n",
       " 'hour': 0.8326916024935826,\n",
       " 'humidity': 0.8221947194719472,\n",
       " 'month': 0.9286762009534286,\n",
       " 'season': 0.964979831316465,\n",
       " 'temp': 0.8633113311331133,\n",
       " 'weather': 0.9486156949028236,\n",
       " 'weekday': 0.9022277227722773,\n",
       " 'windspeed': 0.8800880088008801,\n",
       " 'workingday': 0.9738265493215988,\n",
       " 'year': 0.9673175650898423}"
      ]
     },
     "execution_count": 58,
     "metadata": {},
     "output_type": "execute_result"
    }
   ],
   "source": [
    "numfeatures = len(FI_height)\n",
    "sum = 0\n",
    "for feature, importance in FI_height.items():\n",
    "    sum += importance\n",
    "for feature, importance in FI_height.items():\n",
    "    FI_height[feature] =  1 - (FI_height[feature] / sum)\n",
    "FI_height"
   ]
  },
  {
   "cell_type": "markdown",
   "metadata": {
    "colab_type": "text",
    "id": "_y3PlFVo0EYe"
   },
   "source": [
    "## Submit"
   ]
  },
  {
   "cell_type": "code",
   "execution_count": 45,
   "metadata": {
    "colab": {
     "autoexec": {
      "startup": false,
      "wait_interval": 0
     }
    },
    "colab_type": "code",
    "id": "HMjX_Edp0EYe"
   },
   "outputs": [],
   "source": [
    "preds = np.expm1(lrn.predict(df_test))"
   ]
  },
  {
   "cell_type": "code",
   "execution_count": 46,
   "metadata": {
    "colab": {
     "autoexec": {
      "startup": false,
      "wait_interval": 0
     }
    },
    "colab_type": "code",
    "id": "qVo879U70EYh",
    "outputId": "0438de4b-cdf0-4e5b-e8cb-f2abc103f833"
   },
   "outputs": [
    {
     "data": {
      "text/plain": [
       "array([   9.32265091,    4.12940454,    3.51157427, ...,  117.84698486,\n",
       "         88.06552124,   56.8969841 ], dtype=float32)"
      ]
     },
     "execution_count": 46,
     "metadata": {},
     "output_type": "execute_result"
    }
   ],
   "source": [
    "preds"
   ]
  },
  {
   "cell_type": "code",
   "execution_count": 47,
   "metadata": {
    "colab": {
     "autoexec": {
      "startup": false,
      "wait_interval": 0
     }
    },
    "colab_type": "code",
    "id": "XH_LMaWH0EYk"
   },
   "outputs": [],
   "source": [
    "results = pd.DataFrame()\n",
    "results['datetime'] = test_datetime\n",
    "results['count'] = pd.Series(preds)"
   ]
  },
  {
   "cell_type": "code",
   "execution_count": 48,
   "metadata": {
    "colab": {
     "autoexec": {
      "startup": false,
      "wait_interval": 0
     }
    },
    "colab_type": "code",
    "id": "wj9UE8Z20EYm"
   },
   "outputs": [],
   "source": [
    "results.to_csv('bike_sharing_submission.csv', index=False)"
   ]
  }
 ],
 "metadata": {
  "colab": {
   "default_view": {},
   "name": "Bike Sharing.ipynb",
   "provenance": [],
   "version": "0.3.2",
   "views": {}
  },
  "kernelspec": {
   "display_name": "Python 3",
   "language": "python",
   "name": "python3"
  },
  "language_info": {
   "codemirror_mode": {
    "name": "ipython",
    "version": 3
   },
   "file_extension": ".py",
   "mimetype": "text/x-python",
   "name": "python",
   "nbconvert_exporter": "python",
   "pygments_lexer": "ipython3",
   "version": "3.6.4"
  }
 },
 "nbformat": 4,
 "nbformat_minor": 1
}
