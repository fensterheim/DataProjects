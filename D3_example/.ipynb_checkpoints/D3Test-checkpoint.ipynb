{
 "cells": [
  {
   "cell_type": "markdown",
   "metadata": {},
   "source": [
    "# D3 Test - test how to embed d3 into jupyter notebook\n",
    "based on:\n",
    "    cannot embed d3 to jupyter bug: https://github.com/mpld3/mpld3/issues/33#issuecomment-32101013\n",
    "    blogpost regarding embedding d3 in jupyter: http://www.bogotobogo.com/python/IPython/iPython_Jupyter_Notebook_with_Embedded_D3.php"
   ]
  },
  {
   "cell_type": "code",
   "execution_count": 1,
   "metadata": {},
   "outputs": [
    {
     "data": {
      "text/html": [
       "\n",
       "<style> \n",
       " </style>\n",
       "<div id=\"animation\"></div>\n",
       "<script> \n",
       "       console.log(\"in javascript\");\n",
       "       require.config({paths: {d3: \"http://localhost:8888/notebooks/lib/d3/d3.min\"}});\n",
       "       require([\"d3\"], function(d3) {\n",
       "           console.log(\"in require\");\n",
       "            console.log(d3.version)\n",
       "            console.log(d3)\n",
       "            var bogoSVG = d3.select(\"#animation\") \n",
       "          .append(\"svg\")\n",
       "          .attr(\"width\", 300)\n",
       "          .attr(\"height\", 300);    \n",
       "\n",
       "      var data = [{\"r\": 130, \"cx\": 150, \"cy\": 150}] ;\n",
       "       bogoSVG.append(\"circle\")\n",
       "          .style(\"stroke\", \"gray\")\n",
       "          .style(\"fill\", \"cyan\")\n",
       "          .attr(\"r\", data[0]['r'])\n",
       "          .attr(\"cx\", data[0]['cx'])\n",
       "          .attr(\"cy\", data[0]['cy'])\n",
       "          .transition()\n",
       "             .delay(100)\n",
       "             .duration(20000)  \n",
       "             .attr(\"r\", 10)\n",
       "             .attr(\"cx\", data[0]['cx'])\n",
       "             .style(\"fill\", \"blue\"); \n",
       "            \n",
       "       });\n",
       "       \n",
       " </script>\n"
      ],
      "text/plain": [
       "<IPython.core.display.HTML object>"
      ]
     },
     "execution_count": 1,
     "metadata": {},
     "output_type": "execute_result"
    }
   ],
   "source": [
    "from IPython.core.display import display, HTML\n",
    "from string import Template\n",
    "import json\n",
    "\n",
    "css_text = '''\n",
    "'''\n",
    "js_text_template = Template('''\n",
    "       console.log(\"in javascript\");\n",
    "       require.config({paths: {d3: \"http://localhost:8888/notebooks/lib/d3/d3.min\"}});\n",
    "       require([\"d3\"], function(d3) {\n",
    "           console.log(\"in require\");\n",
    "            console.log(d3.version)\n",
    "            console.log(d3)\n",
    "            var bogoSVG = d3.select(\"#$bogoanimation\") \n",
    "          .append(\"svg\")\n",
    "          .attr(\"width\", 300)\n",
    "          .attr(\"height\", 300);    \n",
    "\n",
    "      var data = $python_data ;\n",
    "       bogoSVG.append(\"circle\")\n",
    "          .style(\"stroke\", \"gray\")\n",
    "          .style(\"fill\", \"cyan\")\n",
    "          .attr(\"r\", data[0]['r'])\n",
    "          .attr(\"cx\", data[0]['cx'])\n",
    "          .attr(\"cy\", data[0]['cy'])\n",
    "          .transition()\n",
    "             .delay(100)\n",
    "             .duration(20000)  \n",
    "             .attr(\"r\", 10)\n",
    "             .attr(\"cx\", data[0]['cx'])\n",
    "             .style(\"fill\", \"blue\"); \n",
    "            \n",
    "       });\n",
    "       \n",
    "''')\n",
    "\n",
    "\n",
    "html_template = Template('''\n",
    "<style> $css_text </style>\n",
    "<div id=\"animation\"></div>\n",
    "<script> $js_text </script>\n",
    "''')\n",
    "\n",
    "\n",
    "js_text = js_text_template.substitute({'python_data': json.dumps([{'r': 130, 'cx': 150, 'cy': 150}]),\n",
    "                                       'bogoanimation': 'animation'})\n",
    "\n",
    "\n",
    "HTML(html_template.substitute({'css_text': css_text, 'js_text': js_text}))"
   ]
  },
  {
   "cell_type": "code",
   "execution_count": null,
   "metadata": {},
   "outputs": [],
   "source": []
  }
 ],
 "metadata": {
  "kernelspec": {
   "display_name": "Python 3",
   "language": "python",
   "name": "python3"
  },
  "language_info": {
   "codemirror_mode": {
    "name": "ipython",
    "version": 3
   },
   "file_extension": ".py",
   "mimetype": "text/x-python",
   "name": "python",
   "nbconvert_exporter": "python",
   "pygments_lexer": "ipython3",
   "version": "3.6.4"
  }
 },
 "nbformat": 4,
 "nbformat_minor": 2
}
